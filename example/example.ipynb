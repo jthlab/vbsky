{
 "cells": [
  {
   "cell_type": "markdown",
   "metadata": {},
   "source": [
    "## Example with HCV data"
   ]
  },
  {
   "cell_type": "code",
   "execution_count": 1,
   "metadata": {
    "ExecuteTime": {
     "end_time": "2022-02-18T03:47:05.303701Z",
     "start_time": "2022-02-18T03:47:03.522359Z"
    }
   },
   "outputs": [
    {
     "name": "stderr",
     "output_type": "stream",
     "text": [
      "/var/folders/cl/0ml94kbd37bdb3f0y3rx3wfc0000gr/T/ipykernel_19577/832447998.py:5: DeprecationWarning: `set_matplotlib_formats` is deprecated since IPython 7.23, directly use `matplotlib_inline.backend_inline.set_matplotlib_formats()`\n",
      "  set_matplotlib_formats(\"svg\")\n",
      "/Users/calebki/.pyenv/versions/3.9.7/lib/python3.9/site-packages/jax/experimental/optimizers.py:28: FutureWarning: jax.experimental.optimizers is deprecated, import jax.example_libraries.optimizers instead\n",
      "  warnings.warn('jax.experimental.optimizers is deprecated, '\n",
      "/Users/calebki/.pyenv/versions/3.9.7/lib/python3.9/site-packages/jax/experimental/stax.py:28: FutureWarning: jax.experimental.stax is deprecated, import jax.example_libraries.stax instead\n",
      "  warnings.warn('jax.experimental.stax is deprecated, '\n"
     ]
    },
    {
     "data": {
      "application/javascript": "\n            setTimeout(function() {\n                var nbb_cell_id = 1;\n                var nbb_unformatted_code = \"%load_ext nb_black\\n# %matplotlib inline\\nimport matplotlib.pyplot as plt\\nfrom IPython.display import set_matplotlib_formats\\nset_matplotlib_formats(\\\"svg\\\")\\n\\nfrom Bio import AlignIO\\nimport numpy as np\\nimport jax.numpy as jnp\\nimport jax\\nfrom jax.scipy.special import xlogy\\n\\njax.config.update(\\\"jax_enable_x64\\\", True)\\n\\nfrom vbsky.fasta import SeqData\\nfrom vbsky.bdsky import _lognorm_logpdf\\nfrom vbsky.prob import VF\\nfrom vbsky.prob.transform import (\\n    Transform,\\n    Compose,\\n    Positive,\\n    ZeroOne,\\n    DiagonalAffine,\\n    Exp,\\n)\\nfrom vbsky.prob.distribution import Constant\\n\\nfrom vbsky.plot import plot_helper, plot_one\\n\\npos = Compose(DiagonalAffine, Exp)\\nplus = Compose(DiagonalAffine, Positive)\\nz1 = Compose(DiagonalAffine, ZeroOne)\";\n                var nbb_formatted_code = \"%load_ext nb_black\\n# %matplotlib inline\\nimport matplotlib.pyplot as plt\\nfrom IPython.display import set_matplotlib_formats\\n\\nset_matplotlib_formats(\\\"svg\\\")\\n\\nfrom Bio import AlignIO\\nimport numpy as np\\nimport jax.numpy as jnp\\nimport jax\\nfrom jax.scipy.special import xlogy\\n\\njax.config.update(\\\"jax_enable_x64\\\", True)\\n\\nfrom vbsky.fasta import SeqData\\nfrom vbsky.bdsky import _lognorm_logpdf\\nfrom vbsky.prob import VF\\nfrom vbsky.prob.transform import (\\n    Transform,\\n    Compose,\\n    Positive,\\n    ZeroOne,\\n    DiagonalAffine,\\n    Exp,\\n)\\nfrom vbsky.prob.distribution import Constant\\n\\nfrom vbsky.plot import plot_helper, plot_one\\n\\npos = Compose(DiagonalAffine, Exp)\\nplus = Compose(DiagonalAffine, Positive)\\nz1 = Compose(DiagonalAffine, ZeroOne)\";\n                var nbb_cells = Jupyter.notebook.get_cells();\n                for (var i = 0; i < nbb_cells.length; ++i) {\n                    if (nbb_cells[i].input_prompt_number == nbb_cell_id) {\n                        if (nbb_cells[i].get_text() == nbb_unformatted_code) {\n                             nbb_cells[i].set_text(nbb_formatted_code);\n                        }\n                        break;\n                    }\n                }\n            }, 500);\n            ",
      "text/plain": [
       "<IPython.core.display.Javascript object>"
      ]
     },
     "metadata": {},
     "output_type": "display_data"
    }
   ],
   "source": [
    "%load_ext nb_black\n",
    "# %matplotlib inline\n",
    "import matplotlib.pyplot as plt\n",
    "from IPython.display import set_matplotlib_formats\n",
    "set_matplotlib_formats(\"svg\")\n",
    "\n",
    "from Bio import AlignIO\n",
    "import numpy as np\n",
    "import jax.numpy as jnp\n",
    "import jax\n",
    "from jax.scipy.special import xlogy\n",
    "\n",
    "jax.config.update(\"jax_enable_x64\", True)\n",
    "\n",
    "from vbsky.fasta import SeqData\n",
    "from vbsky.bdsky import _lognorm_logpdf\n",
    "from vbsky.prob import VF\n",
    "from vbsky.prob.transform import (\n",
    "    Transform,\n",
    "    Compose,\n",
    "    Positive,\n",
    "    ZeroOne,\n",
    "    DiagonalAffine,\n",
    "    Exp,\n",
    ")\n",
    "from vbsky.prob.distribution import Constant\n",
    "\n",
    "from vbsky.plot import plot_helper, plot_one\n",
    "\n",
    "pos = Compose(DiagonalAffine, Exp)\n",
    "plus = Compose(DiagonalAffine, Positive)\n",
    "z1 = Compose(DiagonalAffine, ZeroOne)"
   ]
  },
  {
   "cell_type": "markdown",
   "metadata": {},
   "source": [
    "#### Import Data"
   ]
  },
  {
   "cell_type": "code",
   "execution_count": 2,
   "metadata": {
    "ExecuteTime": {
     "end_time": "2022-02-18T03:47:05.339972Z",
     "start_time": "2022-02-18T03:47:05.306885Z"
    }
   },
   "outputs": [
    {
     "data": {
      "application/javascript": "\n            setTimeout(function() {\n                var nbb_cell_id = 2;\n                var nbb_unformatted_code = \"hcv = AlignIO.read(\\\"HCV.nexus\\\", format=\\\"nexus\\\")\\ndata = SeqData(hcv, gisaid=False, contemp=True, dates=1993.0)\";\n                var nbb_formatted_code = \"hcv = AlignIO.read(\\\"HCV.nexus\\\", format=\\\"nexus\\\")\\ndata = SeqData(hcv, gisaid=False, contemp=True, dates=1993.0)\";\n                var nbb_cells = Jupyter.notebook.get_cells();\n                for (var i = 0; i < nbb_cells.length; ++i) {\n                    if (nbb_cells[i].input_prompt_number == nbb_cell_id) {\n                        if (nbb_cells[i].get_text() == nbb_unformatted_code) {\n                             nbb_cells[i].set_text(nbb_formatted_code);\n                        }\n                        break;\n                    }\n                }\n            }, 500);\n            ",
      "text/plain": [
       "<IPython.core.display.Javascript object>"
      ]
     },
     "metadata": {},
     "output_type": "display_data"
    }
   ],
   "source": [
    "hcv = AlignIO.read(\"HCV.nexus\", format=\"nexus\")\n",
    "data = SeqData(hcv, gisaid=False, contemp=True, dates=1993.0)"
   ]
  },
  {
   "cell_type": "markdown",
   "metadata": {},
   "source": [
    "#### Data Preprocessing"
   ]
  },
  {
   "cell_type": "code",
   "execution_count": 3,
   "metadata": {
    "ExecuteTime": {
     "end_time": "2022-02-18T03:47:11.733261Z",
     "start_time": "2022-02-18T03:47:05.341529Z"
    }
   },
   "outputs": [
    {
     "name": "stdout",
     "output_type": "stream",
     "text": [
      "Readying trees\n"
     ]
    },
    {
     "name": "stderr",
     "output_type": "stream",
     "text": [
      "100%|██████████| 10/10 [00:00<00:00, 43.89it/s]"
     ]
    },
    {
     "name": "stdout",
     "output_type": "stream",
     "text": [
      "Writing phylo trees\n",
      "Processing trees\n"
     ]
    },
    {
     "name": "stderr",
     "output_type": "stream",
     "text": [
      "\n",
      "  0%|          | 0/10 [00:00<?, ?it/s]/Users/calebki/.pyenv/versions/3.9.7/lib/python3.9/site-packages/jax/experimental/optimizers.py:28: FutureWarning: jax.experimental.optimizers is deprecated, import jax.example_libraries.optimizers instead\n",
      "  warnings.warn('jax.experimental.optimizers is deprecated, '\n",
      "/Users/calebki/.pyenv/versions/3.9.7/lib/python3.9/site-packages/jax/experimental/optimizers.py:28: FutureWarning: jax.experimental.optimizers is deprecated, import jax.example_libraries.optimizers instead\n",
      "  warnings.warn('jax.experimental.optimizers is deprecated, '\n",
      "/Users/calebki/.pyenv/versions/3.9.7/lib/python3.9/site-packages/jax/experimental/optimizers.py:28: FutureWarning: jax.experimental.optimizers is deprecated, import jax.example_libraries.optimizers instead\n",
      "  warnings.warn('jax.experimental.optimizers is deprecated, '\n",
      "/Users/calebki/.pyenv/versions/3.9.7/lib/python3.9/site-packages/jax/experimental/optimizers.py:28: FutureWarning: jax.experimental.optimizers is deprecated, import jax.example_libraries.optimizers instead\n",
      "  warnings.warn('jax.experimental.optimizers is deprecated, '\n",
      "/Users/calebki/.pyenv/versions/3.9.7/lib/python3.9/site-packages/jax/experimental/optimizers.py:28: FutureWarning: jax.experimental.optimizers is deprecated, import jax.example_libraries.optimizers instead\n",
      "  warnings.warn('jax.experimental.optimizers is deprecated, '\n",
      "/Users/calebki/.pyenv/versions/3.9.7/lib/python3.9/site-packages/jax/experimental/optimizers.py:28: FutureWarning: jax.experimental.optimizers is deprecated, import jax.example_libraries.optimizers instead\n",
      "  warnings.warn('jax.experimental.optimizers is deprecated, '\n",
      "/Users/calebki/.pyenv/versions/3.9.7/lib/python3.9/site-packages/jax/experimental/optimizers.py:28: FutureWarning: jax.experimental.optimizers is deprecated, import jax.example_libraries.optimizers instead\n",
      "  warnings.warn('jax.experimental.optimizers is deprecated, '\n",
      "/Users/calebki/.pyenv/versions/3.9.7/lib/python3.9/site-packages/jax/experimental/optimizers.py:28: FutureWarning: jax.experimental.optimizers is deprecated, import jax.example_libraries.optimizers instead\n",
      "  warnings.warn('jax.experimental.optimizers is deprecated, '\n",
      "/Users/calebki/.pyenv/versions/3.9.7/lib/python3.9/site-packages/jax/experimental/stax.py:28: FutureWarning: jax.experimental.stax is deprecated, import jax.example_libraries.stax instead\n",
      "  warnings.warn('jax.experimental.stax is deprecated, '\n",
      "/Users/calebki/.pyenv/versions/3.9.7/lib/python3.9/site-packages/jax/experimental/stax.py:28: FutureWarning: jax.experimental.stax is deprecated, import jax.example_libraries.stax instead\n",
      "  warnings.warn('jax.experimental.stax is deprecated, '\n",
      " 10%|█         | 1/10 [00:03<00:30,  3.40s/it]/Users/calebki/.pyenv/versions/3.9.7/lib/python3.9/site-packages/jax/experimental/stax.py:28: FutureWarning: jax.experimental.stax is deprecated, import jax.example_libraries.stax instead\n",
      "  warnings.warn('jax.experimental.stax is deprecated, '\n",
      "/Users/calebki/.pyenv/versions/3.9.7/lib/python3.9/site-packages/jax/experimental/stax.py:28: FutureWarning: jax.experimental.stax is deprecated, import jax.example_libraries.stax instead\n",
      "  warnings.warn('jax.experimental.stax is deprecated, '\n",
      "/Users/calebki/.pyenv/versions/3.9.7/lib/python3.9/site-packages/jax/experimental/stax.py:28: FutureWarning: jax.experimental.stax is deprecated, import jax.example_libraries.stax instead\n",
      "  warnings.warn('jax.experimental.stax is deprecated, '\n",
      "/Users/calebki/.pyenv/versions/3.9.7/lib/python3.9/site-packages/jax/experimental/stax.py:28: FutureWarning: jax.experimental.stax is deprecated, import jax.example_libraries.stax instead\n",
      "  warnings.warn('jax.experimental.stax is deprecated, '\n",
      "/Users/calebki/.pyenv/versions/3.9.7/lib/python3.9/site-packages/jax/experimental/stax.py:28: FutureWarning: jax.experimental.stax is deprecated, import jax.example_libraries.stax instead\n",
      "  warnings.warn('jax.experimental.stax is deprecated, '\n",
      "/Users/calebki/.pyenv/versions/3.9.7/lib/python3.9/site-packages/jax/experimental/stax.py:28: FutureWarning: jax.experimental.stax is deprecated, import jax.example_libraries.stax instead\n",
      "  warnings.warn('jax.experimental.stax is deprecated, '\n",
      "100%|██████████| 10/10 [00:03<00:00,  2.91it/s]\n"
     ]
    },
    {
     "name": "stdout",
     "output_type": "stream",
     "text": [
      "Readying tip data\n"
     ]
    },
    {
     "name": "stderr",
     "output_type": "stream",
     "text": [
      "  0%|          | 0/10 [00:00<?, ?it/s]/Users/calebki/.pyenv/versions/3.9.7/lib/python3.9/site-packages/jax/experimental/optimizers.py:28: FutureWarning: jax.experimental.optimizers is deprecated, import jax.example_libraries.optimizers instead\n",
      "  warnings.warn('jax.experimental.optimizers is deprecated, '\n",
      "/Users/calebki/.pyenv/versions/3.9.7/lib/python3.9/site-packages/jax/experimental/optimizers.py:28: FutureWarning: jax.experimental.optimizers is deprecated, import jax.example_libraries.optimizers instead\n",
      "  warnings.warn('jax.experimental.optimizers is deprecated, '\n",
      "/Users/calebki/.pyenv/versions/3.9.7/lib/python3.9/site-packages/jax/experimental/optimizers.py:28: FutureWarning: jax.experimental.optimizers is deprecated, import jax.example_libraries.optimizers instead\n",
      "  warnings.warn('jax.experimental.optimizers is deprecated, '\n",
      "/Users/calebki/.pyenv/versions/3.9.7/lib/python3.9/site-packages/jax/experimental/optimizers.py:28: FutureWarning: jax.experimental.optimizers is deprecated, import jax.example_libraries.optimizers instead\n",
      "  warnings.warn('jax.experimental.optimizers is deprecated, '\n",
      "/Users/calebki/.pyenv/versions/3.9.7/lib/python3.9/site-packages/jax/experimental/optimizers.py:28: FutureWarning: jax.experimental.optimizers is deprecated, import jax.example_libraries.optimizers instead\n",
      "  warnings.warn('jax.experimental.optimizers is deprecated, '\n",
      "/Users/calebki/.pyenv/versions/3.9.7/lib/python3.9/site-packages/jax/experimental/optimizers.py:28: FutureWarning: jax.experimental.optimizers is deprecated, import jax.example_libraries.optimizers instead\n",
      "  warnings.warn('jax.experimental.optimizers is deprecated, '\n",
      "/Users/calebki/.pyenv/versions/3.9.7/lib/python3.9/site-packages/jax/experimental/optimizers.py:28: FutureWarning: jax.experimental.optimizers is deprecated, import jax.example_libraries.optimizers instead\n",
      "  warnings.warn('jax.experimental.optimizers is deprecated, '\n",
      "/Users/calebki/.pyenv/versions/3.9.7/lib/python3.9/site-packages/jax/experimental/optimizers.py:28: FutureWarning: jax.experimental.optimizers is deprecated, import jax.example_libraries.optimizers instead\n",
      "  warnings.warn('jax.experimental.optimizers is deprecated, '\n",
      "/Users/calebki/.pyenv/versions/3.9.7/lib/python3.9/site-packages/jax/experimental/stax.py:28: FutureWarning: jax.experimental.stax is deprecated, import jax.example_libraries.stax instead\n",
      "  warnings.warn('jax.experimental.stax is deprecated, '\n",
      "/Users/calebki/.pyenv/versions/3.9.7/lib/python3.9/site-packages/jax/experimental/stax.py:28: FutureWarning: jax.experimental.stax is deprecated, import jax.example_libraries.stax instead\n",
      "  warnings.warn('jax.experimental.stax is deprecated, '\n",
      "/Users/calebki/.pyenv/versions/3.9.7/lib/python3.9/site-packages/jax/experimental/stax.py:28: FutureWarning: jax.experimental.stax is deprecated, import jax.example_libraries.stax instead\n",
      "  warnings.warn('jax.experimental.stax is deprecated, '\n",
      "/Users/calebki/.pyenv/versions/3.9.7/lib/python3.9/site-packages/jax/experimental/stax.py:28: FutureWarning: jax.experimental.stax is deprecated, import jax.example_libraries.stax instead\n",
      "  warnings.warn('jax.experimental.stax is deprecated, '\n",
      "/Users/calebki/.pyenv/versions/3.9.7/lib/python3.9/site-packages/jax/experimental/stax.py:28: FutureWarning: jax.experimental.stax is deprecated, import jax.example_libraries.stax instead\n",
      "  warnings.warn('jax.experimental.stax is deprecated, '\n",
      "/Users/calebki/.pyenv/versions/3.9.7/lib/python3.9/site-packages/jax/experimental/stax.py:28: FutureWarning: jax.experimental.stax is deprecated, import jax.example_libraries.stax instead\n",
      "  warnings.warn('jax.experimental.stax is deprecated, '\n",
      " 10%|█         | 1/10 [00:03<00:30,  3.41s/it]/Users/calebki/.pyenv/versions/3.9.7/lib/python3.9/site-packages/jax/experimental/stax.py:28: FutureWarning: jax.experimental.stax is deprecated, import jax.example_libraries.stax instead\n",
      "  warnings.warn('jax.experimental.stax is deprecated, '\n",
      "/Users/calebki/.pyenv/versions/3.9.7/lib/python3.9/site-packages/jax/experimental/stax.py:28: FutureWarning: jax.experimental.stax is deprecated, import jax.example_libraries.stax instead\n",
      "  warnings.warn('jax.experimental.stax is deprecated, '\n",
      "100%|██████████| 10/10 [00:03<00:00,  2.92it/s]\n"
     ]
    },
    {
     "data": {
      "application/javascript": "\n            setTimeout(function() {\n                var nbb_cell_id = 3;\n                var nbb_unformatted_code = \"n_tips = 10 #Number of tips per tree\\nn_trees = 10 #Number of trees\\ntemp_folder = \\\"./\\\" #Place to save temporary folders\\ntree_path = \\\"./subsample.trees\\\"\\n\\ndata.prep_data(\\n    n_tips,\\n    n_trees,\\n    temp_folder,\\n    tree_path,\\n)\";\n                var nbb_formatted_code = \"n_tips = 10  # Number of tips per tree\\nn_trees = 10  # Number of trees\\ntemp_folder = \\\"./\\\"  # Place to save temporary folders\\ntree_path = \\\"./subsample.trees\\\"\\n\\ndata.prep_data(\\n    n_tips,\\n    n_trees,\\n    temp_folder,\\n    tree_path,\\n)\";\n                var nbb_cells = Jupyter.notebook.get_cells();\n                for (var i = 0; i < nbb_cells.length; ++i) {\n                    if (nbb_cells[i].input_prompt_number == nbb_cell_id) {\n                        if (nbb_cells[i].get_text() == nbb_unformatted_code) {\n                             nbb_cells[i].set_text(nbb_formatted_code);\n                        }\n                        break;\n                    }\n                }\n            }, 500);\n            ",
      "text/plain": [
       "<IPython.core.display.Javascript object>"
      ]
     },
     "metadata": {},
     "output_type": "display_data"
    }
   ],
   "source": [
    "n_tips = 10 #Number of tips per tree\n",
    "n_trees = 10 #Number of trees\n",
    "temp_folder = \"./\" #Place to save temporary folders\n",
    "tree_path = \"./subsample.trees\"\n",
    "\n",
    "data.prep_data(\n",
    "    n_tips,\n",
    "    n_trees,\n",
    "    temp_folder,\n",
    "    tree_path,\n",
    ")"
   ]
  },
  {
   "cell_type": "markdown",
   "metadata": {},
   "source": [
    "#### Define Priors and Parameters"
   ]
  },
  {
   "cell_type": "code",
   "execution_count": 4,
   "metadata": {
    "ExecuteTime": {
     "end_time": "2022-02-18T03:47:11.788941Z",
     "start_time": "2022-02-18T03:47:11.737093Z"
    }
   },
   "outputs": [
    {
     "data": {
      "application/javascript": "\n            setTimeout(function() {\n                var nbb_cell_id = 4;\n                var nbb_unformatted_code = \"def _params_prior_loglik(params):\\n    ll = 0\\n    tau = {\\\"R\\\": params[\\\"precision_R\\\"][0], \\\"delta\\\": params[\\\"precision_delta\\\"][0]}\\n    ll += jax.scipy.stats.gamma.logpdf(tau[\\\"R\\\"], a=0.001, scale=1 / 0.001)\\n    ll += jax.scipy.stats.gamma.logpdf(tau[\\\"delta\\\"], a=0.001, scale=1 / 0.001)\\n    ll += jax.scipy.stats.beta.logpdf(params[\\\"rho_m\\\"], 1, 9999).sum()\\n\\n    mus = [1.0, 1.0, 1.0]\\n    sigmas = [1.25, 1.25, 1.25]\\n\\n    for i, k in enumerate([\\\"R\\\", \\\"delta\\\", \\\"origin\\\"]):\\n        log_rate = jnp.log(params[k])\\n        ll += _lognorm_logpdf(log_rate, mu=mus[i], sigma=sigmas[i]).sum()\\n\\n    for k in [\\\"R\\\", \\\"delta\\\"]:\\n        log_rate = jnp.log(params[k])\\n        ll -= (tau[k] / 2) * (jnp.diff(log_rate) ** 2).sum()\\n        m = len(log_rate)\\n        ll += xlogy((m - 1) / 2, tau[k] / (2 * jnp.pi))\\n\\n    return ll\\n\\n\\nm = 10\\n\\nlocal_flows = [\\n    {\\\"proportions\\\": Transform(td.n - 2, z1), \\\"root_proportion\\\": Transform(1, z1)}\\n    for td in data.tds\\n]\\n\\nglobal_flows = VF(\\n    origin=Transform(1, pos),\\n    origin_start=Constant(0.0),\\n    delta=Transform(m, pos),\\n    R=Transform(m, pos),\\n    rho_m=Transform(1, z1),\\n    s=Constant(np.repeat(0.00, m)),\\n    precision_R=Transform(1, pos),\\n    precision_delta=Transform(1, pos),\\n    clock_rate=Constant(0.79e-3),\\n)\\n\\ndata.setup_flows(global_flows, local_flows)\";\n                var nbb_formatted_code = \"def _params_prior_loglik(params):\\n    ll = 0\\n    tau = {\\\"R\\\": params[\\\"precision_R\\\"][0], \\\"delta\\\": params[\\\"precision_delta\\\"][0]}\\n    ll += jax.scipy.stats.gamma.logpdf(tau[\\\"R\\\"], a=0.001, scale=1 / 0.001)\\n    ll += jax.scipy.stats.gamma.logpdf(tau[\\\"delta\\\"], a=0.001, scale=1 / 0.001)\\n    ll += jax.scipy.stats.beta.logpdf(params[\\\"rho_m\\\"], 1, 9999).sum()\\n\\n    mus = [1.0, 1.0, 1.0]\\n    sigmas = [1.25, 1.25, 1.25]\\n\\n    for i, k in enumerate([\\\"R\\\", \\\"delta\\\", \\\"origin\\\"]):\\n        log_rate = jnp.log(params[k])\\n        ll += _lognorm_logpdf(log_rate, mu=mus[i], sigma=sigmas[i]).sum()\\n\\n    for k in [\\\"R\\\", \\\"delta\\\"]:\\n        log_rate = jnp.log(params[k])\\n        ll -= (tau[k] / 2) * (jnp.diff(log_rate) ** 2).sum()\\n        m = len(log_rate)\\n        ll += xlogy((m - 1) / 2, tau[k] / (2 * jnp.pi))\\n\\n    return ll\\n\\n\\nm = 10\\n\\nlocal_flows = [\\n    {\\\"proportions\\\": Transform(td.n - 2, z1), \\\"root_proportion\\\": Transform(1, z1)}\\n    for td in data.tds\\n]\\n\\nglobal_flows = VF(\\n    origin=Transform(1, pos),\\n    origin_start=Constant(0.0),\\n    delta=Transform(m, pos),\\n    R=Transform(m, pos),\\n    rho_m=Transform(1, z1),\\n    s=Constant(np.repeat(0.00, m)),\\n    precision_R=Transform(1, pos),\\n    precision_delta=Transform(1, pos),\\n    clock_rate=Constant(0.79e-3),\\n)\\n\\ndata.setup_flows(global_flows, local_flows)\";\n                var nbb_cells = Jupyter.notebook.get_cells();\n                for (var i = 0; i < nbb_cells.length; ++i) {\n                    if (nbb_cells[i].input_prompt_number == nbb_cell_id) {\n                        if (nbb_cells[i].get_text() == nbb_unformatted_code) {\n                             nbb_cells[i].set_text(nbb_formatted_code);\n                        }\n                        break;\n                    }\n                }\n            }, 500);\n            ",
      "text/plain": [
       "<IPython.core.display.Javascript object>"
      ]
     },
     "metadata": {},
     "output_type": "display_data"
    }
   ],
   "source": [
    "#Define a function to give value of prior given parameters\n",
    "def _params_prior_loglik(params):\n",
    "    ll = 0\n",
    "    tau = {\"R\": params[\"precision_R\"][0], \"delta\": params[\"precision_delta\"][0]}\n",
    "    ll += jax.scipy.stats.gamma.logpdf(tau[\"R\"], a=0.001, scale=1 / 0.001)\n",
    "    ll += jax.scipy.stats.gamma.logpdf(tau[\"delta\"], a=0.001, scale=1 / 0.001)\n",
    "    ll += jax.scipy.stats.beta.logpdf(params[\"rho_m\"], 1, 9999).sum()\n",
    "\n",
    "    mus = [1.0, 1.0, 1.0]\n",
    "    sigmas = [1.25, 1.25, 1.25]\n",
    "\n",
    "    for i, k in enumerate([\"R\", \"delta\", \"origin\"]):\n",
    "        log_rate = jnp.log(params[k])\n",
    "        ll += _lognorm_logpdf(log_rate, mu=mus[i], sigma=sigmas[i]).sum()\n",
    "\n",
    "    for k in [\"R\", \"delta\"]:\n",
    "        log_rate = jnp.log(params[k])\n",
    "        ll -= (tau[k] / 2) * (jnp.diff(log_rate) ** 2).sum()\n",
    "        m = len(log_rate)\n",
    "        ll += xlogy((m - 1) / 2, tau[k] / (2 * jnp.pi))\n",
    "\n",
    "    return ll\n",
    "\n",
    "\n",
    "m = 10 #Number of intervals \n",
    "\n",
    "# Define local parameters for the different trees in our ensemble\n",
    "local_flows = [\n",
    "    {\"proportions\": Transform(td.n - 2, z1), \"root_proportion\": Transform(1, z1)}\n",
    "    for td in data.tds\n",
    "]\n",
    "\n",
    "# Define global epidemiological parameters\n",
    "global_flows = VF(\n",
    "    origin=Transform(1, pos),\n",
    "    origin_start=Constant(0.0),\n",
    "    delta=Transform(m, pos),\n",
    "    R=Transform(m, pos),\n",
    "    rho_m=Transform(1, z1),\n",
    "    s=Constant(np.repeat(0.00, m)),\n",
    "    precision_R=Transform(1, pos),\n",
    "    precision_delta=Transform(1, pos),\n",
    "    clock_rate=Constant(0.79e-3),\n",
    ")\n",
    "\n",
    "data.setup_flows(global_flows, local_flows)"
   ]
  },
  {
   "cell_type": "markdown",
   "metadata": {},
   "source": [
    "#### Run Optimization Loop"
   ]
  },
  {
   "cell_type": "code",
   "execution_count": 6,
   "metadata": {
    "ExecuteTime": {
     "end_time": "2022-02-18T03:47:37.878199Z",
     "start_time": "2022-02-18T03:47:11.790403Z"
    }
   },
   "outputs": [
    {
     "name": "stderr",
     "output_type": "stream",
     "text": [
      "100%|██████████| 100/100 [00:24<00:00,  4.14it/s]\n"
     ]
    },
    {
     "data": {
      "application/javascript": "\n            setTimeout(function() {\n                var nbb_cell_id = 6;\n                var nbb_unformatted_code = \"rng = jax.random.PRNGKey(6)\\nn_iter = 10\\nthreshold = 0.001\\nstep_size = 1.0\\n\\nres = data.loop(\\n    _params_prior_loglik, rng, n_iter, step_size=step_size, threshold=threshold,\\n)\";\n                var nbb_formatted_code = \"rng = jax.random.PRNGKey(6)\\nn_iter = 10\\nthreshold = 0.001\\nstep_size = 1.0\\n\\nres = data.loop(\\n    _params_prior_loglik,\\n    rng,\\n    n_iter,\\n    step_size=step_size,\\n    threshold=threshold,\\n)\";\n                var nbb_cells = Jupyter.notebook.get_cells();\n                for (var i = 0; i < nbb_cells.length; ++i) {\n                    if (nbb_cells[i].input_prompt_number == nbb_cell_id) {\n                        if (nbb_cells[i].get_text() == nbb_unformatted_code) {\n                             nbb_cells[i].set_text(nbb_formatted_code);\n                        }\n                        break;\n                    }\n                }\n            }, 500);\n            ",
      "text/plain": [
       "<IPython.core.display.Javascript object>"
      ]
     },
     "metadata": {},
     "output_type": "display_data"
    }
   ],
   "source": [
    "rng = jax.random.PRNGKey(6)\n",
    "n_iter = 10\n",
    "threshold = 0.001\n",
    "step_size = 1.0\n",
    "\n",
    "res = data.loop(\n",
    "    _params_prior_loglik, rng, n_iter, step_size=step_size, threshold=threshold,\n",
    ")"
   ]
  },
  {
   "cell_type": "markdown",
   "metadata": {},
   "source": [
    "#### Visualize Posteriors"
   ]
  },
  {
   "cell_type": "code",
   "execution_count": 7,
   "metadata": {
    "ExecuteTime": {
     "end_time": "2022-02-18T03:47:42.722840Z",
     "start_time": "2022-02-18T03:47:37.891683Z"
    }
   },
   "outputs": [
    {
     "data": {
      "text/plain": [
       "<matplotlib.legend.Legend at 0x132e65be0>"
      ]
     },
     "execution_count": 7,
     "metadata": {},
     "output_type": "execute_result"
    },
    {
     "data": {
      "image/svg+xml": "<?xml version=\"1.0\" encoding=\"utf-8\" standalone=\"no\"?>\n<!DOCTYPE svg PUBLIC \"-//W3C//DTD SVG 1.1//EN\"\n  \"http://www.w3.org/Graphics/SVG/1.1/DTD/svg11.dtd\">\n<svg height=\"250.758448pt\" version=\"1.1\" viewBox=\"0 0 385.903831 250.758448\" width=\"385.903831pt\" xmlns=\"http://www.w3.org/2000/svg\" xmlns:xlink=\"http://www.w3.org/1999/xlink\">\n <metadata>\n  <rdf:RDF xmlns:cc=\"http://creativecommons.org/ns#\" xmlns:dc=\"http://purl.org/dc/elements/1.1/\" xmlns:rdf=\"http://www.w3.org/1999/02/22-rdf-syntax-ns#\">\n   <cc:Work>\n    <dc:type rdf:resource=\"http://purl.org/dc/dcmitype/StillImage\"/>\n    <dc:date>2022-02-17T23:40:48.190084</dc:date>\n    <dc:format>image/svg+xml</dc:format>\n    <dc:creator>\n     <cc:Agent>\n      <dc:title>Matplotlib v3.4.3, https://matplotlib.org/</dc:title>\n     </cc:Agent>\n    </dc:creator>\n   </cc:Work>\n  </rdf:RDF>\n </metadata>\n <defs>\n  <style type=\"text/css\">*{stroke-linecap:butt;stroke-linejoin:round;}</style>\n </defs>\n <g id=\"figure_1\">\n  <g id=\"patch_1\">\n   <path d=\"M 0 250.758448 \nL 385.903831 250.758448 \nL 385.903831 0 \nL 0 0 \nz\n\" style=\"fill:none;\"/>\n  </g>\n  <g id=\"axes_1\">\n   <g id=\"patch_2\">\n    <path d=\"M 36.465625 226.880323 \nL 371.265625 226.880323 \nL 371.265625 9.440323 \nL 36.465625 9.440323 \nz\n\" style=\"fill:#ffffff;\"/>\n   </g>\n   <g id=\"PolyCollection_1\">\n    <defs>\n     <path d=\"M 51.683807 -101.421864 \nL 51.683807 -54.086136 \nL 54.758187 -54.224169 \nL 57.832567 -54.41452 \nL 60.906947 -54.453305 \nL 63.981327 -54.392656 \nL 67.055708 -54.315045 \nL 70.130088 -54.532153 \nL 73.204468 -54.42432 \nL 76.278848 -54.414121 \nL 79.353228 -54.478289 \nL 82.427608 -54.554946 \nL 85.501989 -54.533397 \nL 88.576369 -54.686809 \nL 91.650749 -54.777586 \nL 94.725129 -54.855294 \nL 97.799509 -55.023492 \nL 100.873889 -55.180308 \nL 103.94827 -55.214579 \nL 107.02265 -55.348771 \nL 110.09703 -55.563282 \nL 113.17141 -55.71848 \nL 116.24579 -55.922486 \nL 119.32017 -56.084682 \nL 122.394551 -56.338375 \nL 125.468931 -56.503752 \nL 128.543311 -56.753137 \nL 131.617691 -57.264598 \nL 134.692071 -57.481046 \nL 137.766451 -58.08863 \nL 140.840832 -58.411089 \nL 143.915212 -58.955554 \nL 146.989592 -59.719446 \nL 150.063972 -61.036929 \nL 153.138352 -62.301768 \nL 156.212732 -63.704539 \nL 159.287113 -65.515524 \nL 162.361493 -67.379857 \nL 165.435873 -70.164986 \nL 168.510253 -72.842648 \nL 171.584633 -77.167501 \nL 174.659013 -83.579234 \nL 177.733394 -87.875909 \nL 180.807774 -90.885454 \nL 183.882154 -93.368287 \nL 186.956534 -95.054465 \nL 190.030914 -96.42441 \nL 193.105294 -97.560443 \nL 196.179675 -98.439127 \nL 199.254055 -99.148107 \nL 202.328435 -99.785506 \nL 205.402815 -100.351545 \nL 208.477195 -100.580001 \nL 211.551575 -100.516952 \nL 214.625956 -100.504344 \nL 217.700336 -100.504344 \nL 220.774716 -100.346218 \nL 223.849096 -100.169522 \nL 226.923476 -100.037492 \nL 229.997856 -99.959874 \nL 233.072237 -99.766546 \nL 236.146617 -99.903988 \nL 239.220997 -99.822225 \nL 242.295377 -99.882011 \nL 245.369757 -99.903988 \nL 248.444137 -99.994667 \nL 251.518518 -100.392584 \nL 254.592898 -100.727309 \nL 257.667278 -100.914797 \nL 260.741658 -101.131376 \nL 263.816038 -101.389873 \nL 266.890418 -101.529385 \nL 269.964799 -101.530022 \nL 273.039179 -101.591044 \nL 276.113559 -101.627232 \nL 279.187939 -101.353315 \nL 282.262319 -101.065134 \nL 285.336699 -100.887712 \nL 288.41108 -100.890141 \nL 291.48546 -100.813335 \nL 294.55984 -100.864268 \nL 297.63422 -100.880428 \nL 300.7086 -100.951188 \nL 303.78298 -101.085727 \nL 306.857361 -101.471781 \nL 309.931741 -102.45575 \nL 313.006121 -103.935037 \nL 316.080501 -106.318371 \nL 319.154881 -108.14824 \nL 322.229261 -109.074011 \nL 325.303642 -109.142275 \nL 328.378022 -109.142275 \nL 331.452402 -109.142275 \nL 334.526782 -109.135143 \nL 337.601162 -108.932576 \nL 340.675542 -107.667419 \nL 343.749923 -107.150676 \nL 346.824303 -107.120594 \nL 349.898683 -107.120594 \nL 352.973063 -107.120594 \nL 356.047443 -107.120594 \nL 356.047443 -121.180698 \nL 356.047443 -121.180698 \nL 352.973063 -121.180698 \nL 349.898683 -121.180698 \nL 346.824303 -121.180698 \nL 343.749923 -122.302744 \nL 340.675542 -132.082251 \nL 337.601162 -133.862012 \nL 334.526782 -134.064714 \nL 331.452402 -134.064714 \nL 328.378022 -134.064714 \nL 325.303642 -134.064714 \nL 322.229261 -134.064714 \nL 319.154881 -134.017328 \nL 316.080501 -133.688632 \nL 313.006121 -133.128757 \nL 309.931741 -132.04074 \nL 306.857361 -130.524273 \nL 303.78298 -128.59662 \nL 300.7086 -127.45909 \nL 297.63422 -126.397215 \nL 294.55984 -126.35102 \nL 291.48546 -126.856712 \nL 288.41108 -127.80695 \nL 285.336699 -128.957157 \nL 282.262319 -130.082342 \nL 279.187939 -131.230947 \nL 276.113559 -131.93325 \nL 273.039179 -132.489514 \nL 269.964799 -132.594067 \nL 266.890418 -132.77721 \nL 263.816038 -132.759658 \nL 260.741658 -132.525051 \nL 257.667278 -132.15759 \nL 254.592898 -131.732521 \nL 251.518518 -131.359314 \nL 248.444137 -130.770562 \nL 245.369757 -130.437692 \nL 242.295377 -130.134443 \nL 239.220997 -129.992379 \nL 236.146617 -130.163522 \nL 233.072237 -130.180229 \nL 229.997856 -130.741467 \nL 226.923476 -131.1796 \nL 223.849096 -131.785281 \nL 220.774716 -132.111979 \nL 217.700336 -132.879412 \nL 214.625956 -133.444102 \nL 211.551575 -133.871815 \nL 208.477195 -134.457854 \nL 205.402815 -134.796992 \nL 202.328435 -135.041218 \nL 199.254055 -135.018217 \nL 196.179675 -134.962756 \nL 193.105294 -134.800407 \nL 190.030914 -134.790801 \nL 186.956534 -134.520847 \nL 183.882154 -134.313341 \nL 180.807774 -134.175299 \nL 177.733394 -133.837842 \nL 174.659013 -133.415761 \nL 171.584633 -133.313135 \nL 168.510253 -133.119153 \nL 165.435873 -132.89139 \nL 162.361493 -132.553745 \nL 159.287113 -131.974902 \nL 156.212732 -131.319165 \nL 153.138352 -130.611927 \nL 150.063972 -129.877588 \nL 146.989592 -129.309729 \nL 143.915212 -128.754963 \nL 140.840832 -128.078868 \nL 137.766451 -127.602559 \nL 134.692071 -126.689089 \nL 131.617691 -126.1256 \nL 128.543311 -125.3 \nL 125.468931 -124.278347 \nL 122.394551 -123.532902 \nL 119.32017 -122.803763 \nL 116.24579 -122.13339 \nL 113.17141 -121.217263 \nL 110.09703 -120.345646 \nL 107.02265 -119.345469 \nL 103.94827 -118.390638 \nL 100.873889 -117.579763 \nL 97.799509 -117.141043 \nL 94.725129 -115.700844 \nL 91.650749 -114.863029 \nL 88.576369 -113.759544 \nL 85.501989 -112.753471 \nL 82.427608 -111.522698 \nL 79.353228 -111.13367 \nL 76.278848 -110.219868 \nL 73.204468 -109.212205 \nL 70.130088 -107.946669 \nL 67.055708 -106.866141 \nL 63.981327 -104.221609 \nL 60.906947 -103.858184 \nL 57.832567 -103.46736 \nL 54.758187 -102.666539 \nL 51.683807 -101.421864 \nz\n\" id=\"m0163650592\" style=\"stroke:#1f77b4;stroke-opacity:0.1;\"/>\n    </defs>\n    <g clip-path=\"url(#pb52a30afec)\">\n     <use style=\"fill:#1f77b4;fill-opacity:0.1;stroke:#1f77b4;stroke-opacity:0.1;\" x=\"0\" xlink:href=\"#m0163650592\" y=\"250.758448\"/>\n    </g>\n   </g>\n   <g id=\"PolyCollection_2\">\n    <defs>\n     <path d=\"M 51.683807 -231.434489 \nL 51.683807 -61.818985 \nL 54.758187 -61.945713 \nL 57.832567 -61.845237 \nL 60.906947 -61.783246 \nL 63.981327 -61.383775 \nL 67.055708 -61.153562 \nL 70.130088 -61.391297 \nL 73.204468 -61.383797 \nL 76.278848 -61.192683 \nL 79.353228 -61.397545 \nL 82.427608 -61.568207 \nL 85.501989 -61.747221 \nL 88.576369 -61.608754 \nL 91.650749 -61.727608 \nL 94.725129 -61.384788 \nL 97.799509 -61.178726 \nL 100.873889 -61.169087 \nL 103.94827 -61.414132 \nL 107.02265 -61.612349 \nL 110.09703 -61.080911 \nL 113.17141 -60.337943 \nL 116.24579 -60.142202 \nL 119.32017 -59.525144 \nL 122.394551 -58.943418 \nL 125.468931 -58.49526 \nL 128.543311 -57.486453 \nL 131.617691 -56.692568 \nL 134.692071 -56.350447 \nL 137.766451 -55.875529 \nL 140.840832 -55.300846 \nL 143.915212 -54.758544 \nL 146.989592 -53.879814 \nL 150.063972 -53.308984 \nL 153.138352 -52.855524 \nL 156.212732 -52.416525 \nL 159.287113 -51.496468 \nL 162.361493 -51.054361 \nL 165.435873 -50.689076 \nL 168.510253 -50.238995 \nL 171.584633 -49.996729 \nL 174.659013 -49.351103 \nL 177.733394 -48.584348 \nL 180.807774 -47.910058 \nL 183.882154 -47.206492 \nL 186.956534 -46.39567 \nL 190.030914 -45.971672 \nL 193.105294 -45.615624 \nL 196.179675 -44.881977 \nL 199.254055 -44.605991 \nL 202.328435 -44.257952 \nL 205.402815 -43.873002 \nL 208.477195 -43.452065 \nL 211.551575 -42.869348 \nL 214.625956 -42.403664 \nL 217.700336 -42.079573 \nL 220.774716 -41.646425 \nL 223.849096 -41.025094 \nL 226.923476 -40.640905 \nL 229.997856 -40.326957 \nL 233.072237 -39.674919 \nL 236.146617 -39.108657 \nL 239.220997 -38.696251 \nL 242.295377 -37.921792 \nL 245.369757 -37.196168 \nL 248.444137 -36.285546 \nL 251.518518 -35.793636 \nL 254.592898 -35.28091 \nL 257.667278 -34.997832 \nL 260.741658 -34.504351 \nL 263.816038 -34.242707 \nL 266.890418 -33.915112 \nL 269.964799 -33.864886 \nL 273.039179 -33.761761 \nL 276.113559 -34.08663 \nL 279.187939 -34.115577 \nL 282.262319 -34.143328 \nL 285.336699 -34.143379 \nL 288.41108 -34.226552 \nL 291.48546 -34.3135 \nL 294.55984 -34.33049 \nL 297.63422 -34.33049 \nL 300.7086 -34.251582 \nL 303.78298 -34.167005 \nL 306.857361 -34.331706 \nL 309.931741 -34.197716 \nL 313.006121 -34.126289 \nL 316.080501 -34.062672 \nL 319.154881 -33.958236 \nL 322.229261 -34.066592 \nL 325.303642 -34.115676 \nL 328.378022 -34.115676 \nL 331.452402 -34.115676 \nL 334.526782 -34.115676 \nL 337.601162 -34.222146 \nL 340.675542 -34.90823 \nL 343.749923 -35.722659 \nL 346.824303 -35.715608 \nL 349.898683 -35.715608 \nL 352.973063 -35.715608 \nL 356.047443 -35.715608 \nL 356.047443 -56.202928 \nL 356.047443 -56.202928 \nL 352.973063 -56.202928 \nL 349.898683 -56.202928 \nL 346.824303 -56.202928 \nL 343.749923 -57.759089 \nL 340.675542 -73.375364 \nL 337.601162 -77.413712 \nL 334.526782 -77.842674 \nL 331.452402 -77.852153 \nL 328.378022 -77.852153 \nL 325.303642 -77.842674 \nL 322.229261 -77.842674 \nL 319.154881 -77.841245 \nL 316.080501 -77.457429 \nL 313.006121 -76.832247 \nL 309.931741 -76.627405 \nL 306.857361 -76.250593 \nL 303.78298 -75.456172 \nL 300.7086 -75.534337 \nL 297.63422 -75.961254 \nL 294.55984 -77.120557 \nL 291.48546 -80.185854 \nL 288.41108 -83.639157 \nL 285.336699 -88.543253 \nL 282.262319 -93.912758 \nL 279.187939 -97.019715 \nL 276.113559 -100.216808 \nL 273.039179 -101.883446 \nL 269.964799 -102.964977 \nL 266.890418 -103.609566 \nL 263.816038 -104.093757 \nL 260.741658 -103.728408 \nL 257.667278 -103.195512 \nL 254.592898 -102.372489 \nL 251.518518 -101.636933 \nL 248.444137 -100.561777 \nL 245.369757 -99.863203 \nL 242.295377 -99.234047 \nL 239.220997 -98.693216 \nL 236.146617 -99.77783 \nL 233.072237 -100.148645 \nL 229.997856 -100.377967 \nL 226.923476 -102.00937 \nL 223.849096 -103.560046 \nL 220.774716 -106.42568 \nL 217.700336 -108.379346 \nL 214.625956 -110.550267 \nL 211.551575 -113.351012 \nL 208.477195 -116.263987 \nL 205.402815 -118.222968 \nL 202.328435 -121.182802 \nL 199.254055 -124.186629 \nL 196.179675 -127.665076 \nL 193.105294 -129.050052 \nL 190.030914 -132.551694 \nL 186.956534 -135.15184 \nL 183.882154 -137.725427 \nL 180.807774 -139.329056 \nL 177.733394 -142.470229 \nL 174.659013 -144.681178 \nL 171.584633 -147.279664 \nL 168.510253 -149.739374 \nL 165.435873 -151.791989 \nL 162.361493 -154.86307 \nL 159.287113 -156.559778 \nL 156.212732 -159.549276 \nL 153.138352 -162.61851 \nL 150.063972 -166.600505 \nL 146.989592 -168.930148 \nL 143.915212 -172.289906 \nL 140.840832 -174.72947 \nL 137.766451 -177.450063 \nL 134.692071 -182.263956 \nL 131.617691 -182.554202 \nL 128.543311 -184.488472 \nL 125.468931 -186.69373 \nL 122.394551 -190.39322 \nL 119.32017 -193.740431 \nL 116.24579 -195.222012 \nL 113.17141 -196.861321 \nL 110.09703 -198.420429 \nL 107.02265 -199.504857 \nL 103.94827 -200.534067 \nL 100.873889 -203.336626 \nL 97.799509 -205.445776 \nL 94.725129 -207.925812 \nL 91.650749 -208.757474 \nL 88.576369 -210.558084 \nL 85.501989 -215.423704 \nL 82.427608 -217.770708 \nL 79.353228 -222.288349 \nL 76.278848 -225.766421 \nL 73.204468 -225.627623 \nL 70.130088 -224.158775 \nL 67.055708 -223.79257 \nL 63.981327 -224.006648 \nL 60.906947 -223.891562 \nL 57.832567 -229.418284 \nL 54.758187 -227.456872 \nL 51.683807 -231.434489 \nz\n\" id=\"m5b7f7d5dfc\" style=\"stroke:#ff7f0e;stroke-opacity:0.1;\"/>\n    </defs>\n    <g clip-path=\"url(#pb52a30afec)\">\n     <use style=\"fill:#ff7f0e;fill-opacity:0.1;stroke:#ff7f0e;stroke-opacity:0.1;\" x=\"0\" xlink:href=\"#m5b7f7d5dfc\" y=\"250.758448\"/>\n    </g>\n   </g>\n   <g id=\"matplotlib.axis_1\">\n    <g id=\"xtick_1\">\n     <g id=\"line2d_1\">\n      <defs>\n       <path d=\"M 0 0 \nL 0 3.5 \n\" id=\"m8398e0c7a2\" style=\"stroke:#000000;stroke-width:0.8;\"/>\n      </defs>\n      <g>\n       <use style=\"stroke:#000000;stroke-width:0.8;\" x=\"82.224884\" xlink:href=\"#m8398e0c7a2\" y=\"226.880323\"/>\n      </g>\n     </g>\n     <g id=\"text_1\">\n      <!-- 1800 -->\n      <g transform=\"translate(69.499884 241.478761)scale(0.1 -0.1)\">\n       <defs>\n        <path d=\"M 794 531 \nL 1825 531 \nL 1825 4091 \nL 703 3866 \nL 703 4441 \nL 1819 4666 \nL 2450 4666 \nL 2450 531 \nL 3481 531 \nL 3481 0 \nL 794 0 \nL 794 531 \nz\n\" id=\"DejaVuSans-31\" transform=\"scale(0.015625)\"/>\n        <path d=\"M 2034 2216 \nQ 1584 2216 1326 1975 \nQ 1069 1734 1069 1313 \nQ 1069 891 1326 650 \nQ 1584 409 2034 409 \nQ 2484 409 2743 651 \nQ 3003 894 3003 1313 \nQ 3003 1734 2745 1975 \nQ 2488 2216 2034 2216 \nz\nM 1403 2484 \nQ 997 2584 770 2862 \nQ 544 3141 544 3541 \nQ 544 4100 942 4425 \nQ 1341 4750 2034 4750 \nQ 2731 4750 3128 4425 \nQ 3525 4100 3525 3541 \nQ 3525 3141 3298 2862 \nQ 3072 2584 2669 2484 \nQ 3125 2378 3379 2068 \nQ 3634 1759 3634 1313 \nQ 3634 634 3220 271 \nQ 2806 -91 2034 -91 \nQ 1263 -91 848 271 \nQ 434 634 434 1313 \nQ 434 1759 690 2068 \nQ 947 2378 1403 2484 \nz\nM 1172 3481 \nQ 1172 3119 1398 2916 \nQ 1625 2713 2034 2713 \nQ 2441 2713 2670 2916 \nQ 2900 3119 2900 3481 \nQ 2900 3844 2670 4047 \nQ 2441 4250 2034 4250 \nQ 1625 4250 1398 4047 \nQ 1172 3844 1172 3481 \nz\n\" id=\"DejaVuSans-38\" transform=\"scale(0.015625)\"/>\n        <path d=\"M 2034 4250 \nQ 1547 4250 1301 3770 \nQ 1056 3291 1056 2328 \nQ 1056 1369 1301 889 \nQ 1547 409 2034 409 \nQ 2525 409 2770 889 \nQ 3016 1369 3016 2328 \nQ 3016 3291 2770 3770 \nQ 2525 4250 2034 4250 \nz\nM 2034 4750 \nQ 2819 4750 3233 4129 \nQ 3647 3509 3647 2328 \nQ 3647 1150 3233 529 \nQ 2819 -91 2034 -91 \nQ 1250 -91 836 529 \nQ 422 1150 422 2328 \nQ 422 3509 836 4129 \nQ 1250 4750 2034 4750 \nz\n\" id=\"DejaVuSans-30\" transform=\"scale(0.015625)\"/>\n       </defs>\n       <use xlink:href=\"#DejaVuSans-31\"/>\n       <use x=\"63.623047\" xlink:href=\"#DejaVuSans-38\"/>\n       <use x=\"127.246094\" xlink:href=\"#DejaVuSans-30\"/>\n       <use x=\"190.869141\" xlink:href=\"#DejaVuSans-30\"/>\n      </g>\n     </g>\n    </g>\n    <g id=\"xtick_2\">\n     <g id=\"line2d_2\">\n      <g>\n       <use style=\"stroke:#000000;stroke-width:0.8;\" x=\"153.163371\" xlink:href=\"#m8398e0c7a2\" y=\"226.880323\"/>\n      </g>\n     </g>\n     <g id=\"text_2\">\n      <!-- 1850 -->\n      <g transform=\"translate(140.438371 241.478761)scale(0.1 -0.1)\">\n       <defs>\n        <path d=\"M 691 4666 \nL 3169 4666 \nL 3169 4134 \nL 1269 4134 \nL 1269 2991 \nQ 1406 3038 1543 3061 \nQ 1681 3084 1819 3084 \nQ 2600 3084 3056 2656 \nQ 3513 2228 3513 1497 \nQ 3513 744 3044 326 \nQ 2575 -91 1722 -91 \nQ 1428 -91 1123 -41 \nQ 819 9 494 109 \nL 494 744 \nQ 775 591 1075 516 \nQ 1375 441 1709 441 \nQ 2250 441 2565 725 \nQ 2881 1009 2881 1497 \nQ 2881 1984 2565 2268 \nQ 2250 2553 1709 2553 \nQ 1456 2553 1204 2497 \nQ 953 2441 691 2322 \nL 691 4666 \nz\n\" id=\"DejaVuSans-35\" transform=\"scale(0.015625)\"/>\n       </defs>\n       <use xlink:href=\"#DejaVuSans-31\"/>\n       <use x=\"63.623047\" xlink:href=\"#DejaVuSans-38\"/>\n       <use x=\"127.246094\" xlink:href=\"#DejaVuSans-35\"/>\n       <use x=\"190.869141\" xlink:href=\"#DejaVuSans-30\"/>\n      </g>\n     </g>\n    </g>\n    <g id=\"xtick_3\">\n     <g id=\"line2d_3\">\n      <g>\n       <use style=\"stroke:#000000;stroke-width:0.8;\" x=\"224.101858\" xlink:href=\"#m8398e0c7a2\" y=\"226.880323\"/>\n      </g>\n     </g>\n     <g id=\"text_3\">\n      <!-- 1900 -->\n      <g transform=\"translate(211.376858 241.478761)scale(0.1 -0.1)\">\n       <defs>\n        <path d=\"M 703 97 \nL 703 672 \nQ 941 559 1184 500 \nQ 1428 441 1663 441 \nQ 2288 441 2617 861 \nQ 2947 1281 2994 2138 \nQ 2813 1869 2534 1725 \nQ 2256 1581 1919 1581 \nQ 1219 1581 811 2004 \nQ 403 2428 403 3163 \nQ 403 3881 828 4315 \nQ 1253 4750 1959 4750 \nQ 2769 4750 3195 4129 \nQ 3622 3509 3622 2328 \nQ 3622 1225 3098 567 \nQ 2575 -91 1691 -91 \nQ 1453 -91 1209 -44 \nQ 966 3 703 97 \nz\nM 1959 2075 \nQ 2384 2075 2632 2365 \nQ 2881 2656 2881 3163 \nQ 2881 3666 2632 3958 \nQ 2384 4250 1959 4250 \nQ 1534 4250 1286 3958 \nQ 1038 3666 1038 3163 \nQ 1038 2656 1286 2365 \nQ 1534 2075 1959 2075 \nz\n\" id=\"DejaVuSans-39\" transform=\"scale(0.015625)\"/>\n       </defs>\n       <use xlink:href=\"#DejaVuSans-31\"/>\n       <use x=\"63.623047\" xlink:href=\"#DejaVuSans-39\"/>\n       <use x=\"127.246094\" xlink:href=\"#DejaVuSans-30\"/>\n       <use x=\"190.869141\" xlink:href=\"#DejaVuSans-30\"/>\n      </g>\n     </g>\n    </g>\n    <g id=\"xtick_4\">\n     <g id=\"line2d_4\">\n      <g>\n       <use style=\"stroke:#000000;stroke-width:0.8;\" x=\"295.040345\" xlink:href=\"#m8398e0c7a2\" y=\"226.880323\"/>\n      </g>\n     </g>\n     <g id=\"text_4\">\n      <!-- 1950 -->\n      <g transform=\"translate(282.315345 241.478761)scale(0.1 -0.1)\">\n       <use xlink:href=\"#DejaVuSans-31\"/>\n       <use x=\"63.623047\" xlink:href=\"#DejaVuSans-39\"/>\n       <use x=\"127.246094\" xlink:href=\"#DejaVuSans-35\"/>\n       <use x=\"190.869141\" xlink:href=\"#DejaVuSans-30\"/>\n      </g>\n     </g>\n    </g>\n    <g id=\"xtick_5\">\n     <g id=\"line2d_5\">\n      <g>\n       <use style=\"stroke:#000000;stroke-width:0.8;\" x=\"365.978831\" xlink:href=\"#m8398e0c7a2\" y=\"226.880323\"/>\n      </g>\n     </g>\n     <g id=\"text_5\">\n      <!-- 2000 -->\n      <g transform=\"translate(353.253831 241.478761)scale(0.1 -0.1)\">\n       <defs>\n        <path d=\"M 1228 531 \nL 3431 531 \nL 3431 0 \nL 469 0 \nL 469 531 \nQ 828 903 1448 1529 \nQ 2069 2156 2228 2338 \nQ 2531 2678 2651 2914 \nQ 2772 3150 2772 3378 \nQ 2772 3750 2511 3984 \nQ 2250 4219 1831 4219 \nQ 1534 4219 1204 4116 \nQ 875 4013 500 3803 \nL 500 4441 \nQ 881 4594 1212 4672 \nQ 1544 4750 1819 4750 \nQ 2544 4750 2975 4387 \nQ 3406 4025 3406 3419 \nQ 3406 3131 3298 2873 \nQ 3191 2616 2906 2266 \nQ 2828 2175 2409 1742 \nQ 1991 1309 1228 531 \nz\n\" id=\"DejaVuSans-32\" transform=\"scale(0.015625)\"/>\n       </defs>\n       <use xlink:href=\"#DejaVuSans-32\"/>\n       <use x=\"63.623047\" xlink:href=\"#DejaVuSans-30\"/>\n       <use x=\"127.246094\" xlink:href=\"#DejaVuSans-30\"/>\n       <use x=\"190.869141\" xlink:href=\"#DejaVuSans-30\"/>\n      </g>\n     </g>\n    </g>\n   </g>\n   <g id=\"matplotlib.axis_2\">\n    <g id=\"ytick_1\">\n     <g id=\"line2d_6\">\n      <defs>\n       <path d=\"M 0 0 \nL -3.5 0 \n\" id=\"m54e0e4bc0e\" style=\"stroke:#000000;stroke-width:0.8;\"/>\n      </defs>\n      <g>\n       <use style=\"stroke:#000000;stroke-width:0.8;\" x=\"36.465625\" xlink:href=\"#m54e0e4bc0e\" y=\"221.014723\"/>\n      </g>\n     </g>\n     <g id=\"text_6\">\n      <!-- 0.25 -->\n      <g transform=\"translate(7.2 224.813941)scale(0.1 -0.1)\">\n       <defs>\n        <path d=\"M 684 794 \nL 1344 794 \nL 1344 0 \nL 684 0 \nL 684 794 \nz\n\" id=\"DejaVuSans-2e\" transform=\"scale(0.015625)\"/>\n       </defs>\n       <use xlink:href=\"#DejaVuSans-30\"/>\n       <use x=\"63.623047\" xlink:href=\"#DejaVuSans-2e\"/>\n       <use x=\"95.410156\" xlink:href=\"#DejaVuSans-32\"/>\n       <use x=\"159.033203\" xlink:href=\"#DejaVuSans-35\"/>\n      </g>\n     </g>\n    </g>\n    <g id=\"ytick_2\">\n     <g id=\"line2d_7\">\n      <g>\n       <use style=\"stroke:#000000;stroke-width:0.8;\" x=\"36.465625\" xlink:href=\"#m54e0e4bc0e\" y=\"194.762785\"/>\n      </g>\n     </g>\n     <g id=\"text_7\">\n      <!-- 0.50 -->\n      <g transform=\"translate(7.2 198.562003)scale(0.1 -0.1)\">\n       <use xlink:href=\"#DejaVuSans-30\"/>\n       <use x=\"63.623047\" xlink:href=\"#DejaVuSans-2e\"/>\n       <use x=\"95.410156\" xlink:href=\"#DejaVuSans-35\"/>\n       <use x=\"159.033203\" xlink:href=\"#DejaVuSans-30\"/>\n      </g>\n     </g>\n    </g>\n    <g id=\"ytick_3\">\n     <g id=\"line2d_8\">\n      <g>\n       <use style=\"stroke:#000000;stroke-width:0.8;\" x=\"36.465625\" xlink:href=\"#m54e0e4bc0e\" y=\"168.510847\"/>\n      </g>\n     </g>\n     <g id=\"text_8\">\n      <!-- 0.75 -->\n      <g transform=\"translate(7.2 172.310065)scale(0.1 -0.1)\">\n       <defs>\n        <path d=\"M 525 4666 \nL 3525 4666 \nL 3525 4397 \nL 1831 0 \nL 1172 0 \nL 2766 4134 \nL 525 4134 \nL 525 4666 \nz\n\" id=\"DejaVuSans-37\" transform=\"scale(0.015625)\"/>\n       </defs>\n       <use xlink:href=\"#DejaVuSans-30\"/>\n       <use x=\"63.623047\" xlink:href=\"#DejaVuSans-2e\"/>\n       <use x=\"95.410156\" xlink:href=\"#DejaVuSans-37\"/>\n       <use x=\"159.033203\" xlink:href=\"#DejaVuSans-35\"/>\n      </g>\n     </g>\n    </g>\n    <g id=\"ytick_4\">\n     <g id=\"line2d_9\">\n      <g>\n       <use style=\"stroke:#000000;stroke-width:0.8;\" x=\"36.465625\" xlink:href=\"#m54e0e4bc0e\" y=\"142.258909\"/>\n      </g>\n     </g>\n     <g id=\"text_9\">\n      <!-- 1.00 -->\n      <g transform=\"translate(7.2 146.058127)scale(0.1 -0.1)\">\n       <use xlink:href=\"#DejaVuSans-31\"/>\n       <use x=\"63.623047\" xlink:href=\"#DejaVuSans-2e\"/>\n       <use x=\"95.410156\" xlink:href=\"#DejaVuSans-30\"/>\n       <use x=\"159.033203\" xlink:href=\"#DejaVuSans-30\"/>\n      </g>\n     </g>\n    </g>\n    <g id=\"ytick_5\">\n     <g id=\"line2d_10\">\n      <g>\n       <use style=\"stroke:#000000;stroke-width:0.8;\" x=\"36.465625\" xlink:href=\"#m54e0e4bc0e\" y=\"116.006971\"/>\n      </g>\n     </g>\n     <g id=\"text_10\">\n      <!-- 1.25 -->\n      <g transform=\"translate(7.2 119.806189)scale(0.1 -0.1)\">\n       <use xlink:href=\"#DejaVuSans-31\"/>\n       <use x=\"63.623047\" xlink:href=\"#DejaVuSans-2e\"/>\n       <use x=\"95.410156\" xlink:href=\"#DejaVuSans-32\"/>\n       <use x=\"159.033203\" xlink:href=\"#DejaVuSans-35\"/>\n      </g>\n     </g>\n    </g>\n    <g id=\"ytick_6\">\n     <g id=\"line2d_11\">\n      <g>\n       <use style=\"stroke:#000000;stroke-width:0.8;\" x=\"36.465625\" xlink:href=\"#m54e0e4bc0e\" y=\"89.755033\"/>\n      </g>\n     </g>\n     <g id=\"text_11\">\n      <!-- 1.50 -->\n      <g transform=\"translate(7.2 93.554251)scale(0.1 -0.1)\">\n       <use xlink:href=\"#DejaVuSans-31\"/>\n       <use x=\"63.623047\" xlink:href=\"#DejaVuSans-2e\"/>\n       <use x=\"95.410156\" xlink:href=\"#DejaVuSans-35\"/>\n       <use x=\"159.033203\" xlink:href=\"#DejaVuSans-30\"/>\n      </g>\n     </g>\n    </g>\n    <g id=\"ytick_7\">\n     <g id=\"line2d_12\">\n      <g>\n       <use style=\"stroke:#000000;stroke-width:0.8;\" x=\"36.465625\" xlink:href=\"#m54e0e4bc0e\" y=\"63.503095\"/>\n      </g>\n     </g>\n     <g id=\"text_12\">\n      <!-- 1.75 -->\n      <g transform=\"translate(7.2 67.302313)scale(0.1 -0.1)\">\n       <use xlink:href=\"#DejaVuSans-31\"/>\n       <use x=\"63.623047\" xlink:href=\"#DejaVuSans-2e\"/>\n       <use x=\"95.410156\" xlink:href=\"#DejaVuSans-37\"/>\n       <use x=\"159.033203\" xlink:href=\"#DejaVuSans-35\"/>\n      </g>\n     </g>\n    </g>\n    <g id=\"ytick_8\">\n     <g id=\"line2d_13\">\n      <g>\n       <use style=\"stroke:#000000;stroke-width:0.8;\" x=\"36.465625\" xlink:href=\"#m54e0e4bc0e\" y=\"37.251157\"/>\n      </g>\n     </g>\n     <g id=\"text_13\">\n      <!-- 2.00 -->\n      <g transform=\"translate(7.2 41.050375)scale(0.1 -0.1)\">\n       <use xlink:href=\"#DejaVuSans-32\"/>\n       <use x=\"63.623047\" xlink:href=\"#DejaVuSans-2e\"/>\n       <use x=\"95.410156\" xlink:href=\"#DejaVuSans-30\"/>\n       <use x=\"159.033203\" xlink:href=\"#DejaVuSans-30\"/>\n      </g>\n     </g>\n    </g>\n    <g id=\"ytick_9\">\n     <g id=\"line2d_14\">\n      <g>\n       <use style=\"stroke:#000000;stroke-width:0.8;\" x=\"36.465625\" xlink:href=\"#m54e0e4bc0e\" y=\"10.999219\"/>\n      </g>\n     </g>\n     <g id=\"text_14\">\n      <!-- 2.25 -->\n      <g transform=\"translate(7.2 14.798437)scale(0.1 -0.1)\">\n       <use xlink:href=\"#DejaVuSans-32\"/>\n       <use x=\"63.623047\" xlink:href=\"#DejaVuSans-2e\"/>\n       <use x=\"95.410156\" xlink:href=\"#DejaVuSans-32\"/>\n       <use x=\"159.033203\" xlink:href=\"#DejaVuSans-35\"/>\n      </g>\n     </g>\n    </g>\n   </g>\n   <g id=\"line2d_15\">\n    <path clip-path=\"url(#pb52a30afec)\" d=\"M 51.683807 188.129939 \nL 54.758187 187.868274 \nL 57.832567 187.483442 \nL 60.906947 187.037397 \nL 63.981327 186.567343 \nL 67.055708 186.069861 \nL 70.130088 185.4896 \nL 73.204468 185.037994 \nL 76.278848 184.628697 \nL 79.353228 184.323028 \nL 82.427608 183.440937 \nL 85.501989 182.689216 \nL 88.576369 181.738471 \nL 91.650749 180.828938 \nL 94.725129 179.804154 \nL 97.799509 178.953625 \nL 100.873889 178.14444 \nL 103.94827 177.180422 \nL 107.02265 175.754403 \nL 110.09703 174.623157 \nL 113.17141 173.021898 \nL 116.24579 171.05578 \nL 119.32017 168.378623 \nL 122.394551 164.659797 \nL 125.468931 161.318196 \nL 128.543311 158.252196 \nL 131.617691 155.650472 \nL 134.692071 153.373474 \nL 137.766451 151.400072 \nL 140.840832 149.815648 \nL 143.915212 148.341351 \nL 146.989592 146.860039 \nL 150.063972 145.327933 \nL 153.138352 144.091019 \nL 156.212732 142.644954 \nL 159.287113 141.541984 \nL 162.361493 140.474534 \nL 165.435873 139.561796 \nL 168.510253 138.812854 \nL 171.584633 138.044922 \nL 174.659013 137.380795 \nL 177.733394 136.796023 \nL 180.807774 136.189728 \nL 183.882154 135.689717 \nL 186.956534 135.369786 \nL 190.030914 135.054637 \nL 193.105294 134.830524 \nL 196.179675 134.718982 \nL 199.254055 134.676549 \nL 202.328435 134.718201 \nL 205.402815 134.801833 \nL 208.477195 134.93912 \nL 211.551575 135.30881 \nL 214.625956 135.607214 \nL 217.700336 135.980276 \nL 220.774716 136.427876 \nL 223.849096 136.766778 \nL 226.923476 137.119348 \nL 229.997856 137.400516 \nL 233.072237 137.545407 \nL 236.146617 137.567951 \nL 239.220997 137.471441 \nL 242.295377 137.403617 \nL 245.369757 137.121518 \nL 248.444137 136.819307 \nL 251.518518 136.375678 \nL 254.592898 135.965174 \nL 257.667278 135.510497 \nL 260.741658 135.15435 \nL 263.816038 135.004193 \nL 266.890418 134.970142 \nL 269.964799 135.07927 \nL 273.039179 135.362134 \nL 276.113559 135.723763 \nL 279.187939 136.298034 \nL 282.262319 136.802688 \nL 285.336699 137.264429 \nL 288.41108 137.657112 \nL 291.48546 137.921426 \nL 294.55984 138.030279 \nL 297.63422 138.029032 \nL 300.7086 137.738982 \nL 303.78298 137.150673 \nL 306.857361 136.052041 \nL 309.931741 134.121823 \nL 313.006121 132.058753 \nL 316.080501 130.603927 \nL 319.154881 129.963868 \nL 322.229261 129.788875 \nL 325.303642 129.749865 \nL 328.378022 129.748979 \nL 331.452402 129.748979 \nL 334.526782 129.761701 \nL 337.601162 130.194029 \nL 340.675542 133.922778 \nL 343.749923 136.538819 \nL 346.824303 136.666404 \nL 349.898683 136.666404 \nL 352.973063 136.666404 \nL 356.047443 136.666404 \n\" style=\"fill:none;stroke:#1f77b4;stroke-linecap:square;stroke-width:1.5;\"/>\n   </g>\n   <g id=\"line2d_16\">\n    <path clip-path=\"url(#pb52a30afec)\" d=\"M 51.683807 133.299664 \nL 54.758187 133.696423 \nL 57.832567 134.146675 \nL 60.906947 134.364851 \nL 63.981327 135.15138 \nL 67.055708 136.236347 \nL 70.130088 136.405879 \nL 73.204468 136.03128 \nL 76.278848 136.126027 \nL 79.353228 136.851006 \nL 82.427608 136.813781 \nL 85.501989 137.325803 \nL 88.576369 138.172496 \nL 91.650749 138.674423 \nL 94.725129 139.515276 \nL 97.799509 140.136326 \nL 100.873889 140.834879 \nL 103.94827 141.56066 \nL 107.02265 142.739116 \nL 110.09703 143.18071 \nL 113.17141 144.007601 \nL 116.24579 145.094236 \nL 119.32017 146.194603 \nL 122.394551 147.500273 \nL 125.468931 148.924048 \nL 128.543311 150.291677 \nL 131.617691 151.566519 \nL 134.692071 152.687532 \nL 137.766451 154.024191 \nL 140.840832 155.160213 \nL 143.915212 156.198916 \nL 146.989592 157.646844 \nL 150.063972 158.921877 \nL 153.138352 160.314049 \nL 156.212732 161.100173 \nL 159.287113 162.192168 \nL 162.361493 163.488678 \nL 165.435873 164.650631 \nL 168.510253 166.039327 \nL 171.584633 167.315205 \nL 174.659013 168.430893 \nL 177.733394 169.737572 \nL 180.807774 170.939995 \nL 183.882154 172.409427 \nL 186.956534 173.738851 \nL 190.030914 174.94087 \nL 193.105294 176.264144 \nL 196.179675 177.316164 \nL 199.254055 178.632187 \nL 202.328435 179.850653 \nL 205.402815 180.864718 \nL 208.477195 181.836458 \nL 211.551575 182.895179 \nL 214.625956 183.7689 \nL 217.700336 184.665558 \nL 220.774716 185.313419 \nL 223.849096 186.124087 \nL 226.923476 186.739463 \nL 229.997856 187.227266 \nL 233.072237 187.58814 \nL 236.146617 187.89542 \nL 239.220997 188.386983 \nL 242.295377 188.585477 \nL 245.369757 189.075659 \nL 248.444137 189.41475 \nL 251.518518 189.726599 \nL 254.592898 190.544311 \nL 257.667278 190.925242 \nL 260.741658 191.410395 \nL 263.816038 192.082608 \nL 266.890418 192.627571 \nL 269.964799 193.377488 \nL 273.039179 194.395526 \nL 276.113559 195.568599 \nL 279.187939 196.816527 \nL 282.262319 198.035623 \nL 285.336699 198.721203 \nL 288.41108 199.341949 \nL 291.48546 199.698557 \nL 294.55984 200.003152 \nL 297.63422 200.099884 \nL 300.7086 200.106325 \nL 303.78298 200.106325 \nL 306.857361 199.905748 \nL 309.931741 199.839629 \nL 313.006121 199.659717 \nL 316.080501 199.465565 \nL 319.154881 199.343304 \nL 322.229261 199.333424 \nL 325.303642 199.31386 \nL 328.378022 199.312594 \nL 331.452402 199.312594 \nL 334.526782 199.31885 \nL 337.601162 199.908236 \nL 340.675542 203.586313 \nL 343.749923 206.006908 \nL 346.824303 206.086829 \nL 349.898683 206.086829 \nL 352.973063 206.086829 \nL 356.047443 206.086829 \n\" style=\"fill:none;stroke:#ff7f0e;stroke-linecap:square;stroke-width:1.5;\"/>\n   </g>\n   <g id=\"patch_3\">\n    <path d=\"M 36.465625 226.880323 \nL 36.465625 9.440323 \n\" style=\"fill:none;stroke:#000000;stroke-linecap:square;stroke-linejoin:miter;stroke-width:0.8;\"/>\n   </g>\n   <g id=\"patch_4\">\n    <path d=\"M 371.265625 226.880323 \nL 371.265625 9.440323 \n\" style=\"fill:none;stroke:#000000;stroke-linecap:square;stroke-linejoin:miter;stroke-width:0.8;\"/>\n   </g>\n   <g id=\"patch_5\">\n    <path d=\"M 36.465625 226.880323 \nL 371.265625 226.880323 \n\" style=\"fill:none;stroke:#000000;stroke-linecap:square;stroke-linejoin:miter;stroke-width:0.8;\"/>\n   </g>\n   <g id=\"patch_6\">\n    <path d=\"M 36.465625 9.440323 \nL 371.265625 9.440323 \n\" style=\"fill:none;stroke:#000000;stroke-linecap:square;stroke-linejoin:miter;stroke-width:0.8;\"/>\n   </g>\n   <g id=\"legend_1\">\n    <g id=\"patch_7\">\n     <path d=\"M 306.9375 46.796573 \nL 364.265625 46.796573 \nQ 366.265625 46.796573 366.265625 44.796573 \nL 366.265625 16.440323 \nQ 366.265625 14.440323 364.265625 14.440323 \nL 306.9375 14.440323 \nQ 304.9375 14.440323 304.9375 16.440323 \nL 304.9375 44.796573 \nQ 304.9375 46.796573 306.9375 46.796573 \nz\n\" style=\"fill:#ffffff;opacity:0.8;stroke:#cccccc;stroke-linejoin:miter;\"/>\n    </g>\n    <g id=\"line2d_17\">\n     <path d=\"M 308.9375 22.538761 \nL 328.9375 22.538761 \n\" style=\"fill:none;stroke:#1f77b4;stroke-linecap:square;stroke-width:1.5;\"/>\n    </g>\n    <g id=\"line2d_18\"/>\n    <g id=\"text_15\">\n     <!-- R -->\n     <g transform=\"translate(336.9375 26.038761)scale(0.1 -0.1)\">\n      <defs>\n       <path d=\"M 2841 2188 \nQ 3044 2119 3236 1894 \nQ 3428 1669 3622 1275 \nL 4263 0 \nL 3584 0 \nL 2988 1197 \nQ 2756 1666 2539 1819 \nQ 2322 1972 1947 1972 \nL 1259 1972 \nL 1259 0 \nL 628 0 \nL 628 4666 \nL 2053 4666 \nQ 2853 4666 3247 4331 \nQ 3641 3997 3641 3322 \nQ 3641 2881 3436 2590 \nQ 3231 2300 2841 2188 \nz\nM 1259 4147 \nL 1259 2491 \nL 2053 2491 \nQ 2509 2491 2742 2702 \nQ 2975 2913 2975 3322 \nQ 2975 3731 2742 3939 \nQ 2509 4147 2053 4147 \nL 1259 4147 \nz\n\" id=\"DejaVuSans-52\" transform=\"scale(0.015625)\"/>\n      </defs>\n      <use xlink:href=\"#DejaVuSans-52\"/>\n     </g>\n    </g>\n    <g id=\"line2d_19\">\n     <path d=\"M 308.9375 37.216886 \nL 328.9375 37.216886 \n\" style=\"fill:none;stroke:#ff7f0e;stroke-linecap:square;stroke-width:1.5;\"/>\n    </g>\n    <g id=\"line2d_20\"/>\n    <g id=\"text_16\">\n     <!-- delta -->\n     <g transform=\"translate(336.9375 40.716886)scale(0.1 -0.1)\">\n      <defs>\n       <path d=\"M 2906 2969 \nL 2906 4863 \nL 3481 4863 \nL 3481 0 \nL 2906 0 \nL 2906 525 \nQ 2725 213 2448 61 \nQ 2172 -91 1784 -91 \nQ 1150 -91 751 415 \nQ 353 922 353 1747 \nQ 353 2572 751 3078 \nQ 1150 3584 1784 3584 \nQ 2172 3584 2448 3432 \nQ 2725 3281 2906 2969 \nz\nM 947 1747 \nQ 947 1113 1208 752 \nQ 1469 391 1925 391 \nQ 2381 391 2643 752 \nQ 2906 1113 2906 1747 \nQ 2906 2381 2643 2742 \nQ 2381 3103 1925 3103 \nQ 1469 3103 1208 2742 \nQ 947 2381 947 1747 \nz\n\" id=\"DejaVuSans-64\" transform=\"scale(0.015625)\"/>\n       <path d=\"M 3597 1894 \nL 3597 1613 \nL 953 1613 \nQ 991 1019 1311 708 \nQ 1631 397 2203 397 \nQ 2534 397 2845 478 \nQ 3156 559 3463 722 \nL 3463 178 \nQ 3153 47 2828 -22 \nQ 2503 -91 2169 -91 \nQ 1331 -91 842 396 \nQ 353 884 353 1716 \nQ 353 2575 817 3079 \nQ 1281 3584 2069 3584 \nQ 2775 3584 3186 3129 \nQ 3597 2675 3597 1894 \nz\nM 3022 2063 \nQ 3016 2534 2758 2815 \nQ 2500 3097 2075 3097 \nQ 1594 3097 1305 2825 \nQ 1016 2553 972 2059 \nL 3022 2063 \nz\n\" id=\"DejaVuSans-65\" transform=\"scale(0.015625)\"/>\n       <path d=\"M 603 4863 \nL 1178 4863 \nL 1178 0 \nL 603 0 \nL 603 4863 \nz\n\" id=\"DejaVuSans-6c\" transform=\"scale(0.015625)\"/>\n       <path d=\"M 1172 4494 \nL 1172 3500 \nL 2356 3500 \nL 2356 3053 \nL 1172 3053 \nL 1172 1153 \nQ 1172 725 1289 603 \nQ 1406 481 1766 481 \nL 2356 481 \nL 2356 0 \nL 1766 0 \nQ 1100 0 847 248 \nQ 594 497 594 1153 \nL 594 3053 \nL 172 3053 \nL 172 3500 \nL 594 3500 \nL 594 4494 \nL 1172 4494 \nz\n\" id=\"DejaVuSans-74\" transform=\"scale(0.015625)\"/>\n       <path d=\"M 2194 1759 \nQ 1497 1759 1228 1600 \nQ 959 1441 959 1056 \nQ 959 750 1161 570 \nQ 1363 391 1709 391 \nQ 2188 391 2477 730 \nQ 2766 1069 2766 1631 \nL 2766 1759 \nL 2194 1759 \nz\nM 3341 1997 \nL 3341 0 \nL 2766 0 \nL 2766 531 \nQ 2569 213 2275 61 \nQ 1981 -91 1556 -91 \nQ 1019 -91 701 211 \nQ 384 513 384 1019 \nQ 384 1609 779 1909 \nQ 1175 2209 1959 2209 \nL 2766 2209 \nL 2766 2266 \nQ 2766 2663 2505 2880 \nQ 2244 3097 1772 3097 \nQ 1472 3097 1187 3025 \nQ 903 2953 641 2809 \nL 641 3341 \nQ 956 3463 1253 3523 \nQ 1550 3584 1831 3584 \nQ 2591 3584 2966 3190 \nQ 3341 2797 3341 1997 \nz\n\" id=\"DejaVuSans-61\" transform=\"scale(0.015625)\"/>\n      </defs>\n      <use xlink:href=\"#DejaVuSans-64\"/>\n      <use x=\"63.476562\" xlink:href=\"#DejaVuSans-65\"/>\n      <use x=\"125\" xlink:href=\"#DejaVuSans-6c\"/>\n      <use x=\"152.783203\" xlink:href=\"#DejaVuSans-74\"/>\n      <use x=\"191.992188\" xlink:href=\"#DejaVuSans-61\"/>\n     </g>\n    </g>\n   </g>\n  </g>\n </g>\n <defs>\n  <clipPath id=\"pb52a30afec\">\n   <rect height=\"217.44\" width=\"334.8\" x=\"36.465625\" y=\"9.440323\"/>\n  </clipPath>\n </defs>\n</svg>\n",
      "text/plain": [
       "<Figure size 432x288 with 1 Axes>"
      ]
     },
     "metadata": {
      "needs_background": "light"
     },
     "output_type": "display_data"
    },
    {
     "data": {
      "application/javascript": "\n            setTimeout(function() {\n                var nbb_cell_id = 7;\n                var nbb_unformatted_code = \"fig, ax = plt.subplots()\\nstart, top, end, x0 = plot_helper(res, data, n_tips)\\nplot_one(res, ax, \\\"R\\\", m, start, top, end, x0, \\\"R\\\", \\\"fill\\\", \\\"\\\")\\nplot_one(res, ax, \\\"delta\\\", m, start, top, end, x0, \\\"delta\\\", \\\"fill\\\", \\\"\\\")\\nax.legend()\";\n                var nbb_formatted_code = \"fig, ax = plt.subplots()\\nstart, top, end, x0 = plot_helper(res, data, n_tips)\\nplot_one(res, ax, \\\"R\\\", m, start, top, end, x0, \\\"R\\\", \\\"fill\\\", \\\"\\\")\\nplot_one(res, ax, \\\"delta\\\", m, start, top, end, x0, \\\"delta\\\", \\\"fill\\\", \\\"\\\")\\nax.legend()\";\n                var nbb_cells = Jupyter.notebook.get_cells();\n                for (var i = 0; i < nbb_cells.length; ++i) {\n                    if (nbb_cells[i].input_prompt_number == nbb_cell_id) {\n                        if (nbb_cells[i].get_text() == nbb_unformatted_code) {\n                             nbb_cells[i].set_text(nbb_formatted_code);\n                        }\n                        break;\n                    }\n                }\n            }, 500);\n            ",
      "text/plain": [
       "<IPython.core.display.Javascript object>"
      ]
     },
     "metadata": {},
     "output_type": "display_data"
    }
   ],
   "source": [
    "fig, ax = plt.subplots()\n",
    "start, top, end, x0 = plot_helper(res, data, n_tips)\n",
    "plot_one(res, ax, \"R\", m, start, top, end, x0, \"R\", \"fill\", \"\")\n",
    "plot_one(res, ax, \"delta\", m, start, top, end, x0, \"delta\", \"fill\", \"\")\n",
    "ax.legend()"
   ]
  }
 ],
 "metadata": {
  "kernelspec": {
   "display_name": "Python 3 (ipykernel)",
   "language": "python",
   "name": "python3"
  },
  "language_info": {
   "codemirror_mode": {
    "name": "ipython",
    "version": 3
   },
   "file_extension": ".py",
   "mimetype": "text/x-python",
   "name": "python",
   "nbconvert_exporter": "python",
   "pygments_lexer": "ipython3",
   "version": "3.9.7"
  }
 },
 "nbformat": 4,
 "nbformat_minor": 4
}
