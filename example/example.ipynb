{
 "cells": [
  {
   "cell_type": "markdown",
   "metadata": {},
   "source": [
    "## Example with HCV data"
   ]
  },
  {
   "cell_type": "code",
   "execution_count": 8,
   "metadata": {
    "ExecuteTime": {
     "end_time": "2022-02-18T03:47:05.303701Z",
     "start_time": "2022-02-18T03:47:03.522359Z"
    }
   },
   "outputs": [
    {
     "data": {
      "application/javascript": "\n            setTimeout(function() {\n                var nbb_cell_id = 8;\n                var nbb_unformatted_code = \"# %load_ext nb_black\\n# %matplotlib inline\\nimport matplotlib.pyplot as plt\\nfrom IPython.display import set_matplotlib_formats\\n%config InlineBackend.figure_formats = ['svg']\\n\\nfrom Bio import AlignIO\\nimport numpy as np\\nimport jax.numpy as jnp\\nimport jax\\nfrom jax.scipy.special import xlogy\\n\\njax.config.update(\\\"jax_enable_x64\\\", True)\\n\\nfrom vbsky.fasta import SeqData\\nfrom vbsky.bdsky import _lognorm_logpdf\\nfrom vbsky.prob import VF\\nfrom vbsky.prob.transform import (\\n    Transform,\\n    Compose,\\n    Positive,\\n    ZeroOne,\\n    DiagonalAffine,\\n    Exp,\\n)\\nfrom vbsky.prob.distribution import Constant\\n\\nfrom vbsky.plot import plot_helper, plot_one\\n\\npos = Compose(DiagonalAffine, Exp)\\nplus = Compose(DiagonalAffine, Positive)\\nz1 = Compose(DiagonalAffine, ZeroOne)\";\n                var nbb_formatted_code = \"# %load_ext nb_black\\n# %matplotlib inline\\nimport matplotlib.pyplot as plt\\nfrom IPython.display import set_matplotlib_formats\\n\\n%config InlineBackend.figure_formats = ['svg']\\n\\nfrom Bio import AlignIO\\nimport numpy as np\\nimport jax.numpy as jnp\\nimport jax\\nfrom jax.scipy.special import xlogy\\n\\njax.config.update(\\\"jax_enable_x64\\\", True)\\n\\nfrom vbsky.fasta import SeqData\\nfrom vbsky.bdsky import _lognorm_logpdf\\nfrom vbsky.prob import VF\\nfrom vbsky.prob.transform import (\\n    Transform,\\n    Compose,\\n    Positive,\\n    ZeroOne,\\n    DiagonalAffine,\\n    Exp,\\n)\\nfrom vbsky.prob.distribution import Constant\\n\\nfrom vbsky.plot import plot_helper, plot_one\\n\\npos = Compose(DiagonalAffine, Exp)\\nplus = Compose(DiagonalAffine, Positive)\\nz1 = Compose(DiagonalAffine, ZeroOne)\";\n                var nbb_cells = Jupyter.notebook.get_cells();\n                for (var i = 0; i < nbb_cells.length; ++i) {\n                    if (nbb_cells[i].input_prompt_number == nbb_cell_id) {\n                        if (nbb_cells[i].get_text() == nbb_unformatted_code) {\n                             nbb_cells[i].set_text(nbb_formatted_code);\n                        }\n                        break;\n                    }\n                }\n            }, 500);\n            ",
      "text/plain": [
       "<IPython.core.display.Javascript object>"
      ]
     },
     "metadata": {},
     "output_type": "display_data"
    }
   ],
   "source": [
    "%load_ext nb_black\n",
    "# %matplotlib inline\n",
    "import matplotlib.pyplot as plt\n",
    "from IPython.display import set_matplotlib_formats\n",
    "%config InlineBackend.figure_formats = ['svg']\n",
    "\n",
    "from Bio import AlignIO\n",
    "import numpy as np\n",
    "import jax.numpy as jnp\n",
    "import jax\n",
    "from jax.scipy.special import xlogy\n",
    "\n",
    "jax.config.update(\"jax_enable_x64\", True)\n",
    "\n",
    "from vbsky.fasta import SeqData\n",
    "from vbsky.bdsky import _lognorm_logpdf\n",
    "from vbsky.prob import VF\n",
    "from vbsky.prob.transform import (\n",
    "    Transform,\n",
    "    Compose,\n",
    "    Positive,\n",
    "    ZeroOne,\n",
    "    DiagonalAffine,\n",
    "    Exp,\n",
    ")\n",
    "from vbsky.prob.distribution import Constant\n",
    "\n",
    "from vbsky.plot import plot_helper, plot_one\n",
    "\n",
    "pos = Compose(DiagonalAffine, Exp)\n",
    "plus = Compose(DiagonalAffine, Positive)\n",
    "z1 = Compose(DiagonalAffine, ZeroOne)"
   ]
  },
  {
   "cell_type": "markdown",
   "metadata": {},
   "source": [
    "#### Import Data"
   ]
  },
  {
   "cell_type": "code",
   "execution_count": 2,
   "metadata": {
    "ExecuteTime": {
     "end_time": "2022-02-18T03:47:05.339972Z",
     "start_time": "2022-02-18T03:47:05.306885Z"
    }
   },
   "outputs": [
    {
     "data": {
      "application/javascript": "\n            setTimeout(function() {\n                var nbb_cell_id = 2;\n                var nbb_unformatted_code = \"hcv = AlignIO.read(\\\"HCV.nexus\\\", format=\\\"nexus\\\")\\ndata = SeqData(hcv, gisaid=False, contemp=True, dates=1993.0)\";\n                var nbb_formatted_code = \"hcv = AlignIO.read(\\\"HCV.nexus\\\", format=\\\"nexus\\\")\\ndata = SeqData(hcv, gisaid=False, contemp=True, dates=1993.0)\";\n                var nbb_cells = Jupyter.notebook.get_cells();\n                for (var i = 0; i < nbb_cells.length; ++i) {\n                    if (nbb_cells[i].input_prompt_number == nbb_cell_id) {\n                        if (nbb_cells[i].get_text() == nbb_unformatted_code) {\n                             nbb_cells[i].set_text(nbb_formatted_code);\n                        }\n                        break;\n                    }\n                }\n            }, 500);\n            ",
      "text/plain": [
       "<IPython.core.display.Javascript object>"
      ]
     },
     "metadata": {},
     "output_type": "display_data"
    }
   ],
   "source": [
    "hcv = AlignIO.read(\"HCV.nexus\", format=\"nexus\")\n",
    "data = SeqData(hcv, gisaid=False, contemp=True, dates=1993.0)"
   ]
  },
  {
   "cell_type": "markdown",
   "metadata": {},
   "source": [
    "#### Data Preprocessing"
   ]
  },
  {
   "cell_type": "code",
   "execution_count": 3,
   "metadata": {
    "ExecuteTime": {
     "end_time": "2022-02-18T03:47:11.733261Z",
     "start_time": "2022-02-18T03:47:05.341529Z"
    }
   },
   "outputs": [
    {
     "name": "stdout",
     "output_type": "stream",
     "text": [
      "Readying trees\n"
     ]
    },
    {
     "name": "stderr",
     "output_type": "stream",
     "text": [
      "100%|██████████| 10/10 [00:00<00:00, 51.55it/s]\n"
     ]
    },
    {
     "name": "stdout",
     "output_type": "stream",
     "text": [
      "Writing phylo trees\n",
      "Processing trees\n"
     ]
    },
    {
     "name": "stderr",
     "output_type": "stream",
     "text": [
      "100%|██████████| 10/10 [00:03<00:00,  2.62it/s]\n"
     ]
    },
    {
     "name": "stdout",
     "output_type": "stream",
     "text": [
      "Readying tip data\n"
     ]
    },
    {
     "name": "stderr",
     "output_type": "stream",
     "text": [
      "100%|██████████| 10/10 [00:03<00:00,  3.06it/s]\n"
     ]
    },
    {
     "data": {
      "application/javascript": "\n            setTimeout(function() {\n                var nbb_cell_id = 3;\n                var nbb_unformatted_code = \"n_tips = 10 #Number of tips per tree\\nn_trees = 10 #Number of trees\\ntemp_folder = \\\"./\\\" #Place to save temporary folders\\ntree_path = \\\"./subsample.trees\\\"\\n\\ndata.prep_data(\\n    n_tips,\\n    n_trees,\\n    temp_folder,\\n    tree_path,\\n)\";\n                var nbb_formatted_code = \"n_tips = 10  # Number of tips per tree\\nn_trees = 10  # Number of trees\\ntemp_folder = \\\"./\\\"  # Place to save temporary folders\\ntree_path = \\\"./subsample.trees\\\"\\n\\ndata.prep_data(\\n    n_tips,\\n    n_trees,\\n    temp_folder,\\n    tree_path,\\n)\";\n                var nbb_cells = Jupyter.notebook.get_cells();\n                for (var i = 0; i < nbb_cells.length; ++i) {\n                    if (nbb_cells[i].input_prompt_number == nbb_cell_id) {\n                        if (nbb_cells[i].get_text() == nbb_unformatted_code) {\n                             nbb_cells[i].set_text(nbb_formatted_code);\n                        }\n                        break;\n                    }\n                }\n            }, 500);\n            ",
      "text/plain": [
       "<IPython.core.display.Javascript object>"
      ]
     },
     "metadata": {},
     "output_type": "display_data"
    }
   ],
   "source": [
    "n_tips = 10 #Number of tips per tree\n",
    "n_trees = 10 #Number of trees\n",
    "temp_folder = \"./\" #Place to save temporary folders\n",
    "tree_path = \"./subsample.trees\"\n",
    "\n",
    "data.prep_data(\n",
    "    n_tips,\n",
    "    n_trees,\n",
    "    temp_folder,\n",
    "    tree_path,\n",
    ")"
   ]
  },
  {
   "cell_type": "markdown",
   "metadata": {},
   "source": [
    "#### Define Priors and Parameters"
   ]
  },
  {
   "cell_type": "code",
   "execution_count": 4,
   "metadata": {
    "ExecuteTime": {
     "end_time": "2022-02-18T03:47:11.788941Z",
     "start_time": "2022-02-18T03:47:11.737093Z"
    }
   },
   "outputs": [
    {
     "data": {
      "application/javascript": "\n            setTimeout(function() {\n                var nbb_cell_id = 4;\n                var nbb_unformatted_code = \"#Define a function to give value of prior given parameters\\ndef _params_prior_loglik(params):\\n    ll = 0\\n    tau = {\\\"R\\\": params[\\\"precision_R\\\"][0], \\\"delta\\\": params[\\\"precision_delta\\\"][0]}\\n    ll += jax.scipy.stats.gamma.logpdf(tau[\\\"R\\\"], a=0.001, scale=1 / 0.001)\\n    ll += jax.scipy.stats.gamma.logpdf(tau[\\\"delta\\\"], a=0.001, scale=1 / 0.001)\\n    ll += jax.scipy.stats.beta.logpdf(params[\\\"rho_m\\\"], 1, 9999).sum()\\n\\n    mus = [1.0, 1.0, 1.0]\\n    sigmas = [1.25, 1.25, 1.25]\\n\\n    for i, k in enumerate([\\\"R\\\", \\\"delta\\\", \\\"origin\\\"]):\\n        log_rate = jnp.log(params[k])\\n        ll += _lognorm_logpdf(log_rate, mu=mus[i], sigma=sigmas[i]).sum()\\n\\n    for k in [\\\"R\\\", \\\"delta\\\"]:\\n        log_rate = jnp.log(params[k])\\n        ll -= (tau[k] / 2) * (jnp.diff(log_rate) ** 2).sum()\\n        m = len(log_rate)\\n        ll += xlogy((m - 1) / 2, tau[k] / (2 * jnp.pi))\\n\\n    return ll\\n\\n\\nm = 10 #Number of intervals \\n\\n# Define local parameters for the different trees in our ensemble\\nlocal_flows = [\\n    {\\\"proportions\\\": Transform(td.n - 2, z1), \\\"root_proportion\\\": Transform(1, z1)}\\n    for td in data.tds\\n]\\n\\n# Define global epidemiological parameters\\nglobal_flows = VF(\\n    origin=Transform(1, pos),\\n    origin_start=Constant(0.0),\\n    delta=Transform(m, pos),\\n    R=Transform(m, pos),\\n    rho_m=Transform(1, z1),\\n    s=Constant(np.repeat(0.00, m)),\\n    precision_R=Transform(1, pos),\\n    precision_delta=Transform(1, pos),\\n    clock_rate=Constant(0.79e-3),\\n)\\n\\ndata.setup_flows(global_flows, local_flows)\";\n                var nbb_formatted_code = \"# Define a function to give value of prior given parameters\\ndef _params_prior_loglik(params):\\n    ll = 0\\n    tau = {\\\"R\\\": params[\\\"precision_R\\\"][0], \\\"delta\\\": params[\\\"precision_delta\\\"][0]}\\n    ll += jax.scipy.stats.gamma.logpdf(tau[\\\"R\\\"], a=0.001, scale=1 / 0.001)\\n    ll += jax.scipy.stats.gamma.logpdf(tau[\\\"delta\\\"], a=0.001, scale=1 / 0.001)\\n    ll += jax.scipy.stats.beta.logpdf(params[\\\"rho_m\\\"], 1, 9999).sum()\\n\\n    mus = [1.0, 1.0, 1.0]\\n    sigmas = [1.25, 1.25, 1.25]\\n\\n    for i, k in enumerate([\\\"R\\\", \\\"delta\\\", \\\"origin\\\"]):\\n        log_rate = jnp.log(params[k])\\n        ll += _lognorm_logpdf(log_rate, mu=mus[i], sigma=sigmas[i]).sum()\\n\\n    for k in [\\\"R\\\", \\\"delta\\\"]:\\n        log_rate = jnp.log(params[k])\\n        ll -= (tau[k] / 2) * (jnp.diff(log_rate) ** 2).sum()\\n        m = len(log_rate)\\n        ll += xlogy((m - 1) / 2, tau[k] / (2 * jnp.pi))\\n\\n    return ll\\n\\n\\nm = 10  # Number of intervals\\n\\n# Define local parameters for the different trees in our ensemble\\nlocal_flows = [\\n    {\\\"proportions\\\": Transform(td.n - 2, z1), \\\"root_proportion\\\": Transform(1, z1)}\\n    for td in data.tds\\n]\\n\\n# Define global epidemiological parameters\\nglobal_flows = VF(\\n    origin=Transform(1, pos),\\n    origin_start=Constant(0.0),\\n    delta=Transform(m, pos),\\n    R=Transform(m, pos),\\n    rho_m=Transform(1, z1),\\n    s=Constant(np.repeat(0.00, m)),\\n    precision_R=Transform(1, pos),\\n    precision_delta=Transform(1, pos),\\n    clock_rate=Constant(0.79e-3),\\n)\\n\\ndata.setup_flows(global_flows, local_flows)\";\n                var nbb_cells = Jupyter.notebook.get_cells();\n                for (var i = 0; i < nbb_cells.length; ++i) {\n                    if (nbb_cells[i].input_prompt_number == nbb_cell_id) {\n                        if (nbb_cells[i].get_text() == nbb_unformatted_code) {\n                             nbb_cells[i].set_text(nbb_formatted_code);\n                        }\n                        break;\n                    }\n                }\n            }, 500);\n            ",
      "text/plain": [
       "<IPython.core.display.Javascript object>"
      ]
     },
     "metadata": {},
     "output_type": "display_data"
    }
   ],
   "source": [
    "#Define a function to give value of prior given parameters\n",
    "def _params_prior_loglik(params):\n",
    "    ll = 0\n",
    "    tau = {\"R\": params[\"precision_R\"][0], \"delta\": params[\"precision_delta\"][0]}\n",
    "    ll += jax.scipy.stats.gamma.logpdf(tau[\"R\"], a=0.001, scale=1 / 0.001)\n",
    "    ll += jax.scipy.stats.gamma.logpdf(tau[\"delta\"], a=0.001, scale=1 / 0.001)\n",
    "    ll += jax.scipy.stats.beta.logpdf(params[\"rho_m\"], 1, 9999).sum()\n",
    "\n",
    "    mus = [1.0, 1.0, 1.0]\n",
    "    sigmas = [1.25, 1.25, 1.25]\n",
    "\n",
    "    for i, k in enumerate([\"R\", \"delta\", \"origin\"]):\n",
    "        log_rate = jnp.log(params[k])\n",
    "        ll += _lognorm_logpdf(log_rate, mu=mus[i], sigma=sigmas[i]).sum()\n",
    "\n",
    "    for k in [\"R\", \"delta\"]:\n",
    "        log_rate = jnp.log(params[k])\n",
    "        ll -= (tau[k] / 2) * (jnp.diff(log_rate) ** 2).sum()\n",
    "        m = len(log_rate)\n",
    "        ll += xlogy((m - 1) / 2, tau[k] / (2 * jnp.pi))\n",
    "\n",
    "    return ll\n",
    "\n",
    "\n",
    "m = 10 #Number of intervals \n",
    "\n",
    "# Define local parameters for the different trees in our ensemble\n",
    "local_flows = [\n",
    "    {\"proportions\": Transform(td.n - 2, z1), \"root_proportion\": Transform(1, z1)}\n",
    "    for td in data.tds\n",
    "]\n",
    "\n",
    "# Define global epidemiological parameters\n",
    "global_flows = VF(\n",
    "    origin=Transform(1, pos),\n",
    "    origin_start=Constant(0.0),\n",
    "    delta=Transform(m, pos),\n",
    "    R=Transform(m, pos),\n",
    "    rho_m=Transform(1, z1),\n",
    "    s=Constant(np.repeat(0.00, m)),\n",
    "    precision_R=Transform(1, pos),\n",
    "    precision_delta=Transform(1, pos),\n",
    "    clock_rate=Constant(0.79e-3),\n",
    ")\n",
    "\n",
    "data.setup_flows(global_flows, local_flows)"
   ]
  },
  {
   "cell_type": "markdown",
   "metadata": {},
   "source": [
    "#### Run Optimization Loop"
   ]
  },
  {
   "cell_type": "code",
   "execution_count": 5,
   "metadata": {
    "ExecuteTime": {
     "end_time": "2022-02-18T03:47:37.878199Z",
     "start_time": "2022-02-18T03:47:11.790403Z"
    }
   },
   "outputs": [
    {
     "name": "stderr",
     "output_type": "stream",
     "text": [
      "WARNING:absl:No GPU/TPU found, falling back to CPU. (Set TF_CPP_MIN_LOG_LEVEL=0 and rerun for more info.)\n",
      "100%|██████████| 100/100 [00:14<00:00,  7.04it/s]\n"
     ]
    },
    {
     "data": {
      "application/javascript": "\n            setTimeout(function() {\n                var nbb_cell_id = 5;\n                var nbb_unformatted_code = \"rng = jax.random.PRNGKey(6)\\nn_iter = 10\\nthreshold = 0.001\\nstep_size = 1.0\\n\\nres = data.loop(\\n    _params_prior_loglik, rng, n_iter, step_size=step_size, threshold=threshold,\\n)\";\n                var nbb_formatted_code = \"rng = jax.random.PRNGKey(6)\\nn_iter = 10\\nthreshold = 0.001\\nstep_size = 1.0\\n\\nres = data.loop(\\n    _params_prior_loglik,\\n    rng,\\n    n_iter,\\n    step_size=step_size,\\n    threshold=threshold,\\n)\";\n                var nbb_cells = Jupyter.notebook.get_cells();\n                for (var i = 0; i < nbb_cells.length; ++i) {\n                    if (nbb_cells[i].input_prompt_number == nbb_cell_id) {\n                        if (nbb_cells[i].get_text() == nbb_unformatted_code) {\n                             nbb_cells[i].set_text(nbb_formatted_code);\n                        }\n                        break;\n                    }\n                }\n            }, 500);\n            ",
      "text/plain": [
       "<IPython.core.display.Javascript object>"
      ]
     },
     "metadata": {},
     "output_type": "display_data"
    }
   ],
   "source": [
    "rng = jax.random.PRNGKey(6)\n",
    "n_iter = 10\n",
    "threshold = 0.001\n",
    "step_size = 1.0\n",
    "\n",
    "res = data.loop(\n",
    "    _params_prior_loglik, rng, n_iter, step_size=step_size, threshold=threshold,\n",
    ")"
   ]
  },
  {
   "cell_type": "markdown",
   "metadata": {},
   "source": [
    "#### Visualize Posteriors"
   ]
  },
  {
   "cell_type": "code",
   "execution_count": 6,
   "metadata": {
    "ExecuteTime": {
     "end_time": "2022-02-18T03:47:42.722840Z",
     "start_time": "2022-02-18T03:47:37.891683Z"
    }
   },
   "outputs": [
    {
     "data": {
      "text/plain": [
       "<matplotlib.legend.Legend at 0x13526e820>"
      ]
     },
     "execution_count": 6,
     "metadata": {},
     "output_type": "execute_result"
    },
    {
     "data": {
      "image/svg+xml": "<?xml version=\"1.0\" encoding=\"utf-8\" standalone=\"no\"?>\n<!DOCTYPE svg PUBLIC \"-//W3C//DTD SVG 1.1//EN\"\n  \"http://www.w3.org/Graphics/SVG/1.1/DTD/svg11.dtd\">\n<svg height=\"249.612174pt\" version=\"1.1\" viewBox=\"0 0 376.91193 249.612174\" width=\"376.91193pt\" xmlns=\"http://www.w3.org/2000/svg\" xmlns:xlink=\"http://www.w3.org/1999/xlink\">\n <metadata>\n  <rdf:RDF xmlns:cc=\"http://creativecommons.org/ns#\" xmlns:dc=\"http://purl.org/dc/elements/1.1/\" xmlns:rdf=\"http://www.w3.org/1999/02/22-rdf-syntax-ns#\">\n   <cc:Work>\n    <dc:type rdf:resource=\"http://purl.org/dc/dcmitype/StillImage\"/>\n    <dc:date>2022-02-18T11:40:22.050629</dc:date>\n    <dc:format>image/svg+xml</dc:format>\n    <dc:creator>\n     <cc:Agent>\n      <dc:title>Matplotlib v3.4.3, https://matplotlib.org/</dc:title>\n     </cc:Agent>\n    </dc:creator>\n   </cc:Work>\n  </rdf:RDF>\n </metadata>\n <defs>\n  <style type=\"text/css\">*{stroke-linecap:butt;stroke-linejoin:round;}</style>\n </defs>\n <g id=\"figure_1\">\n  <g id=\"patch_1\">\n   <path d=\"M 0 249.612174 \nL 376.91193 249.612174 \nL 376.91193 0 \nL 0 0 \nz\n\" style=\"fill:none;\"/>\n  </g>\n  <g id=\"axes_1\">\n   <g id=\"patch_2\">\n    <path d=\"M 30.103125 225.734049 \nL 364.903125 225.734049 \nL 364.903125 8.294049 \nL 30.103125 8.294049 \nz\n\" style=\"fill:#ffffff;\"/>\n   </g>\n   <g id=\"PolyCollection_1\">\n    <defs>\n     <path d=\"M 45.321307 -147.811527 \nL 45.321307 -66.385796 \nL 48.395687 -66.409447 \nL 51.470067 -66.378058 \nL 54.544447 -66.403808 \nL 57.618827 -66.39521 \nL 60.693208 -66.426814 \nL 63.767588 -66.479868 \nL 66.841968 -66.40923 \nL 69.916348 -66.538476 \nL 72.990728 -66.532853 \nL 76.065108 -66.588408 \nL 79.139489 -66.56623 \nL 82.213869 -66.62202 \nL 85.288249 -66.681398 \nL 88.362629 -66.888508 \nL 91.437009 -66.96755 \nL 94.511389 -67.141863 \nL 97.58577 -67.33005 \nL 100.66015 -67.391762 \nL 103.73453 -67.482825 \nL 106.80891 -67.618412 \nL 109.88329 -67.611387 \nL 112.95767 -67.884346 \nL 116.032051 -67.971415 \nL 119.106431 -68.239177 \nL 122.180811 -68.440071 \nL 125.255191 -68.635071 \nL 128.329571 -68.964064 \nL 131.403951 -69.144634 \nL 134.478332 -69.877497 \nL 137.552712 -70.364951 \nL 140.627092 -71.151377 \nL 143.701472 -72.345704 \nL 146.775852 -76.877895 \nL 149.850232 -83.924139 \nL 152.924613 -87.144616 \nL 155.998993 -90.4753 \nL 159.073373 -93.341337 \nL 162.147753 -97.330273 \nL 165.222133 -101.110797 \nL 168.296513 -104.771534 \nL 171.370894 -110.574088 \nL 174.445274 -116.646987 \nL 177.519654 -119.252182 \nL 180.594034 -121.64016 \nL 183.668414 -122.791597 \nL 186.742794 -123.405371 \nL 189.817175 -123.717658 \nL 192.891555 -123.717658 \nL 195.965935 -123.716054 \nL 199.040315 -123.64006 \nL 202.114695 -123.171467 \nL 205.189075 -123.211633 \nL 208.263456 -122.802995 \nL 211.337836 -122.304498 \nL 214.412216 -121.964443 \nL 217.486596 -121.618509 \nL 220.560976 -121.443111 \nL 223.635356 -121.294573 \nL 226.709737 -121.011713 \nL 229.784117 -121.236997 \nL 232.858497 -121.417952 \nL 235.932877 -121.660994 \nL 239.007257 -121.940904 \nL 242.081637 -122.757283 \nL 245.156018 -123.348634 \nL 248.230398 -124.505324 \nL 251.304778 -126.063501 \nL 254.379158 -127.688942 \nL 257.453538 -129.665575 \nL 260.527918 -132.108426 \nL 263.602299 -134.635656 \nL 266.676679 -136.027078 \nL 269.751059 -136.973346 \nL 272.825439 -137.157001 \nL 275.899819 -137.075957 \nL 278.974199 -137.002774 \nL 282.04858 -137.002774 \nL 285.12296 -136.961599 \nL 288.19734 -137.060842 \nL 291.27172 -137.155829 \nL 294.3461 -137.265362 \nL 297.42048 -137.593591 \nL 300.494861 -138.412132 \nL 303.569241 -140.122457 \nL 306.643621 -142.641732 \nL 309.718001 -146.473983 \nL 312.792381 -149.330492 \nL 315.866761 -150.866858 \nL 318.941142 -151.123209 \nL 322.015522 -151.133074 \nL 325.089902 -151.133074 \nL 328.164282 -151.123209 \nL 331.238662 -150.970539 \nL 334.313042 -149.83399 \nL 337.387423 -149.4583 \nL 340.461803 -149.389075 \nL 343.536183 -149.389075 \nL 346.610563 -149.389075 \nL 349.684943 -149.389075 \nL 349.684943 -166.395017 \nL 349.684943 -166.395017 \nL 346.610563 -166.395017 \nL 343.536183 -166.395017 \nL 340.461803 -166.395017 \nL 337.387423 -169.512443 \nL 334.313042 -182.890188 \nL 331.238662 -185.323544 \nL 328.164282 -185.67953 \nL 325.089902 -185.67953 \nL 322.015522 -185.67953 \nL 318.941142 -185.682971 \nL 315.866761 -185.727129 \nL 312.792381 -185.852972 \nL 309.718001 -185.913137 \nL 306.643621 -186.30673 \nL 303.569241 -186.632862 \nL 300.494861 -186.844751 \nL 297.42048 -187.171274 \nL 294.3461 -187.157755 \nL 291.27172 -187.121151 \nL 288.19734 -187.071706 \nL 285.12296 -186.917308 \nL 282.04858 -186.679661 \nL 278.974199 -186.443611 \nL 275.899819 -186.234957 \nL 272.825439 -185.957841 \nL 269.751059 -185.444864 \nL 266.676679 -185.173175 \nL 263.602299 -184.592322 \nL 260.527918 -184.045218 \nL 257.453538 -183.578297 \nL 254.379158 -182.944393 \nL 251.304778 -182.180599 \nL 248.230398 -181.54349 \nL 245.156018 -181.096944 \nL 242.081637 -180.354874 \nL 239.007257 -179.729828 \nL 235.932877 -179.297102 \nL 232.858497 -179.038352 \nL 229.784117 -179.141788 \nL 226.709737 -179.269408 \nL 223.635356 -179.347333 \nL 220.560976 -179.508486 \nL 217.486596 -180.421763 \nL 214.412216 -181.412643 \nL 211.337836 -182.683151 \nL 208.263456 -184.356643 \nL 205.189075 -185.192674 \nL 202.114695 -186.529529 \nL 199.040315 -187.256872 \nL 195.965935 -187.812152 \nL 192.891555 -188.71977 \nL 189.817175 -188.985922 \nL 186.742794 -189.462662 \nL 183.668414 -189.910596 \nL 180.594034 -190.2385 \nL 177.519654 -190.567157 \nL 174.445274 -190.655068 \nL 171.370894 -190.655068 \nL 168.296513 -190.372865 \nL 165.222133 -190.179575 \nL 162.147753 -189.899459 \nL 159.073373 -189.612917 \nL 155.998993 -189.379958 \nL 152.924613 -188.038656 \nL 149.850232 -187.478433 \nL 146.775852 -186.647123 \nL 143.701472 -185.337434 \nL 140.627092 -184.603386 \nL 137.552712 -183.748066 \nL 134.478332 -182.934458 \nL 131.403951 -182.313357 \nL 128.329571 -181.419578 \nL 125.255191 -180.728375 \nL 122.180811 -179.177883 \nL 119.106431 -178.08396 \nL 116.032051 -177.167917 \nL 112.95767 -176.25669 \nL 109.88329 -174.25556 \nL 106.80891 -173.150188 \nL 103.73453 -172.299244 \nL 100.66015 -171.668421 \nL 97.58577 -169.974463 \nL 94.511389 -169.047969 \nL 91.437009 -167.524079 \nL 88.362629 -166.462042 \nL 85.288249 -165.161153 \nL 82.213869 -164.334909 \nL 79.139489 -162.256391 \nL 76.065108 -161.49101 \nL 72.990728 -159.725901 \nL 69.916348 -158.816301 \nL 66.841968 -157.401066 \nL 63.767588 -156.751911 \nL 60.693208 -155.499766 \nL 57.618827 -154.700834 \nL 54.544447 -152.999116 \nL 51.470067 -150.758414 \nL 48.395687 -147.668714 \nL 45.321307 -147.811527 \nz\n\" id=\"m61558d031c\" style=\"stroke:#1f77b4;stroke-opacity:0.1;\"/>\n    </defs>\n    <g clip-path=\"url(#p74c6e1acb9)\">\n     <use style=\"fill:#1f77b4;fill-opacity:0.1;stroke:#1f77b4;stroke-opacity:0.1;\" x=\"0\" xlink:href=\"#m61558d031c\" y=\"249.612174\"/>\n    </g>\n   </g>\n   <g id=\"PolyCollection_2\">\n    <defs>\n     <path d=\"M 45.321307 -229.437101 \nL 45.321307 -58.926233 \nL 48.395687 -57.600998 \nL 51.470067 -57.358627 \nL 54.544447 -57.472605 \nL 57.618827 -57.616975 \nL 60.693208 -58.232518 \nL 63.767588 -58.51228 \nL 66.841968 -58.976246 \nL 69.916348 -58.606067 \nL 72.990728 -58.612109 \nL 76.065108 -58.499863 \nL 79.139489 -58.27903 \nL 82.213869 -58.482908 \nL 85.288249 -58.510994 \nL 88.362629 -58.411895 \nL 91.437009 -58.30646 \nL 94.511389 -58.034641 \nL 97.58577 -57.538438 \nL 100.66015 -57.404699 \nL 103.73453 -56.862257 \nL 106.80891 -56.379402 \nL 109.88329 -56.243639 \nL 112.95767 -55.978614 \nL 116.032051 -55.356615 \nL 119.106431 -54.568376 \nL 122.180811 -53.593398 \nL 125.255191 -53.467013 \nL 128.329571 -52.564354 \nL 131.403951 -51.868646 \nL 134.478332 -51.143121 \nL 137.552712 -50.638454 \nL 140.627092 -50.170363 \nL 143.701472 -49.303841 \nL 146.775852 -49.065706 \nL 149.850232 -48.865365 \nL 152.924613 -48.372427 \nL 155.998993 -47.901081 \nL 159.073373 -47.385077 \nL 162.147753 -47.198087 \nL 165.222133 -46.61821 \nL 168.296513 -46.270855 \nL 171.370894 -45.916917 \nL 174.445274 -45.291686 \nL 177.519654 -44.856195 \nL 180.594034 -44.3017 \nL 183.668414 -44.012953 \nL 186.742794 -43.384352 \nL 189.817175 -42.928198 \nL 192.891555 -42.743783 \nL 195.965935 -42.505976 \nL 199.040315 -42.153193 \nL 202.114695 -41.775283 \nL 205.189075 -41.622836 \nL 208.263456 -41.453728 \nL 211.337836 -40.970397 \nL 214.412216 -40.366689 \nL 217.486596 -39.807754 \nL 220.560976 -39.392807 \nL 223.635356 -38.983434 \nL 226.709737 -38.40451 \nL 229.784117 -37.815646 \nL 232.858497 -37.406048 \nL 235.932877 -36.634446 \nL 239.007257 -35.918556 \nL 242.081637 -35.357121 \nL 245.156018 -35.041453 \nL 248.230398 -34.769303 \nL 251.304778 -34.394418 \nL 254.379158 -34.128411 \nL 257.453538 -33.952258 \nL 260.527918 -33.847347 \nL 263.602299 -33.761761 \nL 266.676679 -33.991126 \nL 269.751059 -34.392764 \nL 272.825439 -34.633743 \nL 275.899819 -35.02639 \nL 278.974199 -35.564303 \nL 282.04858 -35.852751 \nL 285.12296 -36.230929 \nL 288.19734 -36.443694 \nL 291.27172 -36.600878 \nL 294.3461 -36.791295 \nL 297.42048 -37.144532 \nL 300.494861 -37.627415 \nL 303.569241 -38.147006 \nL 306.643621 -39.400337 \nL 309.718001 -40.691308 \nL 312.792381 -41.481019 \nL 315.866761 -42.092201 \nL 318.941142 -42.267386 \nL 322.015522 -42.329397 \nL 325.089902 -42.329397 \nL 328.164282 -42.329397 \nL 331.238662 -42.585213 \nL 334.313042 -43.561929 \nL 337.387423 -45.103774 \nL 340.461803 -45.203663 \nL 343.536183 -45.203663 \nL 346.610563 -45.203663 \nL 349.684943 -45.203663 \nL 349.684943 -75.704706 \nL 349.684943 -75.704706 \nL 346.610563 -75.704706 \nL 343.536183 -75.704706 \nL 340.461803 -75.704706 \nL 337.387423 -78.140115 \nL 334.313042 -94.759059 \nL 331.238662 -100.308194 \nL 328.164282 -100.999484 \nL 325.089902 -101.013781 \nL 322.015522 -101.013781 \nL 318.941142 -101.000489 \nL 315.866761 -101.000489 \nL 312.792381 -100.554081 \nL 309.718001 -99.62984 \nL 306.643621 -98.105836 \nL 303.569241 -96.123144 \nL 300.494861 -93.862578 \nL 297.42048 -91.718485 \nL 294.3461 -91.211905 \nL 291.27172 -91.353967 \nL 288.19734 -92.600466 \nL 285.12296 -95.810745 \nL 282.04858 -98.77705 \nL 278.974199 -104.417302 \nL 275.899819 -110.43411 \nL 272.825439 -114.203764 \nL 269.751059 -119.18361 \nL 266.676679 -121.497338 \nL 263.602299 -124.126576 \nL 260.527918 -126.570118 \nL 257.453538 -128.043234 \nL 254.379158 -129.05336 \nL 251.304778 -131.216176 \nL 248.230398 -132.41565 \nL 245.156018 -133.330268 \nL 242.081637 -133.65692 \nL 239.007257 -132.944333 \nL 235.932877 -132.479784 \nL 232.858497 -132.402145 \nL 229.784117 -133.240617 \nL 226.709737 -132.401123 \nL 223.635356 -132.091208 \nL 220.560976 -131.761246 \nL 217.486596 -130.545019 \nL 214.412216 -131.126127 \nL 211.337836 -131.415732 \nL 208.263456 -132.219549 \nL 205.189075 -132.613041 \nL 202.114695 -133.871337 \nL 199.040315 -135.555774 \nL 195.965935 -136.880309 \nL 192.891555 -140.114188 \nL 189.817175 -141.600909 \nL 186.742794 -144.043659 \nL 183.668414 -146.986498 \nL 180.594034 -150.953589 \nL 177.519654 -156.056704 \nL 174.445274 -158.92691 \nL 171.370894 -162.285967 \nL 168.296513 -164.73897 \nL 165.222133 -167.477542 \nL 162.147753 -168.709838 \nL 159.073373 -171.853866 \nL 155.998993 -174.420216 \nL 152.924613 -176.217076 \nL 149.850232 -178.356039 \nL 146.775852 -180.034146 \nL 143.701472 -181.227057 \nL 140.627092 -185.315395 \nL 137.552712 -187.187816 \nL 134.478332 -189.242648 \nL 131.403951 -192.084603 \nL 128.329571 -192.479473 \nL 125.255191 -193.074835 \nL 122.180811 -194.167152 \nL 119.106431 -196.181997 \nL 116.032051 -199.881542 \nL 112.95767 -200.768249 \nL 109.88329 -201.226543 \nL 106.80891 -202.405499 \nL 103.73453 -202.828163 \nL 100.66015 -202.553129 \nL 97.58577 -203.364368 \nL 94.511389 -206.293281 \nL 91.437009 -210.03739 \nL 88.362629 -211.508891 \nL 85.288249 -212.117302 \nL 82.213869 -215.091641 \nL 79.139489 -216.622428 \nL 76.065108 -218.186538 \nL 72.990728 -223.619053 \nL 69.916348 -228.745373 \nL 66.841968 -227.363764 \nL 63.767588 -228.403288 \nL 60.693208 -228.03422 \nL 57.618827 -223.72458 \nL 54.544447 -225.258846 \nL 51.470067 -226.756331 \nL 48.395687 -231.434489 \nL 45.321307 -229.437101 \nz\n\" id=\"m83cc691152\" style=\"stroke:#ff7f0e;stroke-opacity:0.1;\"/>\n    </defs>\n    <g clip-path=\"url(#p74c6e1acb9)\">\n     <use style=\"fill:#ff7f0e;fill-opacity:0.1;stroke:#ff7f0e;stroke-opacity:0.1;\" x=\"0\" xlink:href=\"#m83cc691152\" y=\"249.612174\"/>\n    </g>\n   </g>\n   <g id=\"matplotlib.axis_1\">\n    <g id=\"xtick_1\">\n     <g id=\"line2d_1\">\n      <defs>\n       <path d=\"M 0 0 \nL 0 3.5 \n\" id=\"m2da096b7ab\" style=\"stroke:#000000;stroke-width:0.8;\"/>\n      </defs>\n      <g>\n       <use style=\"stroke:#000000;stroke-width:0.8;\" x=\"44.044637\" xlink:href=\"#m2da096b7ab\" y=\"225.734049\"/>\n      </g>\n     </g>\n     <g id=\"text_1\">\n      <!-- 1700 -->\n      <g transform=\"translate(31.319637 240.332486)scale(0.1 -0.1)\">\n       <defs>\n        <path d=\"M 794 531 \nL 1825 531 \nL 1825 4091 \nL 703 3866 \nL 703 4441 \nL 1819 4666 \nL 2450 4666 \nL 2450 531 \nL 3481 531 \nL 3481 0 \nL 794 0 \nL 794 531 \nz\n\" id=\"DejaVuSans-31\" transform=\"scale(0.015625)\"/>\n        <path d=\"M 525 4666 \nL 3525 4666 \nL 3525 4397 \nL 1831 0 \nL 1172 0 \nL 2766 4134 \nL 525 4134 \nL 525 4666 \nz\n\" id=\"DejaVuSans-37\" transform=\"scale(0.015625)\"/>\n        <path d=\"M 2034 4250 \nQ 1547 4250 1301 3770 \nQ 1056 3291 1056 2328 \nQ 1056 1369 1301 889 \nQ 1547 409 2034 409 \nQ 2525 409 2770 889 \nQ 3016 1369 3016 2328 \nQ 3016 3291 2770 3770 \nQ 2525 4250 2034 4250 \nz\nM 2034 4750 \nQ 2819 4750 3233 4129 \nQ 3647 3509 3647 2328 \nQ 3647 1150 3233 529 \nQ 2819 -91 2034 -91 \nQ 1250 -91 836 529 \nQ 422 1150 422 2328 \nQ 422 3509 836 4129 \nQ 1250 4750 2034 4750 \nz\n\" id=\"DejaVuSans-30\" transform=\"scale(0.015625)\"/>\n       </defs>\n       <use xlink:href=\"#DejaVuSans-31\"/>\n       <use x=\"63.623047\" xlink:href=\"#DejaVuSans-37\"/>\n       <use x=\"127.246094\" xlink:href=\"#DejaVuSans-30\"/>\n       <use x=\"190.869141\" xlink:href=\"#DejaVuSans-30\"/>\n      </g>\n     </g>\n    </g>\n    <g id=\"xtick_2\">\n     <g id=\"line2d_2\">\n      <g>\n       <use style=\"stroke:#000000;stroke-width:0.8;\" x=\"96.201686\" xlink:href=\"#m2da096b7ab\" y=\"225.734049\"/>\n      </g>\n     </g>\n     <g id=\"text_2\">\n      <!-- 1750 -->\n      <g transform=\"translate(83.476686 240.332486)scale(0.1 -0.1)\">\n       <defs>\n        <path d=\"M 691 4666 \nL 3169 4666 \nL 3169 4134 \nL 1269 4134 \nL 1269 2991 \nQ 1406 3038 1543 3061 \nQ 1681 3084 1819 3084 \nQ 2600 3084 3056 2656 \nQ 3513 2228 3513 1497 \nQ 3513 744 3044 326 \nQ 2575 -91 1722 -91 \nQ 1428 -91 1123 -41 \nQ 819 9 494 109 \nL 494 744 \nQ 775 591 1075 516 \nQ 1375 441 1709 441 \nQ 2250 441 2565 725 \nQ 2881 1009 2881 1497 \nQ 2881 1984 2565 2268 \nQ 2250 2553 1709 2553 \nQ 1456 2553 1204 2497 \nQ 953 2441 691 2322 \nL 691 4666 \nz\n\" id=\"DejaVuSans-35\" transform=\"scale(0.015625)\"/>\n       </defs>\n       <use xlink:href=\"#DejaVuSans-31\"/>\n       <use x=\"63.623047\" xlink:href=\"#DejaVuSans-37\"/>\n       <use x=\"127.246094\" xlink:href=\"#DejaVuSans-35\"/>\n       <use x=\"190.869141\" xlink:href=\"#DejaVuSans-30\"/>\n      </g>\n     </g>\n    </g>\n    <g id=\"xtick_3\">\n     <g id=\"line2d_3\">\n      <g>\n       <use style=\"stroke:#000000;stroke-width:0.8;\" x=\"148.358735\" xlink:href=\"#m2da096b7ab\" y=\"225.734049\"/>\n      </g>\n     </g>\n     <g id=\"text_3\">\n      <!-- 1800 -->\n      <g transform=\"translate(135.633735 240.332486)scale(0.1 -0.1)\">\n       <defs>\n        <path d=\"M 2034 2216 \nQ 1584 2216 1326 1975 \nQ 1069 1734 1069 1313 \nQ 1069 891 1326 650 \nQ 1584 409 2034 409 \nQ 2484 409 2743 651 \nQ 3003 894 3003 1313 \nQ 3003 1734 2745 1975 \nQ 2488 2216 2034 2216 \nz\nM 1403 2484 \nQ 997 2584 770 2862 \nQ 544 3141 544 3541 \nQ 544 4100 942 4425 \nQ 1341 4750 2034 4750 \nQ 2731 4750 3128 4425 \nQ 3525 4100 3525 3541 \nQ 3525 3141 3298 2862 \nQ 3072 2584 2669 2484 \nQ 3125 2378 3379 2068 \nQ 3634 1759 3634 1313 \nQ 3634 634 3220 271 \nQ 2806 -91 2034 -91 \nQ 1263 -91 848 271 \nQ 434 634 434 1313 \nQ 434 1759 690 2068 \nQ 947 2378 1403 2484 \nz\nM 1172 3481 \nQ 1172 3119 1398 2916 \nQ 1625 2713 2034 2713 \nQ 2441 2713 2670 2916 \nQ 2900 3119 2900 3481 \nQ 2900 3844 2670 4047 \nQ 2441 4250 2034 4250 \nQ 1625 4250 1398 4047 \nQ 1172 3844 1172 3481 \nz\n\" id=\"DejaVuSans-38\" transform=\"scale(0.015625)\"/>\n       </defs>\n       <use xlink:href=\"#DejaVuSans-31\"/>\n       <use x=\"63.623047\" xlink:href=\"#DejaVuSans-38\"/>\n       <use x=\"127.246094\" xlink:href=\"#DejaVuSans-30\"/>\n       <use x=\"190.869141\" xlink:href=\"#DejaVuSans-30\"/>\n      </g>\n     </g>\n    </g>\n    <g id=\"xtick_4\">\n     <g id=\"line2d_4\">\n      <g>\n       <use style=\"stroke:#000000;stroke-width:0.8;\" x=\"200.515783\" xlink:href=\"#m2da096b7ab\" y=\"225.734049\"/>\n      </g>\n     </g>\n     <g id=\"text_4\">\n      <!-- 1850 -->\n      <g transform=\"translate(187.790783 240.332486)scale(0.1 -0.1)\">\n       <use xlink:href=\"#DejaVuSans-31\"/>\n       <use x=\"63.623047\" xlink:href=\"#DejaVuSans-38\"/>\n       <use x=\"127.246094\" xlink:href=\"#DejaVuSans-35\"/>\n       <use x=\"190.869141\" xlink:href=\"#DejaVuSans-30\"/>\n      </g>\n     </g>\n    </g>\n    <g id=\"xtick_5\">\n     <g id=\"line2d_5\">\n      <g>\n       <use style=\"stroke:#000000;stroke-width:0.8;\" x=\"252.672832\" xlink:href=\"#m2da096b7ab\" y=\"225.734049\"/>\n      </g>\n     </g>\n     <g id=\"text_5\">\n      <!-- 1900 -->\n      <g transform=\"translate(239.947832 240.332486)scale(0.1 -0.1)\">\n       <defs>\n        <path d=\"M 703 97 \nL 703 672 \nQ 941 559 1184 500 \nQ 1428 441 1663 441 \nQ 2288 441 2617 861 \nQ 2947 1281 2994 2138 \nQ 2813 1869 2534 1725 \nQ 2256 1581 1919 1581 \nQ 1219 1581 811 2004 \nQ 403 2428 403 3163 \nQ 403 3881 828 4315 \nQ 1253 4750 1959 4750 \nQ 2769 4750 3195 4129 \nQ 3622 3509 3622 2328 \nQ 3622 1225 3098 567 \nQ 2575 -91 1691 -91 \nQ 1453 -91 1209 -44 \nQ 966 3 703 97 \nz\nM 1959 2075 \nQ 2384 2075 2632 2365 \nQ 2881 2656 2881 3163 \nQ 2881 3666 2632 3958 \nQ 2384 4250 1959 4250 \nQ 1534 4250 1286 3958 \nQ 1038 3666 1038 3163 \nQ 1038 2656 1286 2365 \nQ 1534 2075 1959 2075 \nz\n\" id=\"DejaVuSans-39\" transform=\"scale(0.015625)\"/>\n       </defs>\n       <use xlink:href=\"#DejaVuSans-31\"/>\n       <use x=\"63.623047\" xlink:href=\"#DejaVuSans-39\"/>\n       <use x=\"127.246094\" xlink:href=\"#DejaVuSans-30\"/>\n       <use x=\"190.869141\" xlink:href=\"#DejaVuSans-30\"/>\n      </g>\n     </g>\n    </g>\n    <g id=\"xtick_6\">\n     <g id=\"line2d_6\">\n      <g>\n       <use style=\"stroke:#000000;stroke-width:0.8;\" x=\"304.829881\" xlink:href=\"#m2da096b7ab\" y=\"225.734049\"/>\n      </g>\n     </g>\n     <g id=\"text_6\">\n      <!-- 1950 -->\n      <g transform=\"translate(292.104881 240.332486)scale(0.1 -0.1)\">\n       <use xlink:href=\"#DejaVuSans-31\"/>\n       <use x=\"63.623047\" xlink:href=\"#DejaVuSans-39\"/>\n       <use x=\"127.246094\" xlink:href=\"#DejaVuSans-35\"/>\n       <use x=\"190.869141\" xlink:href=\"#DejaVuSans-30\"/>\n      </g>\n     </g>\n    </g>\n    <g id=\"xtick_7\">\n     <g id=\"line2d_7\">\n      <g>\n       <use style=\"stroke:#000000;stroke-width:0.8;\" x=\"356.98693\" xlink:href=\"#m2da096b7ab\" y=\"225.734049\"/>\n      </g>\n     </g>\n     <g id=\"text_7\">\n      <!-- 2000 -->\n      <g transform=\"translate(344.26193 240.332486)scale(0.1 -0.1)\">\n       <defs>\n        <path d=\"M 1228 531 \nL 3431 531 \nL 3431 0 \nL 469 0 \nL 469 531 \nQ 828 903 1448 1529 \nQ 2069 2156 2228 2338 \nQ 2531 2678 2651 2914 \nQ 2772 3150 2772 3378 \nQ 2772 3750 2511 3984 \nQ 2250 4219 1831 4219 \nQ 1534 4219 1204 4116 \nQ 875 4013 500 3803 \nL 500 4441 \nQ 881 4594 1212 4672 \nQ 1544 4750 1819 4750 \nQ 2544 4750 2975 4387 \nQ 3406 4025 3406 3419 \nQ 3406 3131 3298 2873 \nQ 3191 2616 2906 2266 \nQ 2828 2175 2409 1742 \nQ 1991 1309 1228 531 \nz\n\" id=\"DejaVuSans-32\" transform=\"scale(0.015625)\"/>\n       </defs>\n       <use xlink:href=\"#DejaVuSans-32\"/>\n       <use x=\"63.623047\" xlink:href=\"#DejaVuSans-30\"/>\n       <use x=\"127.246094\" xlink:href=\"#DejaVuSans-30\"/>\n       <use x=\"190.869141\" xlink:href=\"#DejaVuSans-30\"/>\n      </g>\n     </g>\n    </g>\n   </g>\n   <g id=\"matplotlib.axis_2\">\n    <g id=\"ytick_1\">\n     <g id=\"line2d_8\">\n      <defs>\n       <path d=\"M 0 0 \nL -3.5 0 \n\" id=\"m2a12b424a4\" style=\"stroke:#000000;stroke-width:0.8;\"/>\n      </defs>\n      <g>\n       <use style=\"stroke:#000000;stroke-width:0.8;\" x=\"30.103125\" xlink:href=\"#m2a12b424a4\" y=\"213.046312\"/>\n      </g>\n     </g>\n     <g id=\"text_8\">\n      <!-- 0.2 -->\n      <g transform=\"translate(7.2 216.845531)scale(0.1 -0.1)\">\n       <defs>\n        <path d=\"M 684 794 \nL 1344 794 \nL 1344 0 \nL 684 0 \nL 684 794 \nz\n\" id=\"DejaVuSans-2e\" transform=\"scale(0.015625)\"/>\n       </defs>\n       <use xlink:href=\"#DejaVuSans-30\"/>\n       <use x=\"63.623047\" xlink:href=\"#DejaVuSans-2e\"/>\n       <use x=\"95.410156\" xlink:href=\"#DejaVuSans-32\"/>\n      </g>\n     </g>\n    </g>\n    <g id=\"ytick_2\">\n     <g id=\"line2d_9\">\n      <g>\n       <use style=\"stroke:#000000;stroke-width:0.8;\" x=\"30.103125\" xlink:href=\"#m2a12b424a4\" y=\"184.182442\"/>\n      </g>\n     </g>\n     <g id=\"text_9\">\n      <!-- 0.4 -->\n      <g transform=\"translate(7.2 187.98166)scale(0.1 -0.1)\">\n       <defs>\n        <path d=\"M 2419 4116 \nL 825 1625 \nL 2419 1625 \nL 2419 4116 \nz\nM 2253 4666 \nL 3047 4666 \nL 3047 1625 \nL 3713 1625 \nL 3713 1100 \nL 3047 1100 \nL 3047 0 \nL 2419 0 \nL 2419 1100 \nL 313 1100 \nL 313 1709 \nL 2253 4666 \nz\n\" id=\"DejaVuSans-34\" transform=\"scale(0.015625)\"/>\n       </defs>\n       <use xlink:href=\"#DejaVuSans-30\"/>\n       <use x=\"63.623047\" xlink:href=\"#DejaVuSans-2e\"/>\n       <use x=\"95.410156\" xlink:href=\"#DejaVuSans-34\"/>\n      </g>\n     </g>\n    </g>\n    <g id=\"ytick_3\">\n     <g id=\"line2d_10\">\n      <g>\n       <use style=\"stroke:#000000;stroke-width:0.8;\" x=\"30.103125\" xlink:href=\"#m2a12b424a4\" y=\"155.318571\"/>\n      </g>\n     </g>\n     <g id=\"text_10\">\n      <!-- 0.6 -->\n      <g transform=\"translate(7.2 159.11779)scale(0.1 -0.1)\">\n       <defs>\n        <path d=\"M 2113 2584 \nQ 1688 2584 1439 2293 \nQ 1191 2003 1191 1497 \nQ 1191 994 1439 701 \nQ 1688 409 2113 409 \nQ 2538 409 2786 701 \nQ 3034 994 3034 1497 \nQ 3034 2003 2786 2293 \nQ 2538 2584 2113 2584 \nz\nM 3366 4563 \nL 3366 3988 \nQ 3128 4100 2886 4159 \nQ 2644 4219 2406 4219 \nQ 1781 4219 1451 3797 \nQ 1122 3375 1075 2522 \nQ 1259 2794 1537 2939 \nQ 1816 3084 2150 3084 \nQ 2853 3084 3261 2657 \nQ 3669 2231 3669 1497 \nQ 3669 778 3244 343 \nQ 2819 -91 2113 -91 \nQ 1303 -91 875 529 \nQ 447 1150 447 2328 \nQ 447 3434 972 4092 \nQ 1497 4750 2381 4750 \nQ 2619 4750 2861 4703 \nQ 3103 4656 3366 4563 \nz\n\" id=\"DejaVuSans-36\" transform=\"scale(0.015625)\"/>\n       </defs>\n       <use xlink:href=\"#DejaVuSans-30\"/>\n       <use x=\"63.623047\" xlink:href=\"#DejaVuSans-2e\"/>\n       <use x=\"95.410156\" xlink:href=\"#DejaVuSans-36\"/>\n      </g>\n     </g>\n    </g>\n    <g id=\"ytick_4\">\n     <g id=\"line2d_11\">\n      <g>\n       <use style=\"stroke:#000000;stroke-width:0.8;\" x=\"30.103125\" xlink:href=\"#m2a12b424a4\" y=\"126.454701\"/>\n      </g>\n     </g>\n     <g id=\"text_11\">\n      <!-- 0.8 -->\n      <g transform=\"translate(7.2 130.253919)scale(0.1 -0.1)\">\n       <use xlink:href=\"#DejaVuSans-30\"/>\n       <use x=\"63.623047\" xlink:href=\"#DejaVuSans-2e\"/>\n       <use x=\"95.410156\" xlink:href=\"#DejaVuSans-38\"/>\n      </g>\n     </g>\n    </g>\n    <g id=\"ytick_5\">\n     <g id=\"line2d_12\">\n      <g>\n       <use style=\"stroke:#000000;stroke-width:0.8;\" x=\"30.103125\" xlink:href=\"#m2a12b424a4\" y=\"97.59083\"/>\n      </g>\n     </g>\n     <g id=\"text_12\">\n      <!-- 1.0 -->\n      <g transform=\"translate(7.2 101.390049)scale(0.1 -0.1)\">\n       <use xlink:href=\"#DejaVuSans-31\"/>\n       <use x=\"63.623047\" xlink:href=\"#DejaVuSans-2e\"/>\n       <use x=\"95.410156\" xlink:href=\"#DejaVuSans-30\"/>\n      </g>\n     </g>\n    </g>\n    <g id=\"ytick_6\">\n     <g id=\"line2d_13\">\n      <g>\n       <use style=\"stroke:#000000;stroke-width:0.8;\" x=\"30.103125\" xlink:href=\"#m2a12b424a4\" y=\"68.72696\"/>\n      </g>\n     </g>\n     <g id=\"text_13\">\n      <!-- 1.2 -->\n      <g transform=\"translate(7.2 72.526178)scale(0.1 -0.1)\">\n       <use xlink:href=\"#DejaVuSans-31\"/>\n       <use x=\"63.623047\" xlink:href=\"#DejaVuSans-2e\"/>\n       <use x=\"95.410156\" xlink:href=\"#DejaVuSans-32\"/>\n      </g>\n     </g>\n    </g>\n    <g id=\"ytick_7\">\n     <g id=\"line2d_14\">\n      <g>\n       <use style=\"stroke:#000000;stroke-width:0.8;\" x=\"30.103125\" xlink:href=\"#m2a12b424a4\" y=\"39.863089\"/>\n      </g>\n     </g>\n     <g id=\"text_14\">\n      <!-- 1.4 -->\n      <g transform=\"translate(7.2 43.662308)scale(0.1 -0.1)\">\n       <use xlink:href=\"#DejaVuSans-31\"/>\n       <use x=\"63.623047\" xlink:href=\"#DejaVuSans-2e\"/>\n       <use x=\"95.410156\" xlink:href=\"#DejaVuSans-34\"/>\n      </g>\n     </g>\n    </g>\n    <g id=\"ytick_8\">\n     <g id=\"line2d_15\">\n      <g>\n       <use style=\"stroke:#000000;stroke-width:0.8;\" x=\"30.103125\" xlink:href=\"#m2a12b424a4\" y=\"10.999219\"/>\n      </g>\n     </g>\n     <g id=\"text_15\">\n      <!-- 1.6 -->\n      <g transform=\"translate(7.2 14.798437)scale(0.1 -0.1)\">\n       <use xlink:href=\"#DejaVuSans-31\"/>\n       <use x=\"63.623047\" xlink:href=\"#DejaVuSans-2e\"/>\n       <use x=\"95.410156\" xlink:href=\"#DejaVuSans-36\"/>\n      </g>\n     </g>\n    </g>\n   </g>\n   <g id=\"line2d_16\">\n    <path clip-path=\"url(#p74c6e1acb9)\" d=\"M 45.321307 169.299436 \nL 48.395687 164.917541 \nL 51.470067 163.438305 \nL 54.544447 161.213784 \nL 57.618827 159.307554 \nL 60.693208 158.055261 \nL 63.767588 156.577472 \nL 66.841968 156.334057 \nL 69.916348 155.582282 \nL 72.990728 154.710575 \nL 76.065108 153.07058 \nL 79.139489 151.972493 \nL 82.213869 151.039492 \nL 85.288249 149.578606 \nL 88.362629 148.172345 \nL 91.437009 147.29777 \nL 94.511389 146.04807 \nL 97.58577 144.110001 \nL 100.66015 142.476762 \nL 103.73453 140.617755 \nL 106.80891 138.151633 \nL 109.88329 135.735324 \nL 112.95767 131.911574 \nL 116.032051 127.909483 \nL 119.106431 124.268309 \nL 122.180811 121.278339 \nL 125.255191 118.550541 \nL 128.329571 115.483465 \nL 131.403951 113.255234 \nL 134.478332 110.975073 \nL 137.552712 109.405912 \nL 140.627092 107.796259 \nL 143.701472 106.039958 \nL 146.775852 104.486038 \nL 149.850232 102.924334 \nL 152.924613 101.851933 \nL 155.998993 100.767914 \nL 159.073373 99.775562 \nL 162.147753 99.081859 \nL 165.222133 98.401447 \nL 168.296513 97.702481 \nL 171.370894 97.138074 \nL 174.445274 96.591439 \nL 177.519654 96.4535 \nL 180.594034 96.198075 \nL 183.668414 96.153769 \nL 186.742794 96.380942 \nL 189.817175 96.682311 \nL 192.891555 96.879653 \nL 195.965935 97.471826 \nL 199.040315 97.891309 \nL 202.114695 98.499598 \nL 205.189075 99.256248 \nL 208.263456 100.147772 \nL 211.337836 101.07956 \nL 214.412216 101.728 \nL 217.486596 102.477954 \nL 220.560976 103.011641 \nL 223.635356 103.269813 \nL 226.709737 103.436983 \nL 229.784117 103.216776 \nL 232.858497 102.688246 \nL 235.932877 101.835909 \nL 239.007257 100.634488 \nL 242.081637 99.033229 \nL 245.156018 97.526391 \nL 248.230398 95.815368 \nL 251.304778 94.205233 \nL 254.379158 92.919403 \nL 257.453538 92.015374 \nL 260.527918 91.334148 \nL 263.602299 90.761584 \nL 266.676679 90.460153 \nL 269.751059 90.211626 \nL 272.825439 90.154496 \nL 275.899819 90.009704 \nL 278.974199 89.901645 \nL 282.04858 89.882289 \nL 285.12296 89.708057 \nL 288.19734 89.536985 \nL 291.27172 89.293157 \nL 294.3461 88.808131 \nL 297.42048 87.832916 \nL 300.494861 86.652857 \nL 303.569241 85.161505 \nL 306.643621 83.769625 \nL 309.718001 82.794052 \nL 312.792381 82.274003 \nL 315.866761 82.104892 \nL 318.941142 82.055636 \nL 322.015522 82.046546 \nL 325.089902 82.047774 \nL 328.164282 82.108969 \nL 331.238662 82.899296 \nL 334.313042 88.277118 \nL 337.387423 91.51495 \nL 340.461803 91.76152 \nL 343.536183 91.76152 \nL 346.610563 91.76152 \nL 349.684943 91.76152 \n\" style=\"fill:none;stroke:#1f77b4;stroke-linecap:square;stroke-width:1.5;\"/>\n   </g>\n   <g id=\"line2d_17\">\n    <path clip-path=\"url(#p74c6e1acb9)\" d=\"M 45.321307 135.722573 \nL 48.395687 136.487188 \nL 51.470067 137.089267 \nL 54.544447 137.886562 \nL 57.618827 138.845194 \nL 60.693208 138.637605 \nL 63.767588 138.494258 \nL 66.841968 138.894066 \nL 69.916348 139.121431 \nL 72.990728 139.66586 \nL 76.065108 140.078453 \nL 79.139489 140.801207 \nL 82.213869 140.813385 \nL 85.288249 141.441962 \nL 88.362629 142.058772 \nL 91.437009 142.447884 \nL 94.511389 142.747397 \nL 97.58577 143.657509 \nL 100.66015 143.979115 \nL 103.73453 144.808586 \nL 106.80891 145.069413 \nL 109.88329 145.365247 \nL 112.95767 146.437249 \nL 116.032051 146.892222 \nL 119.106431 147.923595 \nL 122.180811 148.73571 \nL 125.255191 149.384957 \nL 128.329571 150.240428 \nL 131.403951 150.860835 \nL 134.478332 151.739703 \nL 137.552712 152.528472 \nL 140.627092 153.178916 \nL 143.701472 154.940025 \nL 146.775852 156.156458 \nL 149.850232 157.606079 \nL 152.924613 158.763897 \nL 155.998993 160.161505 \nL 159.073373 161.96617 \nL 162.147753 163.501071 \nL 165.222133 165.075845 \nL 168.296513 166.564631 \nL 171.370894 167.848787 \nL 174.445274 169.076928 \nL 177.519654 170.1512 \nL 180.594034 171.661206 \nL 183.668414 172.54126 \nL 186.742794 173.702267 \nL 189.817175 174.419865 \nL 192.891555 175.224571 \nL 195.965935 176.02482 \nL 199.040315 176.49453 \nL 202.114695 177.171947 \nL 205.189075 177.384651 \nL 208.263456 177.708793 \nL 211.337836 177.986891 \nL 214.412216 178.406619 \nL 217.486596 178.676096 \nL 220.560976 178.919929 \nL 223.635356 178.957364 \nL 226.709737 179.275542 \nL 229.784117 179.485798 \nL 232.858497 179.897423 \nL 235.932877 180.491284 \nL 239.007257 181.047168 \nL 242.081637 181.751742 \nL 245.156018 182.565944 \nL 248.230398 183.638865 \nL 251.304778 184.751498 \nL 254.379158 185.669626 \nL 257.453538 186.387296 \nL 260.527918 187.402876 \nL 263.602299 188.254495 \nL 266.676679 189.184741 \nL 269.751059 190.064446 \nL 272.825439 190.90149 \nL 275.899819 191.675413 \nL 278.974199 191.963419 \nL 282.04858 192.468588 \nL 285.12296 192.703669 \nL 288.19734 192.846091 \nL 291.27172 192.801853 \nL 294.3461 192.673447 \nL 297.42048 192.082321 \nL 300.494861 191.083579 \nL 303.569241 189.437301 \nL 306.643621 187.764701 \nL 309.718001 186.108999 \nL 312.792381 185.227457 \nL 315.866761 184.853647 \nL 318.941142 184.770603 \nL 322.015522 184.75545 \nL 325.089902 184.757137 \nL 328.164282 184.778562 \nL 331.238662 185.462012 \nL 334.313042 188.885006 \nL 337.387423 191.312571 \nL 340.461803 191.460444 \nL 343.536183 191.460444 \nL 346.610563 191.460444 \nL 349.684943 191.460444 \n\" style=\"fill:none;stroke:#ff7f0e;stroke-linecap:square;stroke-width:1.5;\"/>\n   </g>\n   <g id=\"patch_3\">\n    <path d=\"M 30.103125 225.734049 \nL 30.103125 8.294049 \n\" style=\"fill:none;stroke:#000000;stroke-linecap:square;stroke-linejoin:miter;stroke-width:0.8;\"/>\n   </g>\n   <g id=\"patch_4\">\n    <path d=\"M 364.903125 225.734049 \nL 364.903125 8.294049 \n\" style=\"fill:none;stroke:#000000;stroke-linecap:square;stroke-linejoin:miter;stroke-width:0.8;\"/>\n   </g>\n   <g id=\"patch_5\">\n    <path d=\"M 30.103125 225.734049 \nL 364.903125 225.734049 \n\" style=\"fill:none;stroke:#000000;stroke-linecap:square;stroke-linejoin:miter;stroke-width:0.8;\"/>\n   </g>\n   <g id=\"patch_6\">\n    <path d=\"M 30.103125 8.294049 \nL 364.903125 8.294049 \n\" style=\"fill:none;stroke:#000000;stroke-linecap:square;stroke-linejoin:miter;stroke-width:0.8;\"/>\n   </g>\n   <g id=\"legend_1\">\n    <g id=\"patch_7\">\n     <path d=\"M 300.575 45.650299 \nL 357.903125 45.650299 \nQ 359.903125 45.650299 359.903125 43.650299 \nL 359.903125 15.294049 \nQ 359.903125 13.294049 357.903125 13.294049 \nL 300.575 13.294049 \nQ 298.575 13.294049 298.575 15.294049 \nL 298.575 43.650299 \nQ 298.575 45.650299 300.575 45.650299 \nz\n\" style=\"fill:#ffffff;opacity:0.8;stroke:#cccccc;stroke-linejoin:miter;\"/>\n    </g>\n    <g id=\"line2d_18\">\n     <path d=\"M 302.575 21.392486 \nL 322.575 21.392486 \n\" style=\"fill:none;stroke:#1f77b4;stroke-linecap:square;stroke-width:1.5;\"/>\n    </g>\n    <g id=\"line2d_19\"/>\n    <g id=\"text_16\">\n     <!-- R -->\n     <g transform=\"translate(330.575 24.892486)scale(0.1 -0.1)\">\n      <defs>\n       <path d=\"M 2841 2188 \nQ 3044 2119 3236 1894 \nQ 3428 1669 3622 1275 \nL 4263 0 \nL 3584 0 \nL 2988 1197 \nQ 2756 1666 2539 1819 \nQ 2322 1972 1947 1972 \nL 1259 1972 \nL 1259 0 \nL 628 0 \nL 628 4666 \nL 2053 4666 \nQ 2853 4666 3247 4331 \nQ 3641 3997 3641 3322 \nQ 3641 2881 3436 2590 \nQ 3231 2300 2841 2188 \nz\nM 1259 4147 \nL 1259 2491 \nL 2053 2491 \nQ 2509 2491 2742 2702 \nQ 2975 2913 2975 3322 \nQ 2975 3731 2742 3939 \nQ 2509 4147 2053 4147 \nL 1259 4147 \nz\n\" id=\"DejaVuSans-52\" transform=\"scale(0.015625)\"/>\n      </defs>\n      <use xlink:href=\"#DejaVuSans-52\"/>\n     </g>\n    </g>\n    <g id=\"line2d_20\">\n     <path d=\"M 302.575 36.070611 \nL 322.575 36.070611 \n\" style=\"fill:none;stroke:#ff7f0e;stroke-linecap:square;stroke-width:1.5;\"/>\n    </g>\n    <g id=\"line2d_21\"/>\n    <g id=\"text_17\">\n     <!-- delta -->\n     <g transform=\"translate(330.575 39.570611)scale(0.1 -0.1)\">\n      <defs>\n       <path d=\"M 2906 2969 \nL 2906 4863 \nL 3481 4863 \nL 3481 0 \nL 2906 0 \nL 2906 525 \nQ 2725 213 2448 61 \nQ 2172 -91 1784 -91 \nQ 1150 -91 751 415 \nQ 353 922 353 1747 \nQ 353 2572 751 3078 \nQ 1150 3584 1784 3584 \nQ 2172 3584 2448 3432 \nQ 2725 3281 2906 2969 \nz\nM 947 1747 \nQ 947 1113 1208 752 \nQ 1469 391 1925 391 \nQ 2381 391 2643 752 \nQ 2906 1113 2906 1747 \nQ 2906 2381 2643 2742 \nQ 2381 3103 1925 3103 \nQ 1469 3103 1208 2742 \nQ 947 2381 947 1747 \nz\n\" id=\"DejaVuSans-64\" transform=\"scale(0.015625)\"/>\n       <path d=\"M 3597 1894 \nL 3597 1613 \nL 953 1613 \nQ 991 1019 1311 708 \nQ 1631 397 2203 397 \nQ 2534 397 2845 478 \nQ 3156 559 3463 722 \nL 3463 178 \nQ 3153 47 2828 -22 \nQ 2503 -91 2169 -91 \nQ 1331 -91 842 396 \nQ 353 884 353 1716 \nQ 353 2575 817 3079 \nQ 1281 3584 2069 3584 \nQ 2775 3584 3186 3129 \nQ 3597 2675 3597 1894 \nz\nM 3022 2063 \nQ 3016 2534 2758 2815 \nQ 2500 3097 2075 3097 \nQ 1594 3097 1305 2825 \nQ 1016 2553 972 2059 \nL 3022 2063 \nz\n\" id=\"DejaVuSans-65\" transform=\"scale(0.015625)\"/>\n       <path d=\"M 603 4863 \nL 1178 4863 \nL 1178 0 \nL 603 0 \nL 603 4863 \nz\n\" id=\"DejaVuSans-6c\" transform=\"scale(0.015625)\"/>\n       <path d=\"M 1172 4494 \nL 1172 3500 \nL 2356 3500 \nL 2356 3053 \nL 1172 3053 \nL 1172 1153 \nQ 1172 725 1289 603 \nQ 1406 481 1766 481 \nL 2356 481 \nL 2356 0 \nL 1766 0 \nQ 1100 0 847 248 \nQ 594 497 594 1153 \nL 594 3053 \nL 172 3053 \nL 172 3500 \nL 594 3500 \nL 594 4494 \nL 1172 4494 \nz\n\" id=\"DejaVuSans-74\" transform=\"scale(0.015625)\"/>\n       <path d=\"M 2194 1759 \nQ 1497 1759 1228 1600 \nQ 959 1441 959 1056 \nQ 959 750 1161 570 \nQ 1363 391 1709 391 \nQ 2188 391 2477 730 \nQ 2766 1069 2766 1631 \nL 2766 1759 \nL 2194 1759 \nz\nM 3341 1997 \nL 3341 0 \nL 2766 0 \nL 2766 531 \nQ 2569 213 2275 61 \nQ 1981 -91 1556 -91 \nQ 1019 -91 701 211 \nQ 384 513 384 1019 \nQ 384 1609 779 1909 \nQ 1175 2209 1959 2209 \nL 2766 2209 \nL 2766 2266 \nQ 2766 2663 2505 2880 \nQ 2244 3097 1772 3097 \nQ 1472 3097 1187 3025 \nQ 903 2953 641 2809 \nL 641 3341 \nQ 956 3463 1253 3523 \nQ 1550 3584 1831 3584 \nQ 2591 3584 2966 3190 \nQ 3341 2797 3341 1997 \nz\n\" id=\"DejaVuSans-61\" transform=\"scale(0.015625)\"/>\n      </defs>\n      <use xlink:href=\"#DejaVuSans-64\"/>\n      <use x=\"63.476562\" xlink:href=\"#DejaVuSans-65\"/>\n      <use x=\"125\" xlink:href=\"#DejaVuSans-6c\"/>\n      <use x=\"152.783203\" xlink:href=\"#DejaVuSans-74\"/>\n      <use x=\"191.992188\" xlink:href=\"#DejaVuSans-61\"/>\n     </g>\n    </g>\n   </g>\n  </g>\n </g>\n <defs>\n  <clipPath id=\"p74c6e1acb9\">\n   <rect height=\"217.44\" width=\"334.8\" x=\"30.103125\" y=\"8.294049\"/>\n  </clipPath>\n </defs>\n</svg>\n",
      "text/plain": [
       "<Figure size 432x288 with 1 Axes>"
      ]
     },
     "metadata": {
      "needs_background": "light"
     },
     "output_type": "display_data"
    },
    {
     "data": {
      "application/javascript": "\n            setTimeout(function() {\n                var nbb_cell_id = 6;\n                var nbb_unformatted_code = \"fig, ax = plt.subplots()\\nstart, top, end, x0 = plot_helper(res, data, n_tips)\\nplot_one(res, ax, \\\"R\\\", m, start, top, end, x0, \\\"R\\\", \\\"fill\\\", \\\"\\\")\\nplot_one(res, ax, \\\"delta\\\", m, start, top, end, x0, \\\"delta\\\", \\\"fill\\\", \\\"\\\")\\nax.legend()\";\n                var nbb_formatted_code = \"fig, ax = plt.subplots()\\nstart, top, end, x0 = plot_helper(res, data, n_tips)\\nplot_one(res, ax, \\\"R\\\", m, start, top, end, x0, \\\"R\\\", \\\"fill\\\", \\\"\\\")\\nplot_one(res, ax, \\\"delta\\\", m, start, top, end, x0, \\\"delta\\\", \\\"fill\\\", \\\"\\\")\\nax.legend()\";\n                var nbb_cells = Jupyter.notebook.get_cells();\n                for (var i = 0; i < nbb_cells.length; ++i) {\n                    if (nbb_cells[i].input_prompt_number == nbb_cell_id) {\n                        if (nbb_cells[i].get_text() == nbb_unformatted_code) {\n                             nbb_cells[i].set_text(nbb_formatted_code);\n                        }\n                        break;\n                    }\n                }\n            }, 500);\n            ",
      "text/plain": [
       "<IPython.core.display.Javascript object>"
      ]
     },
     "metadata": {},
     "output_type": "display_data"
    }
   ],
   "source": [
    "fig, ax = plt.subplots()\n",
    "start, top, end, x0 = plot_helper(res, data, n_tips)\n",
    "plot_one(res, ax, \"R\", m, start, top, end, x0, \"R\", \"fill\", \"\")\n",
    "plot_one(res, ax, \"delta\", m, start, top, end, x0, \"delta\", \"fill\", \"\")\n",
    "ax.legend()"
   ]
  }
 ],
 "metadata": {
  "kernelspec": {
   "display_name": "Python 3 (ipykernel)",
   "language": "python",
   "name": "python3"
  },
  "language_info": {
   "codemirror_mode": {
    "name": "ipython",
    "version": 3
   },
   "file_extension": ".py",
   "mimetype": "text/x-python",
   "name": "python",
   "nbconvert_exporter": "python",
   "pygments_lexer": "ipython3",
   "version": "3.9.7"
  }
 },
 "nbformat": 4,
 "nbformat_minor": 4
}
