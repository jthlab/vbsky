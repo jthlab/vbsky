{
 "cells": [
  {
   "cell_type": "code",
   "execution_count": 10,
   "id": "different-watershed",
   "metadata": {
    "ExecuteTime": {
     "end_time": "2022-02-01T14:20:53.940633Z",
     "start_time": "2022-02-01T14:20:53.600824Z"
    },
    "scrolled": true
   },
   "outputs": [
    {
     "name": "stdout",
     "output_type": "stream",
     "text": [
      "The nb_black extension is already loaded. To reload it, use:\n",
      "  %reload_ext nb_black\n"
     ]
    },
    {
     "name": "stderr",
     "output_type": "stream",
     "text": [
      "/var/folders/cl/0ml94kbd37bdb3f0y3rx3wfc0000gr/T/ipykernel_18451/668997703.py:7: DeprecationWarning: `set_matplotlib_formats` is deprecated since IPython 7.23, directly use `matplotlib_inline.backend_inline.set_matplotlib_formats()`\n",
      "  set_matplotlib_formats(\"svg\")\n"
     ]
    },
    {
     "data": {
      "application/javascript": [
       "\n",
       "            setTimeout(function() {\n",
       "                var nbb_cell_id = 10;\n",
       "                var nbb_unformatted_code = \"%load_ext nb_black\\n# %matplotlib inline\\nimport matplotlib.pyplot as plt\\nimport seaborn as sns\\nfrom IPython.display import set_matplotlib_formats\\n\\nset_matplotlib_formats(\\\"svg\\\")\\n\\nimport numpy as np\\nimport pandas as pd\\nfrom scipy.interpolate import interp1d\\n\\nimport jax.numpy as jnp\\nimport jax\\nfrom jax import vmap\\nfrom jax.scipy.special import xlogy\\n\\njax.config.update(\\\"jax_enable_x64\\\", True)\\nimport scipy.linalg\\n\\nfrom collections import defaultdict\\nimport gzip\\n\\nfrom Bio import AlignIO, SeqIO\\nfrom Bio.Align import MultipleSeqAlignment\\nfrom ete3 import Tree\\nfrom datetime import datetime, MINYEAR\\n\\nfrom vbsky.fasta import SeqData\\nfrom vbsky.bdsky import _lognorm_logpdf\\nfrom vbsky.prob import VF\\nfrom vbsky.prob.distribution import PointMass\\nfrom vbsky.prob.transform import (\\n    Transform,\\n    Compose,\\n    Affine,\\n    Blockwise,\\n    Positive,\\n    ZeroOne,\\n    DiagonalAffine,\\n    Householder,\\n    Shift,\\n    Scale,\\n    Bounded,\\n    Exp,\\n    Softplus,\\n    Concat,\\n)\\nfrom vbsky.prob.distribution import Constant\\nfrom vbsky.prob import arf\\n\\nfrom vbsky.plot import *\\nfrom vbsky.substitution import JC69\\n\\npos = Compose(DiagonalAffine, Exp)\\nplus = Compose(DiagonalAffine, Positive)\\nz1 = Compose(DiagonalAffine, ZeroOne)\";\n",
       "                var nbb_formatted_code = \"%load_ext nb_black\\n# %matplotlib inline\\nimport matplotlib.pyplot as plt\\nimport seaborn as sns\\nfrom IPython.display import set_matplotlib_formats\\n\\nset_matplotlib_formats(\\\"svg\\\")\\n\\nimport numpy as np\\nimport pandas as pd\\nfrom scipy.interpolate import interp1d\\n\\nimport jax.numpy as jnp\\nimport jax\\nfrom jax import vmap\\nfrom jax.scipy.special import xlogy\\n\\njax.config.update(\\\"jax_enable_x64\\\", True)\\nimport scipy.linalg\\n\\nfrom collections import defaultdict\\nimport gzip\\n\\nfrom Bio import AlignIO, SeqIO\\nfrom Bio.Align import MultipleSeqAlignment\\nfrom ete3 import Tree\\nfrom datetime import datetime, MINYEAR\\n\\nfrom vbsky.fasta import SeqData\\nfrom vbsky.bdsky import _lognorm_logpdf\\nfrom vbsky.prob import VF\\nfrom vbsky.prob.distribution import PointMass\\nfrom vbsky.prob.transform import (\\n    Transform,\\n    Compose,\\n    Affine,\\n    Blockwise,\\n    Positive,\\n    ZeroOne,\\n    DiagonalAffine,\\n    Householder,\\n    Shift,\\n    Scale,\\n    Bounded,\\n    Exp,\\n    Softplus,\\n    Concat,\\n)\\nfrom vbsky.prob.distribution import Constant\\nfrom vbsky.prob import arf\\n\\nfrom vbsky.plot import *\\nfrom vbsky.substitution import JC69\\n\\npos = Compose(DiagonalAffine, Exp)\\nplus = Compose(DiagonalAffine, Positive)\\nz1 = Compose(DiagonalAffine, ZeroOne)\";\n",
       "                var nbb_cells = Jupyter.notebook.get_cells();\n",
       "                for (var i = 0; i < nbb_cells.length; ++i) {\n",
       "                    if (nbb_cells[i].input_prompt_number == nbb_cell_id) {\n",
       "                        if (nbb_cells[i].get_text() == nbb_unformatted_code) {\n",
       "                             nbb_cells[i].set_text(nbb_formatted_code);\n",
       "                        }\n",
       "                        break;\n",
       "                    }\n",
       "                }\n",
       "            }, 500);\n",
       "            "
      ],
      "text/plain": [
       "<IPython.core.display.Javascript object>"
      ]
     },
     "metadata": {},
     "output_type": "display_data"
    }
   ],
   "source": [
    "%load_ext nb_black\n",
    "# %matplotlib inline\n",
    "import matplotlib.pyplot as plt\n",
    "import seaborn as sns\n",
    "from IPython.display import set_matplotlib_formats\n",
    "\n",
    "set_matplotlib_formats(\"svg\")\n",
    "\n",
    "import numpy as np\n",
    "import pandas as pd\n",
    "from scipy.interpolate import interp1d\n",
    "\n",
    "import jax.numpy as jnp\n",
    "import jax\n",
    "from jax import vmap\n",
    "from jax.scipy.special import xlogy\n",
    "\n",
    "jax.config.update(\"jax_enable_x64\", True)\n",
    "import scipy.linalg\n",
    "\n",
    "from collections import defaultdict\n",
    "import gzip\n",
    "\n",
    "from Bio import AlignIO, SeqIO\n",
    "from Bio.Align import MultipleSeqAlignment\n",
    "from ete3 import Tree\n",
    "from datetime import datetime, MINYEAR\n",
    "\n",
    "from vbsky.fasta import SeqData\n",
    "from vbsky.bdsky import _lognorm_logpdf\n",
    "from vbsky.prob import VF\n",
    "from vbsky.prob.distribution import PointMass\n",
    "from vbsky.prob.transform import (\n",
    "    Transform,\n",
    "    Compose,\n",
    "    Affine,\n",
    "    Blockwise,\n",
    "    Positive,\n",
    "    ZeroOne,\n",
    "    DiagonalAffine,\n",
    "    Householder,\n",
    "    Shift,\n",
    "    Scale,\n",
    "    Bounded,\n",
    "    Exp,\n",
    "    Softplus,\n",
    "    Concat,\n",
    ")\n",
    "from vbsky.prob.distribution import Constant\n",
    "from vbsky.prob import arf\n",
    "\n",
    "from vbsky.plot import *\n",
    "from vbsky.substitution import JC69\n",
    "\n",
    "pos = Compose(DiagonalAffine, Exp)\n",
    "plus = Compose(DiagonalAffine, Positive)\n",
    "z1 = Compose(DiagonalAffine, ZeroOne)"
   ]
  },
  {
   "cell_type": "markdown",
   "id": "unnecessary-northwest",
   "metadata": {},
   "source": [
    "## Import Simulated Data"
   ]
  },
  {
   "cell_type": "code",
   "execution_count": 11,
   "id": "younger-laugh",
   "metadata": {
    "ExecuteTime": {
     "end_time": "2022-02-01T14:20:54.983995Z",
     "start_time": "2022-02-01T14:20:54.973623Z"
    },
    "scrolled": true
   },
   "outputs": [
    {
     "data": {
      "application/javascript": [
       "\n",
       "            setTimeout(function() {\n",
       "                var nbb_cell_id = 11;\n",
       "                var nbb_unformatted_code = \"from Bio import SeqIO, AlignIO, Phylo\\nfrom Bio.Align import MultipleSeqAlignment\\nfrom Bio.Phylo.TreeConstruction import DistanceTreeConstructor\\nfrom datetime import datetime, MINYEAR, timedelta\";\n",
       "                var nbb_formatted_code = \"from Bio import SeqIO, AlignIO, Phylo\\nfrom Bio.Align import MultipleSeqAlignment\\nfrom Bio.Phylo.TreeConstruction import DistanceTreeConstructor\\nfrom datetime import datetime, MINYEAR, timedelta\";\n",
       "                var nbb_cells = Jupyter.notebook.get_cells();\n",
       "                for (var i = 0; i < nbb_cells.length; ++i) {\n",
       "                    if (nbb_cells[i].input_prompt_number == nbb_cell_id) {\n",
       "                        if (nbb_cells[i].get_text() == nbb_unformatted_code) {\n",
       "                             nbb_cells[i].set_text(nbb_formatted_code);\n",
       "                        }\n",
       "                        break;\n",
       "                    }\n",
       "                }\n",
       "            }, 500);\n",
       "            "
      ],
      "text/plain": [
       "<IPython.core.display.Javascript object>"
      ]
     },
     "metadata": {},
     "output_type": "display_data"
    }
   ],
   "source": [
    "from Bio import SeqIO, AlignIO, Phylo\n",
    "from Bio.Align import MultipleSeqAlignment\n",
    "from Bio.Phylo.TreeConstruction import DistanceTreeConstructor\n",
    "from datetime import datetime, MINYEAR, timedelta"
   ]
  },
  {
   "cell_type": "code",
   "execution_count": 12,
   "id": "referenced-causing",
   "metadata": {
    "ExecuteTime": {
     "end_time": "2022-02-01T14:20:55.567939Z",
     "start_time": "2022-02-01T14:20:55.561763Z"
    }
   },
   "outputs": [
    {
     "data": {
      "application/javascript": [
       "\n",
       "            setTimeout(function() {\n",
       "                var nbb_cell_id = 12;\n",
       "                var nbb_unformatted_code = \"# import sh\\n\\n# scenarios = [\\\"constant\\\", \\\"decrease\\\", \\\"increase\\\", \\\"zigzag\\\"]\\n# for s in scenarios:\\n#     for i in range(1, 11):\\n#         snp_dists = sh.Command(\\\"snp-dists\\\")\\n#         try:\\n#             with open(f\\\"sims/{s}/tabs/sim{i}.tsv\\\", \\\"w\\\") as tsv:\\n#                 tsv.write(str(snp_dists(\\\"-b\\\", f\\\"sims/{s}/seqs/fasta/sim{i}.fa\\\")))\\n#         except sh.ErrorReturnCode_2 as e:\\n#             print(e.stderr.decode())\";\n",
       "                var nbb_formatted_code = \"# import sh\\n\\n# scenarios = [\\\"constant\\\", \\\"decrease\\\", \\\"increase\\\", \\\"zigzag\\\"]\\n# for s in scenarios:\\n#     for i in range(1, 11):\\n#         snp_dists = sh.Command(\\\"snp-dists\\\")\\n#         try:\\n#             with open(f\\\"sims/{s}/tabs/sim{i}.tsv\\\", \\\"w\\\") as tsv:\\n#                 tsv.write(str(snp_dists(\\\"-b\\\", f\\\"sims/{s}/seqs/fasta/sim{i}.fa\\\")))\\n#         except sh.ErrorReturnCode_2 as e:\\n#             print(e.stderr.decode())\";\n",
       "                var nbb_cells = Jupyter.notebook.get_cells();\n",
       "                for (var i = 0; i < nbb_cells.length; ++i) {\n",
       "                    if (nbb_cells[i].input_prompt_number == nbb_cell_id) {\n",
       "                        if (nbb_cells[i].get_text() == nbb_unformatted_code) {\n",
       "                             nbb_cells[i].set_text(nbb_formatted_code);\n",
       "                        }\n",
       "                        break;\n",
       "                    }\n",
       "                }\n",
       "            }, 500);\n",
       "            "
      ],
      "text/plain": [
       "<IPython.core.display.Javascript object>"
      ]
     },
     "metadata": {},
     "output_type": "display_data"
    }
   ],
   "source": [
    "# import sh\n",
    "\n",
    "# scenarios = [\"constant\", \"decrease\", \"increase\", \"zigzag\"]\n",
    "# for s in scenarios:\n",
    "#     for i in range(1, 11):\n",
    "#         snp_dists = sh.Command(\"snp-dists\")\n",
    "#         try:\n",
    "#             with open(f\"sims/{s}/tabs/sim{i}.tsv\", \"w\") as tsv:\n",
    "#                 tsv.write(str(snp_dists(\"-b\", f\"sims/{s}/seqs/fasta/sim{i}.fa\")))\n",
    "#         except sh.ErrorReturnCode_2 as e:\n",
    "#             print(e.stderr.decode())"
   ]
  },
  {
   "cell_type": "markdown",
   "id": "spectacular-prophet",
   "metadata": {},
   "source": [
    "## Set up Priors"
   ]
  },
  {
   "cell_type": "code",
   "execution_count": 13,
   "id": "answering-license",
   "metadata": {
    "ExecuteTime": {
     "end_time": "2022-02-01T14:20:57.258599Z",
     "start_time": "2022-02-01T14:20:57.207753Z"
    }
   },
   "outputs": [
    {
     "data": {
      "application/javascript": [
       "\n",
       "            setTimeout(function() {\n",
       "                var nbb_cell_id = 13;\n",
       "                var nbb_unformatted_code = \"def _params_prior_loglik(params):\\n    ll = 0\\n    tau = {\\\"R\\\": params[\\\"precision_R\\\"][0]}\\n    ll += jax.scipy.stats.gamma.logpdf(tau[\\\"R\\\"], a=0.001, scale=1 / 0.001)\\n\\n    mus = [0, -1]\\n    sigmas = [1, 0.25]\\n    for i, k in enumerate([\\\"R\\\", \\\"origin\\\"]):\\n        log_rate = jnp.log(params[k])\\n        ll += _lognorm_logpdf(log_rate, mu=mus[i], sigma=sigmas[i]).sum()\\n\\n    for k in [\\\"R\\\"]:\\n        log_rate = jnp.log(params[k])\\n        if k in [\\\"R\\\", \\\"delta\\\", \\\"s\\\"]:\\n            ll -= (tau[k] / 2) * (jnp.diff(log_rate) ** 2).sum()\\n            m = len(log_rate)\\n            ll += xlogy((m - 1) / 2, tau[k] / (2 * jnp.pi))\\n    return ll\\n\\n\\ndef default_flows(data, m, rate):\\n\\n    local_flows = [\\n        {\\\"proportions\\\": Transform(td.n - 2, z1), \\\"root_proportion\\\": Transform(1, z1)}\\n        for td in data.tds\\n    ]\\n\\n    global_flows = VF(\\n        origin=Transform(1, pos),\\n        origin_start=Constant(data.earliest),\\n        #     delta=Transform(m, pos),\\n        delta=Constant(np.repeat(4.0, m)),\\n        R=Transform(m, pos),\\n        rho_m=Constant(0),\\n        #     s=Transform(m, z1),\\n        s=Constant(np.repeat(0.25, m)),\\n        precision_R=Transform(1, pos),\\n        clock_rate=Constant(1.0),\\n    )\\n    return global_flows, local_flows\";\n",
       "                var nbb_formatted_code = \"def _params_prior_loglik(params):\\n    ll = 0\\n    tau = {\\\"R\\\": params[\\\"precision_R\\\"][0]}\\n    ll += jax.scipy.stats.gamma.logpdf(tau[\\\"R\\\"], a=0.001, scale=1 / 0.001)\\n\\n    mus = [0, -1]\\n    sigmas = [1, 0.25]\\n    for i, k in enumerate([\\\"R\\\", \\\"origin\\\"]):\\n        log_rate = jnp.log(params[k])\\n        ll += _lognorm_logpdf(log_rate, mu=mus[i], sigma=sigmas[i]).sum()\\n\\n    for k in [\\\"R\\\"]:\\n        log_rate = jnp.log(params[k])\\n        if k in [\\\"R\\\", \\\"delta\\\", \\\"s\\\"]:\\n            ll -= (tau[k] / 2) * (jnp.diff(log_rate) ** 2).sum()\\n            m = len(log_rate)\\n            ll += xlogy((m - 1) / 2, tau[k] / (2 * jnp.pi))\\n    return ll\\n\\n\\ndef default_flows(data, m, rate):\\n\\n    local_flows = [\\n        {\\\"proportions\\\": Transform(td.n - 2, z1), \\\"root_proportion\\\": Transform(1, z1)}\\n        for td in data.tds\\n    ]\\n\\n    global_flows = VF(\\n        origin=Transform(1, pos),\\n        origin_start=Constant(data.earliest),\\n        #     delta=Transform(m, pos),\\n        delta=Constant(np.repeat(4.0, m)),\\n        R=Transform(m, pos),\\n        rho_m=Constant(0),\\n        #     s=Transform(m, z1),\\n        s=Constant(np.repeat(0.25, m)),\\n        precision_R=Transform(1, pos),\\n        clock_rate=Constant(1.0),\\n    )\\n    return global_flows, local_flows\";\n",
       "                var nbb_cells = Jupyter.notebook.get_cells();\n",
       "                for (var i = 0; i < nbb_cells.length; ++i) {\n",
       "                    if (nbb_cells[i].input_prompt_number == nbb_cell_id) {\n",
       "                        if (nbb_cells[i].get_text() == nbb_unformatted_code) {\n",
       "                             nbb_cells[i].set_text(nbb_formatted_code);\n",
       "                        }\n",
       "                        break;\n",
       "                    }\n",
       "                }\n",
       "            }, 500);\n",
       "            "
      ],
      "text/plain": [
       "<IPython.core.display.Javascript object>"
      ]
     },
     "metadata": {},
     "output_type": "display_data"
    }
   ],
   "source": [
    "def _params_prior_loglik(params):\n",
    "    ll = 0\n",
    "    tau = {\"R\": params[\"precision_R\"][0]}\n",
    "    ll += jax.scipy.stats.gamma.logpdf(tau[\"R\"], a=0.001, scale=1 / 0.001)\n",
    "\n",
    "    mus = [0, -1]\n",
    "    sigmas = [1, 0.25]\n",
    "    for i, k in enumerate([\"R\", \"origin\"]):\n",
    "        log_rate = jnp.log(params[k])\n",
    "        ll += _lognorm_logpdf(log_rate, mu=mus[i], sigma=sigmas[i]).sum()\n",
    "\n",
    "    for k in [\"R\"]:\n",
    "        log_rate = jnp.log(params[k])\n",
    "        if k in [\"R\", \"delta\", \"s\"]:\n",
    "            ll -= (tau[k] / 2) * (jnp.diff(log_rate) ** 2).sum()\n",
    "            m = len(log_rate)\n",
    "            ll += xlogy((m - 1) / 2, tau[k] / (2 * jnp.pi))\n",
    "    return ll\n",
    "\n",
    "\n",
    "def default_flows(data, m, rate):\n",
    "\n",
    "    local_flows = [\n",
    "        {\"proportions\": Transform(td.n - 2, z1), \"root_proportion\": Transform(1, z1)}\n",
    "        for td in data.tds\n",
    "    ]\n",
    "\n",
    "    global_flows = VF(\n",
    "        origin=Transform(1, pos),\n",
    "        origin_start=Constant(data.earliest),\n",
    "        #     delta=Transform(m, pos),\n",
    "        delta=Constant(np.repeat(4.0, m)),\n",
    "        R=Transform(m, pos),\n",
    "        rho_m=Constant(0),\n",
    "        #     s=Transform(m, z1),\n",
    "        s=Constant(np.repeat(0.25, m)),\n",
    "        precision_R=Transform(1, pos),\n",
    "        clock_rate=Constant(1.0),\n",
    "    )\n",
    "    return global_flows, local_flows"
   ]
  },
  {
   "cell_type": "code",
   "execution_count": 15,
   "id": "bac69009",
   "metadata": {
    "ExecuteTime": {
     "end_time": "2022-02-01T14:21:02.249702Z",
     "start_time": "2022-02-01T14:21:01.545020Z"
    }
   },
   "outputs": [
    {
     "data": {
      "application/javascript": [
       "\n",
       "            setTimeout(function() {\n",
       "                var nbb_cell_id = 15;\n",
       "                var nbb_unformatted_code = \"fasta = {}\\ndata = {}\\n\\nscenarios = [\\\"constant\\\", \\\"decrease\\\", \\\"increase\\\", \\\"zigzag\\\"]\\n# scenarios = [\\\"constant\\\"]\\n\\nfor s in scenarios:\\n    for z in range(1, 11):\\n        fasta[(s, z)] = AlignIO.read(f\\\"sims/{s}/seqs/fasta/sim{z}.fa\\\", format=\\\"fasta\\\")\\n        names = []\\n        dates = []\\n        for x in fasta[(s, z)]:\\n            desc = x.description.split(\\\"_\\\")\\n            date = float(desc[1])\\n            names.append(desc[0])\\n            dates.append(date)\\n        data[(s, z)] = SeqData(fasta[(s, z)], names=names, dates=dates)\";\n",
       "                var nbb_formatted_code = \"fasta = {}\\ndata = {}\\n\\nscenarios = [\\\"constant\\\", \\\"decrease\\\", \\\"increase\\\", \\\"zigzag\\\"]\\n# scenarios = [\\\"constant\\\"]\\n\\nfor s in scenarios:\\n    for z in range(1, 11):\\n        fasta[(s, z)] = AlignIO.read(f\\\"sims/{s}/seqs/fasta/sim{z}.fa\\\", format=\\\"fasta\\\")\\n        names = []\\n        dates = []\\n        for x in fasta[(s, z)]:\\n            desc = x.description.split(\\\"_\\\")\\n            date = float(desc[1])\\n            names.append(desc[0])\\n            dates.append(date)\\n        data[(s, z)] = SeqData(fasta[(s, z)], names=names, dates=dates)\";\n",
       "                var nbb_cells = Jupyter.notebook.get_cells();\n",
       "                for (var i = 0; i < nbb_cells.length; ++i) {\n",
       "                    if (nbb_cells[i].input_prompt_number == nbb_cell_id) {\n",
       "                        if (nbb_cells[i].get_text() == nbb_unformatted_code) {\n",
       "                             nbb_cells[i].set_text(nbb_formatted_code);\n",
       "                        }\n",
       "                        break;\n",
       "                    }\n",
       "                }\n",
       "            }, 500);\n",
       "            "
      ],
      "text/plain": [
       "<IPython.core.display.Javascript object>"
      ]
     },
     "metadata": {},
     "output_type": "display_data"
    }
   ],
   "source": [
    "fasta = {}\n",
    "data = {}\n",
    "\n",
    "scenarios = [\"constant\", \"decrease\", \"increase\", \"zigzag\"]\n",
    "# scenarios = [\"constant\"]\n",
    "\n",
    "for s in scenarios:\n",
    "    for z in range(1, 11):\n",
    "        fasta[(s, z)] = AlignIO.read(f\"sims/{s}/seqs/fasta/sim{z}.fa\", format=\"fasta\")\n",
    "        names = []\n",
    "        dates = []\n",
    "        for x in fasta[(s, z)]:\n",
    "            desc = x.description.split(\"_\")\n",
    "            date = float(desc[1])\n",
    "            names.append(desc[0])\n",
    "            dates.append(date)\n",
    "        data[(s, z)] = SeqData(fasta[(s, z)], names=names, dates=dates)"
   ]
  },
  {
   "cell_type": "code",
   "execution_count": 16,
   "id": "da467c52",
   "metadata": {
    "ExecuteTime": {
     "end_time": "2022-02-01T14:21:05.563675Z",
     "start_time": "2022-02-01T14:21:05.542102Z"
    }
   },
   "outputs": [
    {
     "data": {
      "application/javascript": [
       "\n",
       "            setTimeout(function() {\n",
       "                var nbb_cell_id = 16;\n",
       "                var nbb_unformatted_code = \"min_d = defaultdict(lambda: float(\\\"inf\\\"))\\nmax_d = defaultdict(lambda: 0.0)\\nfor k, v in data.items():\\n    if min_d[k[0]] > v.n:\\n        min_d[k[0]] = v.n\\n    if max_d[k[0]] < v.n:\\n        max_d[k[0]] = v.n\";\n",
       "                var nbb_formatted_code = \"min_d = defaultdict(lambda: float(\\\"inf\\\"))\\nmax_d = defaultdict(lambda: 0.0)\\nfor k, v in data.items():\\n    if min_d[k[0]] > v.n:\\n        min_d[k[0]] = v.n\\n    if max_d[k[0]] < v.n:\\n        max_d[k[0]] = v.n\";\n",
       "                var nbb_cells = Jupyter.notebook.get_cells();\n",
       "                for (var i = 0; i < nbb_cells.length; ++i) {\n",
       "                    if (nbb_cells[i].input_prompt_number == nbb_cell_id) {\n",
       "                        if (nbb_cells[i].get_text() == nbb_unformatted_code) {\n",
       "                             nbb_cells[i].set_text(nbb_formatted_code);\n",
       "                        }\n",
       "                        break;\n",
       "                    }\n",
       "                }\n",
       "            }, 500);\n",
       "            "
      ],
      "text/plain": [
       "<IPython.core.display.Javascript object>"
      ]
     },
     "metadata": {},
     "output_type": "display_data"
    }
   ],
   "source": [
    "min_d = defaultdict(lambda: float(\"inf\"))\n",
    "max_d = defaultdict(lambda: 0.0)\n",
    "for k, v in data.items():\n",
    "    if min_d[k[0]] > v.n:\n",
    "        min_d[k[0]] = v.n\n",
    "    if max_d[k[0]] < v.n:\n",
    "        max_d[k[0]] = v.n"
   ]
  },
  {
   "cell_type": "code",
   "execution_count": 17,
   "id": "6f310672",
   "metadata": {
    "ExecuteTime": {
     "end_time": "2022-02-01T14:21:06.035000Z",
     "start_time": "2022-02-01T14:21:06.026198Z"
    }
   },
   "outputs": [
    {
     "data": {
      "text/plain": [
       "defaultdict(<function __main__.<lambda>()>,\n",
       "            {'constant': 175, 'decrease': 117, 'increase': 124, 'zigzag': 161})"
      ]
     },
     "execution_count": 17,
     "metadata": {},
     "output_type": "execute_result"
    },
    {
     "data": {
      "application/javascript": [
       "\n",
       "            setTimeout(function() {\n",
       "                var nbb_cell_id = 17;\n",
       "                var nbb_unformatted_code = \"min_d\";\n",
       "                var nbb_formatted_code = \"min_d\";\n",
       "                var nbb_cells = Jupyter.notebook.get_cells();\n",
       "                for (var i = 0; i < nbb_cells.length; ++i) {\n",
       "                    if (nbb_cells[i].input_prompt_number == nbb_cell_id) {\n",
       "                        if (nbb_cells[i].get_text() == nbb_unformatted_code) {\n",
       "                             nbb_cells[i].set_text(nbb_formatted_code);\n",
       "                        }\n",
       "                        break;\n",
       "                    }\n",
       "                }\n",
       "            }, 500);\n",
       "            "
      ],
      "text/plain": [
       "<IPython.core.display.Javascript object>"
      ]
     },
     "metadata": {},
     "output_type": "display_data"
    }
   ],
   "source": [
    "min_d"
   ]
  },
  {
   "cell_type": "code",
   "execution_count": 18,
   "id": "603e038e",
   "metadata": {
    "ExecuteTime": {
     "end_time": "2022-02-01T14:21:06.864761Z",
     "start_time": "2022-02-01T14:21:06.856138Z"
    }
   },
   "outputs": [
    {
     "data": {
      "text/plain": [
       "defaultdict(<function __main__.<lambda>()>,\n",
       "            {'constant': 1553,\n",
       "             'decrease': 590,\n",
       "             'increase': 1075,\n",
       "             'zigzag': 1852})"
      ]
     },
     "execution_count": 18,
     "metadata": {},
     "output_type": "execute_result"
    },
    {
     "data": {
      "application/javascript": [
       "\n",
       "            setTimeout(function() {\n",
       "                var nbb_cell_id = 18;\n",
       "                var nbb_unformatted_code = \"max_d\";\n",
       "                var nbb_formatted_code = \"max_d\";\n",
       "                var nbb_cells = Jupyter.notebook.get_cells();\n",
       "                for (var i = 0; i < nbb_cells.length; ++i) {\n",
       "                    if (nbb_cells[i].input_prompt_number == nbb_cell_id) {\n",
       "                        if (nbb_cells[i].get_text() == nbb_unformatted_code) {\n",
       "                             nbb_cells[i].set_text(nbb_formatted_code);\n",
       "                        }\n",
       "                        break;\n",
       "                    }\n",
       "                }\n",
       "            }, 500);\n",
       "            "
      ],
      "text/plain": [
       "<IPython.core.display.Javascript object>"
      ]
     },
     "metadata": {},
     "output_type": "display_data"
    }
   ],
   "source": [
    "max_d"
   ]
  },
  {
   "cell_type": "code",
   "execution_count": 19,
   "id": "cc2c4d79",
   "metadata": {
    "ExecuteTime": {
     "end_time": "2022-02-01T14:26:09.138899Z",
     "start_time": "2022-02-01T14:21:08.318331Z"
    }
   },
   "outputs": [
    {
     "name": "stdout",
     "output_type": "stream",
     "text": [
      "Readying trees\n"
     ]
    },
    {
     "name": "stderr",
     "output_type": "stream",
     "text": [
      "100%|█████████████████████████████████████████████████████████████████████████████████████████████████████████████████████████████████████████████████████████████████████████| 2/2 [00:01<00:00,  1.46it/s]"
     ]
    },
    {
     "name": "stdout",
     "output_type": "stream",
     "text": [
      "Writing phylo trees\n",
      "Processing trees\n"
     ]
    },
    {
     "name": "stderr",
     "output_type": "stream",
     "text": [
      "\n",
      "100%|█████████████████████████████████████████████████████████████████████████████████████████████████████████████████████████████████████████████████████████████████████████| 2/2 [00:02<00:00,  1.11s/it]"
     ]
    },
    {
     "name": "stdout",
     "output_type": "stream",
     "text": [
      "Readying tip data\n"
     ]
    },
    {
     "name": "stderr",
     "output_type": "stream",
     "text": [
      "\n",
      "100%|█████████████████████████████████████████████████████████████████████████████████████████████████████████████████████████████████████████████████████████████████████████| 2/2 [00:01<00:00,  1.29it/s]\n"
     ]
    },
    {
     "name": "stdout",
     "output_type": "stream",
     "text": [
      "Readying trees\n"
     ]
    },
    {
     "name": "stderr",
     "output_type": "stream",
     "text": [
      "100%|███████████████████████████████████████████████████████████████████████████████████████████████████████████████████████████████████████████████████████████████████████| 10/10 [00:03<00:00,  2.98it/s]"
     ]
    },
    {
     "name": "stdout",
     "output_type": "stream",
     "text": [
      "Writing phylo trees\n",
      "Processing trees\n"
     ]
    },
    {
     "name": "stderr",
     "output_type": "stream",
     "text": [
      "\n",
      "100%|███████████████████████████████████████████████████████████████████████████████████████████████████████████████████████████████████████████████████████████████████████| 10/10 [00:02<00:00,  3.71it/s]\n"
     ]
    },
    {
     "name": "stdout",
     "output_type": "stream",
     "text": [
      "Readying tip data\n"
     ]
    },
    {
     "name": "stderr",
     "output_type": "stream",
     "text": [
      "100%|███████████████████████████████████████████████████████████████████████████████████████████████████████████████████████████████████████████████████████████████████████| 10/10 [00:02<00:00,  3.47it/s]\n"
     ]
    },
    {
     "name": "stdout",
     "output_type": "stream",
     "text": [
      "Readying trees\n"
     ]
    },
    {
     "name": "stderr",
     "output_type": "stream",
     "text": [
      "100%|█████████████████████████████████████████████████████████████████████████████████████████████████████████████████████████████████████████████████████████████████████████| 3/3 [00:01<00:00,  2.46it/s]"
     ]
    },
    {
     "name": "stdout",
     "output_type": "stream",
     "text": [
      "Writing phylo trees\n",
      "Processing trees\n"
     ]
    },
    {
     "name": "stderr",
     "output_type": "stream",
     "text": [
      "\n",
      "100%|█████████████████████████████████████████████████████████████████████████████████████████████████████████████████████████████████████████████████████████████████████████| 3/3 [00:01<00:00,  1.86it/s]"
     ]
    },
    {
     "name": "stdout",
     "output_type": "stream",
     "text": [
      "Readying tip data\n"
     ]
    },
    {
     "name": "stderr",
     "output_type": "stream",
     "text": [
      "\n",
      "100%|█████████████████████████████████████████████████████████████████████████████████████████████████████████████████████████████████████████████████████████████████████████| 3/3 [00:01<00:00,  1.72it/s]\n"
     ]
    },
    {
     "name": "stdout",
     "output_type": "stream",
     "text": [
      "Readying trees\n"
     ]
    },
    {
     "name": "stderr",
     "output_type": "stream",
     "text": [
      "100%|█████████████████████████████████████████████████████████████████████████████████████████████████████████████████████████████████████████████████████████████████████████| 6/6 [00:02<00:00,  2.92it/s]"
     ]
    },
    {
     "name": "stdout",
     "output_type": "stream",
     "text": [
      "Writing phylo trees\n",
      "Processing trees\n"
     ]
    },
    {
     "name": "stderr",
     "output_type": "stream",
     "text": [
      "\n",
      "100%|█████████████████████████████████████████████████████████████████████████████████████████████████████████████████████████████████████████████████████████████████████████| 6/6 [00:02<00:00,  2.80it/s]\n"
     ]
    },
    {
     "name": "stdout",
     "output_type": "stream",
     "text": [
      "Readying tip data\n"
     ]
    },
    {
     "name": "stderr",
     "output_type": "stream",
     "text": [
      "100%|█████████████████████████████████████████████████████████████████████████████████████████████████████████████████████████████████████████████████████████████████████████| 6/6 [00:02<00:00,  2.14it/s]\n"
     ]
    },
    {
     "name": "stdout",
     "output_type": "stream",
     "text": [
      "Readying trees\n"
     ]
    },
    {
     "name": "stderr",
     "output_type": "stream",
     "text": [
      "100%|███████████████████████████████████████████████████████████████████████████████████████████████████████████████████████████████████████████████████████████████████████| 16/16 [00:05<00:00,  2.73it/s]"
     ]
    },
    {
     "name": "stdout",
     "output_type": "stream",
     "text": [
      "Writing phylo trees\n",
      "Processing trees\n"
     ]
    },
    {
     "name": "stderr",
     "output_type": "stream",
     "text": [
      "\n",
      "100%|███████████████████████████████████████████████████████████████████████████████████████████████████████████████████████████████████████████████████████████████████████| 16/16 [00:03<00:00,  4.37it/s]\n"
     ]
    },
    {
     "name": "stdout",
     "output_type": "stream",
     "text": [
      "Readying tip data\n"
     ]
    },
    {
     "name": "stderr",
     "output_type": "stream",
     "text": [
      "100%|███████████████████████████████████████████████████████████████████████████████████████████████████████████████████████████████████████████████████████████████████████| 16/16 [00:03<00:00,  4.48it/s]\n"
     ]
    },
    {
     "name": "stdout",
     "output_type": "stream",
     "text": [
      "Readying trees\n"
     ]
    },
    {
     "name": "stderr",
     "output_type": "stream",
     "text": [
      "100%|█████████████████████████████████████████████████████████████████████████████████████████████████████████████████████████████████████████████████████████████████████████| 3/3 [00:01<00:00,  2.74it/s]"
     ]
    },
    {
     "name": "stdout",
     "output_type": "stream",
     "text": [
      "Writing phylo trees\n",
      "Processing trees\n"
     ]
    },
    {
     "name": "stderr",
     "output_type": "stream",
     "text": [
      "\n",
      "100%|█████████████████████████████████████████████████████████████████████████████████████████████████████████████████████████████████████████████████████████████████████████| 3/3 [00:01<00:00,  1.98it/s]"
     ]
    },
    {
     "name": "stdout",
     "output_type": "stream",
     "text": [
      "Readying tip data\n"
     ]
    },
    {
     "name": "stderr",
     "output_type": "stream",
     "text": [
      "\n",
      "100%|█████████████████████████████████████████████████████████████████████████████████████████████████████████████████████████████████████████████████████████████████████████| 3/3 [00:01<00:00,  1.75it/s]\n"
     ]
    },
    {
     "name": "stdout",
     "output_type": "stream",
     "text": [
      "Readying trees\n"
     ]
    },
    {
     "name": "stderr",
     "output_type": "stream",
     "text": [
      "100%|█████████████████████████████████████████████████████████████████████████████████████████████████████████████████████████████████████████████████████████████████████████| 2/2 [00:00<00:00,  2.80it/s]"
     ]
    },
    {
     "name": "stdout",
     "output_type": "stream",
     "text": [
      "Writing phylo trees\n",
      "Processing trees\n"
     ]
    },
    {
     "name": "stderr",
     "output_type": "stream",
     "text": [
      "\n",
      "100%|█████████████████████████████████████████████████████████████████████████████████████████████████████████████████████████████████████████████████████████████████████████| 2/2 [00:01<00:00,  1.36it/s]"
     ]
    },
    {
     "name": "stdout",
     "output_type": "stream",
     "text": [
      "Readying tip data\n"
     ]
    },
    {
     "name": "stderr",
     "output_type": "stream",
     "text": [
      "\n",
      "100%|█████████████████████████████████████████████████████████████████████████████████████████████████████████████████████████████████████████████████████████████████████████| 2/2 [00:01<00:00,  1.36it/s]\n"
     ]
    },
    {
     "name": "stdout",
     "output_type": "stream",
     "text": [
      "Readying trees\n"
     ]
    },
    {
     "name": "stderr",
     "output_type": "stream",
     "text": [
      "100%|█████████████████████████████████████████████████████████████████████████████████████████████████████████████████████████████████████████████████████████████████████████| 4/4 [00:01<00:00,  2.96it/s]"
     ]
    },
    {
     "name": "stdout",
     "output_type": "stream",
     "text": [
      "Writing phylo trees\n",
      "Processing trees\n"
     ]
    },
    {
     "name": "stderr",
     "output_type": "stream",
     "text": [
      "\n",
      "100%|█████████████████████████████████████████████████████████████████████████████████████████████████████████████████████████████████████████████████████████████████████████| 4/4 [00:01<00:00,  2.30it/s]\n"
     ]
    },
    {
     "name": "stdout",
     "output_type": "stream",
     "text": [
      "Readying tip data\n"
     ]
    },
    {
     "name": "stderr",
     "output_type": "stream",
     "text": [
      "100%|█████████████████████████████████████████████████████████████████████████████████████████████████████████████████████████████████████████████████████████████████████████| 4/4 [00:01<00:00,  2.02it/s]\n"
     ]
    },
    {
     "name": "stdout",
     "output_type": "stream",
     "text": [
      "Readying trees\n"
     ]
    },
    {
     "name": "stderr",
     "output_type": "stream",
     "text": [
      "100%|█████████████████████████████████████████████████████████████████████████████████████████████████████████████████████████████████████████████████████████████████████████| 6/6 [00:02<00:00,  2.78it/s]"
     ]
    },
    {
     "name": "stdout",
     "output_type": "stream",
     "text": [
      "Writing phylo trees\n",
      "Processing trees\n"
     ]
    },
    {
     "name": "stderr",
     "output_type": "stream",
     "text": [
      "\n",
      "100%|█████████████████████████████████████████████████████████████████████████████████████████████████████████████████████████████████████████████████████████████████████████| 6/6 [00:02<00:00,  2.66it/s]\n"
     ]
    },
    {
     "name": "stdout",
     "output_type": "stream",
     "text": [
      "Readying tip data\n"
     ]
    },
    {
     "name": "stderr",
     "output_type": "stream",
     "text": [
      "100%|█████████████████████████████████████████████████████████████████████████████████████████████████████████████████████████████████████████████████████████████████████████| 6/6 [00:02<00:00,  2.28it/s]\n"
     ]
    },
    {
     "name": "stdout",
     "output_type": "stream",
     "text": [
      "Readying trees\n"
     ]
    },
    {
     "name": "stderr",
     "output_type": "stream",
     "text": [
      "100%|█████████████████████████████████████████████████████████████████████████████████████████████████████████████████████████████████████████████████████████████████████████| 4/4 [00:01<00:00,  2.67it/s]"
     ]
    },
    {
     "name": "stdout",
     "output_type": "stream",
     "text": [
      "Writing phylo trees\n",
      "Processing trees\n"
     ]
    },
    {
     "name": "stderr",
     "output_type": "stream",
     "text": [
      "\n",
      "100%|█████████████████████████████████████████████████████████████████████████████████████████████████████████████████████████████████████████████████████████████████████████| 4/4 [00:01<00:00,  2.43it/s]\n"
     ]
    },
    {
     "name": "stdout",
     "output_type": "stream",
     "text": [
      "Readying tip data\n"
     ]
    },
    {
     "name": "stderr",
     "output_type": "stream",
     "text": [
      "100%|█████████████████████████████████████████████████████████████████████████████████████████████████████████████████████████████████████████████████████████████████████████| 4/4 [00:01<00:00,  2.19it/s]\n"
     ]
    },
    {
     "name": "stdout",
     "output_type": "stream",
     "text": [
      "Readying trees\n"
     ]
    },
    {
     "name": "stderr",
     "output_type": "stream",
     "text": [
      "100%|█████████████████████████████████████████████████████████████████████████████████████████████████████████████████████████████████████████████████████████████████████████| 4/4 [00:01<00:00,  2.83it/s]"
     ]
    },
    {
     "name": "stdout",
     "output_type": "stream",
     "text": [
      "Writing phylo trees\n",
      "Processing trees\n"
     ]
    },
    {
     "name": "stderr",
     "output_type": "stream",
     "text": [
      "\n",
      "100%|█████████████████████████████████████████████████████████████████████████████████████████████████████████████████████████████████████████████████████████████████████████| 4/4 [00:01<00:00,  2.39it/s]\n"
     ]
    },
    {
     "name": "stdout",
     "output_type": "stream",
     "text": [
      "Readying tip data\n"
     ]
    },
    {
     "name": "stderr",
     "output_type": "stream",
     "text": [
      "100%|█████████████████████████████████████████████████████████████████████████████████████████████████████████████████████████████████████████████████████████████████████████| 4/4 [00:01<00:00,  2.12it/s]\n"
     ]
    },
    {
     "name": "stdout",
     "output_type": "stream",
     "text": [
      "Readying trees\n"
     ]
    },
    {
     "name": "stderr",
     "output_type": "stream",
     "text": [
      "100%|█████████████████████████████████████████████████████████████████████████████████████████████████████████████████████████████████████████████████████████████████████████| 2/2 [00:00<00:00,  2.73it/s]"
     ]
    },
    {
     "name": "stdout",
     "output_type": "stream",
     "text": [
      "Writing phylo trees\n",
      "Processing trees\n"
     ]
    },
    {
     "name": "stderr",
     "output_type": "stream",
     "text": [
      "\n",
      "100%|█████████████████████████████████████████████████████████████████████████████████████████████████████████████████████████████████████████████████████████████████████████| 2/2 [00:01<00:00,  1.35it/s]"
     ]
    },
    {
     "name": "stdout",
     "output_type": "stream",
     "text": [
      "Readying tip data\n"
     ]
    },
    {
     "name": "stderr",
     "output_type": "stream",
     "text": [
      "\n",
      "100%|█████████████████████████████████████████████████████████████████████████████████████████████████████████████████████████████████████████████████████████████████████████| 2/2 [00:01<00:00,  1.34it/s]\n"
     ]
    },
    {
     "name": "stdout",
     "output_type": "stream",
     "text": [
      "Readying trees\n"
     ]
    },
    {
     "name": "stderr",
     "output_type": "stream",
     "text": [
      "100%|█████████████████████████████████████████████████████████████████████████████████████████████████████████████████████████████████████████████████████████████████████████| 2/2 [00:00<00:00,  2.90it/s]"
     ]
    },
    {
     "name": "stdout",
     "output_type": "stream",
     "text": [
      "Writing phylo trees\n",
      "Processing trees\n"
     ]
    },
    {
     "name": "stderr",
     "output_type": "stream",
     "text": [
      "\n",
      "100%|█████████████████████████████████████████████████████████████████████████████████████████████████████████████████████████████████████████████████████████████████████████| 2/2 [00:01<00:00,  1.39it/s]"
     ]
    },
    {
     "name": "stdout",
     "output_type": "stream",
     "text": [
      "Readying tip data\n"
     ]
    },
    {
     "name": "stderr",
     "output_type": "stream",
     "text": [
      "\n",
      "100%|█████████████████████████████████████████████████████████████████████████████████████████████████████████████████████████████████████████████████████████████████████████| 2/2 [00:01<00:00,  1.32it/s]\n"
     ]
    },
    {
     "name": "stdout",
     "output_type": "stream",
     "text": [
      "Readying trees\n"
     ]
    },
    {
     "name": "stderr",
     "output_type": "stream",
     "text": [
      "100%|█████████████████████████████████████████████████████████████████████████████████████████████████████████████████████████████████████████████████████████████████████████| 2/2 [00:00<00:00,  2.90it/s]"
     ]
    },
    {
     "name": "stdout",
     "output_type": "stream",
     "text": [
      "Writing phylo trees\n",
      "Processing trees\n"
     ]
    },
    {
     "name": "stderr",
     "output_type": "stream",
     "text": [
      "\n",
      "100%|█████████████████████████████████████████████████████████████████████████████████████████████████████████████████████████████████████████████████████████████████████████| 2/2 [00:01<00:00,  1.34it/s]"
     ]
    },
    {
     "name": "stdout",
     "output_type": "stream",
     "text": [
      "Readying tip data\n"
     ]
    },
    {
     "name": "stderr",
     "output_type": "stream",
     "text": [
      "\n",
      "100%|█████████████████████████████████████████████████████████████████████████████████████████████████████████████████████████████████████████████████████████████████████████| 2/2 [00:01<00:00,  1.33it/s]\n"
     ]
    },
    {
     "name": "stdout",
     "output_type": "stream",
     "text": [
      "Readying trees\n"
     ]
    },
    {
     "name": "stderr",
     "output_type": "stream",
     "text": [
      "100%|█████████████████████████████████████████████████████████████████████████████████████████████████████████████████████████████████████████████████████████████████████████| 6/6 [00:02<00:00,  2.90it/s]"
     ]
    },
    {
     "name": "stdout",
     "output_type": "stream",
     "text": [
      "Writing phylo trees\n",
      "Processing trees\n"
     ]
    },
    {
     "name": "stderr",
     "output_type": "stream",
     "text": [
      "\n",
      "100%|█████████████████████████████████████████████████████████████████████████████████████████████████████████████████████████████████████████████████████████████████████████| 6/6 [00:02<00:00,  2.53it/s]\n"
     ]
    },
    {
     "name": "stdout",
     "output_type": "stream",
     "text": [
      "Readying tip data\n"
     ]
    },
    {
     "name": "stderr",
     "output_type": "stream",
     "text": [
      "100%|█████████████████████████████████████████████████████████████████████████████████████████████████████████████████████████████████████████████████████████████████████████| 6/6 [00:02<00:00,  2.22it/s]\n"
     ]
    },
    {
     "name": "stdout",
     "output_type": "stream",
     "text": [
      "Readying trees\n"
     ]
    },
    {
     "name": "stderr",
     "output_type": "stream",
     "text": [
      "100%|█████████████████████████████████████████████████████████████████████████████████████████████████████████████████████████████████████████████████████████████████████████| 2/2 [00:00<00:00,  2.57it/s]"
     ]
    },
    {
     "name": "stdout",
     "output_type": "stream",
     "text": [
      "Writing phylo trees\n",
      "Processing trees\n"
     ]
    },
    {
     "name": "stderr",
     "output_type": "stream",
     "text": [
      "\n",
      "100%|█████████████████████████████████████████████████████████████████████████████████████████████████████████████████████████████████████████████████████████████████████████| 2/2 [00:01<00:00,  1.31it/s]"
     ]
    },
    {
     "name": "stdout",
     "output_type": "stream",
     "text": [
      "Readying tip data\n"
     ]
    },
    {
     "name": "stderr",
     "output_type": "stream",
     "text": [
      "\n",
      "100%|█████████████████████████████████████████████████████████████████████████████████████████████████████████████████████████████████████████████████████████████████████████| 2/2 [00:01<00:00,  1.31it/s]\n"
     ]
    },
    {
     "name": "stdout",
     "output_type": "stream",
     "text": [
      "Readying trees\n"
     ]
    },
    {
     "name": "stderr",
     "output_type": "stream",
     "text": [
      "100%|█████████████████████████████████████████████████████████████████████████████████████████████████████████████████████████████████████████████████████████████████████████| 5/5 [00:01<00:00,  2.99it/s]"
     ]
    },
    {
     "name": "stdout",
     "output_type": "stream",
     "text": [
      "Writing phylo trees\n",
      "Processing trees\n"
     ]
    },
    {
     "name": "stderr",
     "output_type": "stream",
     "text": [
      "\n",
      "100%|█████████████████████████████████████████████████████████████████████████████████████████████████████████████████████████████████████████████████████████████████████████| 5/5 [00:01<00:00,  2.52it/s]\n"
     ]
    },
    {
     "name": "stdout",
     "output_type": "stream",
     "text": [
      "Readying tip data\n"
     ]
    },
    {
     "name": "stderr",
     "output_type": "stream",
     "text": [
      "100%|█████████████████████████████████████████████████████████████████████████████████████████████████████████████████████████████████████████████████████████████████████████| 5/5 [00:02<00:00,  2.14it/s]\n"
     ]
    },
    {
     "name": "stdout",
     "output_type": "stream",
     "text": [
      "Readying trees\n"
     ]
    },
    {
     "name": "stderr",
     "output_type": "stream",
     "text": [
      "100%|█████████████████████████████████████████████████████████████████████████████████████████████████████████████████████████████████████████████████████████████████████████| 4/4 [00:01<00:00,  2.64it/s]"
     ]
    },
    {
     "name": "stdout",
     "output_type": "stream",
     "text": [
      "Writing phylo trees\n",
      "Processing trees\n"
     ]
    },
    {
     "name": "stderr",
     "output_type": "stream",
     "text": [
      "\n",
      "100%|█████████████████████████████████████████████████████████████████████████████████████████████████████████████████████████████████████████████████████████████████████████| 4/4 [00:01<00:00,  2.17it/s]\n"
     ]
    },
    {
     "name": "stdout",
     "output_type": "stream",
     "text": [
      "Readying tip data\n"
     ]
    },
    {
     "name": "stderr",
     "output_type": "stream",
     "text": [
      "100%|█████████████████████████████████████████████████████████████████████████████████████████████████████████████████████████████████████████████████████████████████████████| 4/4 [00:01<00:00,  2.08it/s]\n"
     ]
    },
    {
     "name": "stdout",
     "output_type": "stream",
     "text": [
      "Readying trees\n"
     ]
    },
    {
     "name": "stderr",
     "output_type": "stream",
     "text": [
      "100%|█████████████████████████████████████████████████████████████████████████████████████████████████████████████████████████████████████████████████████████████████████████| 6/6 [00:02<00:00,  2.89it/s]"
     ]
    },
    {
     "name": "stdout",
     "output_type": "stream",
     "text": [
      "Writing phylo trees\n",
      "Processing trees\n"
     ]
    },
    {
     "name": "stderr",
     "output_type": "stream",
     "text": [
      "\n",
      "100%|█████████████████████████████████████████████████████████████████████████████████████████████████████████████████████████████████████████████████████████████████████████| 6/6 [00:02<00:00,  2.77it/s]\n"
     ]
    },
    {
     "name": "stdout",
     "output_type": "stream",
     "text": [
      "Readying tip data\n"
     ]
    },
    {
     "name": "stderr",
     "output_type": "stream",
     "text": [
      "100%|█████████████████████████████████████████████████████████████████████████████████████████████████████████████████████████████████████████████████████████████████████████| 6/6 [00:02<00:00,  2.23it/s]\n"
     ]
    },
    {
     "name": "stdout",
     "output_type": "stream",
     "text": [
      "Readying trees\n"
     ]
    },
    {
     "name": "stderr",
     "output_type": "stream",
     "text": [
      "100%|█████████████████████████████████████████████████████████████████████████████████████████████████████████████████████████████████████████████████████████████████████████| 4/4 [00:01<00:00,  2.62it/s]"
     ]
    },
    {
     "name": "stdout",
     "output_type": "stream",
     "text": [
      "Writing phylo trees\n",
      "Processing trees\n"
     ]
    },
    {
     "name": "stderr",
     "output_type": "stream",
     "text": [
      "\n",
      "100%|█████████████████████████████████████████████████████████████████████████████████████████████████████████████████████████████████████████████████████████████████████████| 4/4 [00:01<00:00,  2.21it/s]\n"
     ]
    },
    {
     "name": "stdout",
     "output_type": "stream",
     "text": [
      "Readying tip data\n"
     ]
    },
    {
     "name": "stderr",
     "output_type": "stream",
     "text": [
      "100%|█████████████████████████████████████████████████████████████████████████████████████████████████████████████████████████████████████████████████████████████████████████| 4/4 [00:01<00:00,  2.01it/s]\n"
     ]
    },
    {
     "name": "stdout",
     "output_type": "stream",
     "text": [
      "Readying trees\n"
     ]
    },
    {
     "name": "stderr",
     "output_type": "stream",
     "text": [
      "100%|█████████████████████████████████████████████████████████████████████████████████████████████████████████████████████████████████████████████████████████████████████████| 6/6 [00:02<00:00,  2.79it/s]"
     ]
    },
    {
     "name": "stdout",
     "output_type": "stream",
     "text": [
      "Writing phylo trees\n",
      "Processing trees\n"
     ]
    },
    {
     "name": "stderr",
     "output_type": "stream",
     "text": [
      "\n",
      "100%|█████████████████████████████████████████████████████████████████████████████████████████████████████████████████████████████████████████████████████████████████████████| 6/6 [00:02<00:00,  2.59it/s]\n"
     ]
    },
    {
     "name": "stdout",
     "output_type": "stream",
     "text": [
      "Readying tip data\n"
     ]
    },
    {
     "name": "stderr",
     "output_type": "stream",
     "text": [
      "100%|█████████████████████████████████████████████████████████████████████████████████████████████████████████████████████████████████████████████████████████████████████████| 6/6 [00:02<00:00,  2.27it/s]\n"
     ]
    },
    {
     "name": "stdout",
     "output_type": "stream",
     "text": [
      "Readying trees\n"
     ]
    },
    {
     "name": "stderr",
     "output_type": "stream",
     "text": [
      "100%|█████████████████████████████████████████████████████████████████████████████████████████████████████████████████████████████████████████████████████████████████████████| 2/2 [00:00<00:00,  2.64it/s]"
     ]
    },
    {
     "name": "stdout",
     "output_type": "stream",
     "text": [
      "Writing phylo trees\n",
      "Processing trees\n"
     ]
    },
    {
     "name": "stderr",
     "output_type": "stream",
     "text": [
      "\n",
      "100%|█████████████████████████████████████████████████████████████████████████████████████████████████████████████████████████████████████████████████████████████████████████| 2/2 [00:01<00:00,  1.35it/s]"
     ]
    },
    {
     "name": "stdout",
     "output_type": "stream",
     "text": [
      "Readying tip data\n"
     ]
    },
    {
     "name": "stderr",
     "output_type": "stream",
     "text": [
      "\n",
      "100%|█████████████████████████████████████████████████████████████████████████████████████████████████████████████████████████████████████████████████████████████████████████| 2/2 [00:01<00:00,  1.34it/s]\n"
     ]
    },
    {
     "name": "stdout",
     "output_type": "stream",
     "text": [
      "Readying trees\n"
     ]
    },
    {
     "name": "stderr",
     "output_type": "stream",
     "text": [
      "100%|█████████████████████████████████████████████████████████████████████████████████████████████████████████████████████████████████████████████████████████████████████████| 6/6 [00:02<00:00,  2.97it/s]"
     ]
    },
    {
     "name": "stdout",
     "output_type": "stream",
     "text": [
      "Writing phylo trees\n",
      "Processing trees\n"
     ]
    },
    {
     "name": "stderr",
     "output_type": "stream",
     "text": [
      "\n",
      "100%|█████████████████████████████████████████████████████████████████████████████████████████████████████████████████████████████████████████████████████████████████████████| 6/6 [00:02<00:00,  2.60it/s]\n"
     ]
    },
    {
     "name": "stdout",
     "output_type": "stream",
     "text": [
      "Readying tip data\n"
     ]
    },
    {
     "name": "stderr",
     "output_type": "stream",
     "text": [
      "100%|█████████████████████████████████████████████████████████████████████████████████████████████████████████████████████████████████████████████████████████████████████████| 6/6 [00:02<00:00,  2.32it/s]\n"
     ]
    },
    {
     "name": "stdout",
     "output_type": "stream",
     "text": [
      "Readying trees\n"
     ]
    },
    {
     "name": "stderr",
     "output_type": "stream",
     "text": [
      "100%|█████████████████████████████████████████████████████████████████████████████████████████████████████████████████████████████████████████████████████████████████████████| 7/7 [00:02<00:00,  2.93it/s]"
     ]
    },
    {
     "name": "stdout",
     "output_type": "stream",
     "text": [
      "Writing phylo trees\n",
      "Processing trees\n"
     ]
    },
    {
     "name": "stderr",
     "output_type": "stream",
     "text": [
      "\n",
      "100%|█████████████████████████████████████████████████████████████████████████████████████████████████████████████████████████████████████████████████████████████████████████| 7/7 [00:02<00:00,  2.75it/s]\n"
     ]
    },
    {
     "name": "stdout",
     "output_type": "stream",
     "text": [
      "Readying tip data\n"
     ]
    },
    {
     "name": "stderr",
     "output_type": "stream",
     "text": [
      "100%|█████████████████████████████████████████████████████████████████████████████████████████████████████████████████████████████████████████████████████████████████████████| 7/7 [00:03<00:00,  2.19it/s]\n"
     ]
    },
    {
     "name": "stdout",
     "output_type": "stream",
     "text": [
      "Readying trees\n"
     ]
    },
    {
     "name": "stderr",
     "output_type": "stream",
     "text": [
      "100%|█████████████████████████████████████████████████████████████████████████████████████████████████████████████████████████████████████████████████████████████████████████| 6/6 [00:02<00:00,  2.66it/s]"
     ]
    },
    {
     "name": "stdout",
     "output_type": "stream",
     "text": [
      "Writing phylo trees\n",
      "Processing trees\n"
     ]
    },
    {
     "name": "stderr",
     "output_type": "stream",
     "text": [
      "\n",
      "100%|█████████████████████████████████████████████████████████████████████████████████████████████████████████████████████████████████████████████████████████████████████████| 6/6 [00:02<00:00,  2.46it/s]\n"
     ]
    },
    {
     "name": "stdout",
     "output_type": "stream",
     "text": [
      "Readying tip data\n"
     ]
    },
    {
     "name": "stderr",
     "output_type": "stream",
     "text": [
      "100%|█████████████████████████████████████████████████████████████████████████████████████████████████████████████████████████████████████████████████████████████████████████| 6/6 [00:02<00:00,  2.21it/s]\n"
     ]
    },
    {
     "name": "stdout",
     "output_type": "stream",
     "text": [
      "Readying trees\n"
     ]
    },
    {
     "name": "stderr",
     "output_type": "stream",
     "text": [
      "100%|█████████████████████████████████████████████████████████████████████████████████████████████████████████████████████████████████████████████████████████████████████████| 6/6 [00:02<00:00,  2.72it/s]"
     ]
    },
    {
     "name": "stdout",
     "output_type": "stream",
     "text": [
      "Writing phylo trees\n",
      "Processing trees\n"
     ]
    },
    {
     "name": "stderr",
     "output_type": "stream",
     "text": [
      "\n",
      "100%|█████████████████████████████████████████████████████████████████████████████████████████████████████████████████████████████████████████████████████████████████████████| 6/6 [00:02<00:00,  2.68it/s]\n"
     ]
    },
    {
     "name": "stdout",
     "output_type": "stream",
     "text": [
      "Readying tip data\n"
     ]
    },
    {
     "name": "stderr",
     "output_type": "stream",
     "text": [
      "100%|█████████████████████████████████████████████████████████████████████████████████████████████████████████████████████████████████████████████████████████████████████████| 6/6 [00:02<00:00,  2.41it/s]\n"
     ]
    },
    {
     "name": "stdout",
     "output_type": "stream",
     "text": [
      "Readying trees\n"
     ]
    },
    {
     "name": "stderr",
     "output_type": "stream",
     "text": [
      "100%|█████████████████████████████████████████████████████████████████████████████████████████████████████████████████████████████████████████████████████████████████████████| 6/6 [00:02<00:00,  2.85it/s]"
     ]
    },
    {
     "name": "stdout",
     "output_type": "stream",
     "text": [
      "Writing phylo trees\n",
      "Processing trees\n"
     ]
    },
    {
     "name": "stderr",
     "output_type": "stream",
     "text": [
      "\n",
      "100%|█████████████████████████████████████████████████████████████████████████████████████████████████████████████████████████████████████████████████████████████████████████| 6/6 [00:02<00:00,  2.63it/s]\n"
     ]
    },
    {
     "name": "stdout",
     "output_type": "stream",
     "text": [
      "Readying tip data\n"
     ]
    },
    {
     "name": "stderr",
     "output_type": "stream",
     "text": [
      "100%|█████████████████████████████████████████████████████████████████████████████████████████████████████████████████████████████████████████████████████████████████████████| 6/6 [00:02<00:00,  2.45it/s]\n"
     ]
    },
    {
     "name": "stdout",
     "output_type": "stream",
     "text": [
      "Readying trees\n"
     ]
    },
    {
     "name": "stderr",
     "output_type": "stream",
     "text": [
      "100%|███████████████████████████████████████████████████████████████████████████████████████████████████████████████████████████████████████████████████████████████████████| 11/11 [00:03<00:00,  2.83it/s]"
     ]
    },
    {
     "name": "stdout",
     "output_type": "stream",
     "text": [
      "Writing phylo trees\n",
      "Processing trees\n"
     ]
    },
    {
     "name": "stderr",
     "output_type": "stream",
     "text": [
      "\n",
      "100%|███████████████████████████████████████████████████████████████████████████████████████████████████████████████████████████████████████████████████████████████████████| 11/11 [00:02<00:00,  3.84it/s]\n"
     ]
    },
    {
     "name": "stdout",
     "output_type": "stream",
     "text": [
      "Readying tip data\n"
     ]
    },
    {
     "name": "stderr",
     "output_type": "stream",
     "text": [
      "100%|███████████████████████████████████████████████████████████████████████████████████████████████████████████████████████████████████████████████████████████████████████| 11/11 [00:03<00:00,  3.25it/s]\n"
     ]
    },
    {
     "name": "stdout",
     "output_type": "stream",
     "text": [
      "Readying trees\n"
     ]
    },
    {
     "name": "stderr",
     "output_type": "stream",
     "text": [
      "100%|█████████████████████████████████████████████████████████████████████████████████████████████████████████████████████████████████████████████████████████████████████████| 7/7 [00:02<00:00,  2.86it/s]"
     ]
    },
    {
     "name": "stdout",
     "output_type": "stream",
     "text": [
      "Writing phylo trees\n",
      "Processing trees\n"
     ]
    },
    {
     "name": "stderr",
     "output_type": "stream",
     "text": [
      "\n",
      "100%|█████████████████████████████████████████████████████████████████████████████████████████████████████████████████████████████████████████████████████████████████████████| 7/7 [00:02<00:00,  2.92it/s]\n"
     ]
    },
    {
     "name": "stdout",
     "output_type": "stream",
     "text": [
      "Readying tip data\n"
     ]
    },
    {
     "name": "stderr",
     "output_type": "stream",
     "text": [
      "100%|█████████████████████████████████████████████████████████████████████████████████████████████████████████████████████████████████████████████████████████████████████████| 7/7 [00:02<00:00,  2.62it/s]\n"
     ]
    },
    {
     "name": "stdout",
     "output_type": "stream",
     "text": [
      "Readying trees\n"
     ]
    },
    {
     "name": "stderr",
     "output_type": "stream",
     "text": [
      "100%|███████████████████████████████████████████████████████████████████████████████████████████████████████████████████████████████████████████████████████████████████████| 11/11 [00:03<00:00,  2.77it/s]"
     ]
    },
    {
     "name": "stdout",
     "output_type": "stream",
     "text": [
      "Writing phylo trees\n",
      "Processing trees\n"
     ]
    },
    {
     "name": "stderr",
     "output_type": "stream",
     "text": [
      "\n",
      "100%|███████████████████████████████████████████████████████████████████████████████████████████████████████████████████████████████████████████████████████████████████████| 11/11 [00:02<00:00,  4.10it/s]\n"
     ]
    },
    {
     "name": "stdout",
     "output_type": "stream",
     "text": [
      "Readying tip data\n"
     ]
    },
    {
     "name": "stderr",
     "output_type": "stream",
     "text": [
      "100%|███████████████████████████████████████████████████████████████████████████████████████████████████████████████████████████████████████████████████████████████████████| 11/11 [00:03<00:00,  3.38it/s]\n"
     ]
    },
    {
     "name": "stdout",
     "output_type": "stream",
     "text": [
      "Readying trees\n"
     ]
    },
    {
     "name": "stderr",
     "output_type": "stream",
     "text": [
      "100%|███████████████████████████████████████████████████████████████████████████████████████████████████████████████████████████████████████████████████████████████████████| 12/12 [00:04<00:00,  2.79it/s]"
     ]
    },
    {
     "name": "stdout",
     "output_type": "stream",
     "text": [
      "Writing phylo trees\n",
      "Processing trees\n"
     ]
    },
    {
     "name": "stderr",
     "output_type": "stream",
     "text": [
      "\n",
      "100%|███████████████████████████████████████████████████████████████████████████████████████████████████████████████████████████████████████████████████████████████████████| 12/12 [00:03<00:00,  3.98it/s]\n"
     ]
    },
    {
     "name": "stdout",
     "output_type": "stream",
     "text": [
      "Readying tip data\n"
     ]
    },
    {
     "name": "stderr",
     "output_type": "stream",
     "text": [
      "100%|███████████████████████████████████████████████████████████████████████████████████████████████████████████████████████████████████████████████████████████████████████| 12/12 [00:03<00:00,  3.45it/s]\n"
     ]
    },
    {
     "name": "stdout",
     "output_type": "stream",
     "text": [
      "Readying trees\n"
     ]
    },
    {
     "name": "stderr",
     "output_type": "stream",
     "text": [
      "100%|███████████████████████████████████████████████████████████████████████████████████████████████████████████████████████████████████████████████████████████████████████| 14/14 [00:05<00:00,  2.71it/s]"
     ]
    },
    {
     "name": "stdout",
     "output_type": "stream",
     "text": [
      "Writing phylo trees\n",
      "Processing trees\n"
     ]
    },
    {
     "name": "stderr",
     "output_type": "stream",
     "text": [
      "\n",
      "100%|███████████████████████████████████████████████████████████████████████████████████████████████████████████████████████████████████████████████████████████████████████| 14/14 [00:02<00:00,  5.04it/s]\n"
     ]
    },
    {
     "name": "stdout",
     "output_type": "stream",
     "text": [
      "Readying tip data\n"
     ]
    },
    {
     "name": "stderr",
     "output_type": "stream",
     "text": [
      "100%|███████████████████████████████████████████████████████████████████████████████████████████████████████████████████████████████████████████████████████████████████████| 14/14 [00:03<00:00,  4.44it/s]\n"
     ]
    },
    {
     "name": "stdout",
     "output_type": "stream",
     "text": [
      "Readying trees\n"
     ]
    },
    {
     "name": "stderr",
     "output_type": "stream",
     "text": [
      "100%|█████████████████████████████████████████████████████████████████████████████████████████████████████████████████████████████████████████████████████████████████████████| 4/4 [00:01<00:00,  2.84it/s]"
     ]
    },
    {
     "name": "stdout",
     "output_type": "stream",
     "text": [
      "Writing phylo trees\n",
      "Processing trees\n"
     ]
    },
    {
     "name": "stderr",
     "output_type": "stream",
     "text": [
      "\n",
      "100%|█████████████████████████████████████████████████████████████████████████████████████████████████████████████████████████████████████████████████████████████████████████| 4/4 [00:01<00:00,  2.35it/s]\n"
     ]
    },
    {
     "name": "stdout",
     "output_type": "stream",
     "text": [
      "Readying tip data\n"
     ]
    },
    {
     "name": "stderr",
     "output_type": "stream",
     "text": [
      "100%|█████████████████████████████████████████████████████████████████████████████████████████████████████████████████████████████████████████████████████████████████████████| 4/4 [00:01<00:00,  2.12it/s]\n"
     ]
    },
    {
     "name": "stdout",
     "output_type": "stream",
     "text": [
      "Readying trees\n"
     ]
    },
    {
     "name": "stderr",
     "output_type": "stream",
     "text": [
      "100%|█████████████████████████████████████████████████████████████████████████████████████████████████████████████████████████████████████████████████████████████████████████| 4/4 [00:01<00:00,  2.70it/s]"
     ]
    },
    {
     "name": "stdout",
     "output_type": "stream",
     "text": [
      "Writing phylo trees\n",
      "Processing trees\n"
     ]
    },
    {
     "name": "stderr",
     "output_type": "stream",
     "text": [
      "\n",
      "100%|█████████████████████████████████████████████████████████████████████████████████████████████████████████████████████████████████████████████████████████████████████████| 4/4 [00:01<00:00,  2.22it/s]\n"
     ]
    },
    {
     "name": "stdout",
     "output_type": "stream",
     "text": [
      "Readying tip data\n"
     ]
    },
    {
     "name": "stderr",
     "output_type": "stream",
     "text": [
      "100%|█████████████████████████████████████████████████████████████████████████████████████████████████████████████████████████████████████████████████████████████████████████| 4/4 [00:01<00:00,  2.03it/s]\n"
     ]
    },
    {
     "name": "stdout",
     "output_type": "stream",
     "text": [
      "Readying trees\n"
     ]
    },
    {
     "name": "stderr",
     "output_type": "stream",
     "text": [
      "100%|███████████████████████████████████████████████████████████████████████████████████████████████████████████████████████████████████████████████████████████████████████| 16/16 [00:05<00:00,  2.76it/s]"
     ]
    },
    {
     "name": "stdout",
     "output_type": "stream",
     "text": [
      "Writing phylo trees\n",
      "Processing trees\n"
     ]
    },
    {
     "name": "stderr",
     "output_type": "stream",
     "text": [
      "\n",
      "100%|███████████████████████████████████████████████████████████████████████████████████████████████████████████████████████████████████████████████████████████████████████| 16/16 [00:02<00:00,  5.42it/s]\n"
     ]
    },
    {
     "name": "stdout",
     "output_type": "stream",
     "text": [
      "Readying tip data\n"
     ]
    },
    {
     "name": "stderr",
     "output_type": "stream",
     "text": [
      "100%|███████████████████████████████████████████████████████████████████████████████████████████████████████████████████████████████████████████████████████████████████████| 16/16 [00:03<00:00,  5.00it/s]\n"
     ]
    },
    {
     "name": "stdout",
     "output_type": "stream",
     "text": [
      "Readying trees\n"
     ]
    },
    {
     "name": "stderr",
     "output_type": "stream",
     "text": [
      "100%|█████████████████████████████████████████████████████████████████████████████████████████████████████████████████████████████████████████████████████████████████████████| 9/9 [00:03<00:00,  2.74it/s]"
     ]
    },
    {
     "name": "stdout",
     "output_type": "stream",
     "text": [
      "Writing phylo trees\n",
      "Processing trees\n"
     ]
    },
    {
     "name": "stderr",
     "output_type": "stream",
     "text": [
      "\n",
      "100%|█████████████████████████████████████████████████████████████████████████████████████████████████████████████████████████████████████████████████████████████████████████| 9/9 [00:02<00:00,  3.10it/s]\n"
     ]
    },
    {
     "name": "stdout",
     "output_type": "stream",
     "text": [
      "Readying tip data\n"
     ]
    },
    {
     "name": "stderr",
     "output_type": "stream",
     "text": [
      "100%|█████████████████████████████████████████████████████████████████████████████████████████████████████████████████████████████████████████████████████████████████████████| 9/9 [00:03<00:00,  2.67it/s]\n"
     ]
    },
    {
     "name": "stdout",
     "output_type": "stream",
     "text": [
      "Readying trees\n"
     ]
    },
    {
     "name": "stderr",
     "output_type": "stream",
     "text": [
      "100%|█████████████████████████████████████████████████████████████████████████████████████████████████████████████████████████████████████████████████████████████████████████| 5/5 [00:01<00:00,  2.84it/s]"
     ]
    },
    {
     "name": "stdout",
     "output_type": "stream",
     "text": [
      "Writing phylo trees\n",
      "Processing trees\n"
     ]
    },
    {
     "name": "stderr",
     "output_type": "stream",
     "text": [
      "\n",
      "100%|█████████████████████████████████████████████████████████████████████████████████████████████████████████████████████████████████████████████████████████████████████████| 5/5 [00:02<00:00,  2.37it/s]\n"
     ]
    },
    {
     "name": "stdout",
     "output_type": "stream",
     "text": [
      "Readying tip data\n"
     ]
    },
    {
     "name": "stderr",
     "output_type": "stream",
     "text": [
      "100%|█████████████████████████████████████████████████████████████████████████████████████████████████████████████████████████████████████████████████████████████████████████| 5/5 [00:02<00:00,  2.22it/s]\n"
     ]
    },
    {
     "name": "stdout",
     "output_type": "stream",
     "text": [
      "Readying trees\n"
     ]
    },
    {
     "name": "stderr",
     "output_type": "stream",
     "text": [
      "100%|█████████████████████████████████████████████████████████████████████████████████████████████████████████████████████████████████████████████████████████████████████████| 5/5 [00:01<00:00,  2.77it/s]"
     ]
    },
    {
     "name": "stdout",
     "output_type": "stream",
     "text": [
      "Writing phylo trees\n",
      "Processing trees\n"
     ]
    },
    {
     "name": "stderr",
     "output_type": "stream",
     "text": [
      "\n",
      "100%|█████████████████████████████████████████████████████████████████████████████████████████████████████████████████████████████████████████████████████████████████████████| 5/5 [00:02<00:00,  2.37it/s]\n"
     ]
    },
    {
     "name": "stdout",
     "output_type": "stream",
     "text": [
      "Readying tip data\n"
     ]
    },
    {
     "name": "stderr",
     "output_type": "stream",
     "text": [
      "100%|█████████████████████████████████████████████████████████████████████████████████████████████████████████████████████████████████████████████████████████████████████████| 5/5 [00:02<00:00,  2.09it/s]\n"
     ]
    },
    {
     "name": "stdout",
     "output_type": "stream",
     "text": [
      "Readying trees\n"
     ]
    },
    {
     "name": "stderr",
     "output_type": "stream",
     "text": [
      "100%|█████████████████████████████████████████████████████████████████████████████████████████████████████████████████████████████████████████████████████████████████████████| 2/2 [00:00<00:00,  2.37it/s]"
     ]
    },
    {
     "name": "stdout",
     "output_type": "stream",
     "text": [
      "Writing phylo trees\n",
      "Processing trees\n"
     ]
    },
    {
     "name": "stderr",
     "output_type": "stream",
     "text": [
      "\n",
      "100%|█████████████████████████████████████████████████████████████████████████████████████████████████████████████████████████████████████████████████████████████████████████| 2/2 [00:01<00:00,  1.34it/s]"
     ]
    },
    {
     "name": "stdout",
     "output_type": "stream",
     "text": [
      "Readying tip data\n"
     ]
    },
    {
     "name": "stderr",
     "output_type": "stream",
     "text": [
      "\n",
      "100%|█████████████████████████████████████████████████████████████████████████████████████████████████████████████████████████████████████████████████████████████████████████| 2/2 [00:01<00:00,  1.27it/s]\n"
     ]
    },
    {
     "name": "stdout",
     "output_type": "stream",
     "text": [
      "Readying trees\n"
     ]
    },
    {
     "name": "stderr",
     "output_type": "stream",
     "text": [
      "100%|███████████████████████████████████████████████████████████████████████████████████████████████████████████████████████████████████████████████████████████████████████| 19/19 [00:06<00:00,  2.80it/s]"
     ]
    },
    {
     "name": "stdout",
     "output_type": "stream",
     "text": [
      "Writing phylo trees\n",
      "Processing trees\n"
     ]
    },
    {
     "name": "stderr",
     "output_type": "stream",
     "text": [
      "\n",
      "100%|███████████████████████████████████████████████████████████████████████████████████████████████████████████████████████████████████████████████████████████████████████| 19/19 [00:03<00:00,  5.75it/s]\n"
     ]
    },
    {
     "name": "stdout",
     "output_type": "stream",
     "text": [
      "Readying tip data\n"
     ]
    },
    {
     "name": "stderr",
     "output_type": "stream",
     "text": [
      "100%|███████████████████████████████████████████████████████████████████████████████████████████████████████████████████████████████████████████████████████████████████████| 19/19 [00:03<00:00,  5.53it/s]\n"
     ]
    },
    {
     "data": {
      "application/javascript": [
       "\n",
       "            setTimeout(function() {\n",
       "                var nbb_cell_id = 19;\n",
       "                var nbb_unformatted_code = \"n_tips = 100\\ntemp_folder = \\\"covid/temp\\\"\\ntree_path = \\\"covid/temp/subsample.trees\\\"\\naudacity = False\\nstratified = False\\nstratify_by = None\\n\\nfor k, v in data.items():\\n    n_trees = min(int(np.ceil(v.n / n_tips)), 50)\\n    v.prep_data(\\n        n_tips,\\n        n_trees,\\n        temp_folder,\\n        tree_path,\\n        audacity=audacity,\\n        stratified=stratified,\\n    )\";\n",
       "                var nbb_formatted_code = \"n_tips = 100\\ntemp_folder = \\\"covid/temp\\\"\\ntree_path = \\\"covid/temp/subsample.trees\\\"\\naudacity = False\\nstratified = False\\nstratify_by = None\\n\\nfor k, v in data.items():\\n    n_trees = min(int(np.ceil(v.n / n_tips)), 50)\\n    v.prep_data(\\n        n_tips,\\n        n_trees,\\n        temp_folder,\\n        tree_path,\\n        audacity=audacity,\\n        stratified=stratified,\\n    )\";\n",
       "                var nbb_cells = Jupyter.notebook.get_cells();\n",
       "                for (var i = 0; i < nbb_cells.length; ++i) {\n",
       "                    if (nbb_cells[i].input_prompt_number == nbb_cell_id) {\n",
       "                        if (nbb_cells[i].get_text() == nbb_unformatted_code) {\n",
       "                             nbb_cells[i].set_text(nbb_formatted_code);\n",
       "                        }\n",
       "                        break;\n",
       "                    }\n",
       "                }\n",
       "            }, 500);\n",
       "            "
      ],
      "text/plain": [
       "<IPython.core.display.Javascript object>"
      ]
     },
     "metadata": {},
     "output_type": "display_data"
    }
   ],
   "source": [
    "n_tips = 100\n",
    "temp_folder = \"covid/temp\"\n",
    "tree_path = \"covid/temp/subsample.trees\"\n",
    "audacity = False\n",
    "stratified = False\n",
    "stratify_by = None\n",
    "\n",
    "for k, v in data.items():\n",
    "    n_trees = min(int(np.ceil(v.n / n_tips)), 50)\n",
    "    v.prep_data(\n",
    "        n_tips,\n",
    "        n_trees,\n",
    "        temp_folder,\n",
    "        tree_path,\n",
    "        audacity=audacity,\n",
    "        stratified=stratified,\n",
    "    )"
   ]
  },
  {
   "cell_type": "code",
   "execution_count": 20,
   "id": "a2f5801a",
   "metadata": {
    "ExecuteTime": {
     "end_time": "2022-02-01T15:09:33.251887Z",
     "start_time": "2022-02-01T14:26:09.146200Z"
    }
   },
   "outputs": [
    {
     "name": "stderr",
     "output_type": "stream",
     "text": [
      "WARNING:absl:No GPU/TPU found, falling back to CPU. (Set TF_CPP_MIN_LOG_LEVEL=0 and rerun for more info.)\n",
      "100%|███████████████████████████████████████████████████████████████████████████████████████████████████████████████████████████████████████████████████████████████████████| 60/60 [00:32<00:00,  1.85it/s]\n",
      "100%|█████████████████████████████████████████████████████████████████████████████████████████████████████████████████████████████████████████████████████████████████████| 300/300 [01:30<00:00,  3.31it/s]\n",
      "100%|███████████████████████████████████████████████████████████████████████████████████████████████████████████████████████████████████████████████████████████████████████| 90/90 [00:39<00:00,  2.27it/s]\n",
      "100%|█████████████████████████████████████████████████████████████████████████████████████████████████████████████████████████████████████████████████████████████████████| 180/180 [01:02<00:00,  2.87it/s]\n",
      "100%|█████████████████████████████████████████████████████████████████████████████████████████████████████████████████████████████████████████████████████████████████████| 480/480 [02:15<00:00,  3.53it/s]\n",
      "100%|███████████████████████████████████████████████████████████████████████████████████████████████████████████████████████████████████████████████████████████████████████| 90/90 [00:39<00:00,  2.25it/s]\n",
      "100%|███████████████████████████████████████████████████████████████████████████████████████████████████████████████████████████████████████████████████████████████████████| 60/60 [00:32<00:00,  1.85it/s]\n",
      "100%|█████████████████████████████████████████████████████████████████████████████████████████████████████████████████████████████████████████████████████████████████████| 120/120 [00:47<00:00,  2.52it/s]\n",
      "100%|█████████████████████████████████████████████████████████████████████████████████████████████████████████████████████████████████████████████████████████████████████| 180/180 [01:04<00:00,  2.78it/s]\n",
      "100%|█████████████████████████████████████████████████████████████████████████████████████████████████████████████████████████████████████████████████████████████████████| 120/120 [00:48<00:00,  2.48it/s]\n",
      "100%|█████████████████████████████████████████████████████████████████████████████████████████████████████████████████████████████████████████████████████████████████████| 120/120 [00:47<00:00,  2.53it/s]\n",
      "100%|███████████████████████████████████████████████████████████████████████████████████████████████████████████████████████████████████████████████████████████████████████| 60/60 [00:33<00:00,  1.79it/s]\n",
      "100%|███████████████████████████████████████████████████████████████████████████████████████████████████████████████████████████████████████████████████████████████████████| 60/60 [00:33<00:00,  1.82it/s]\n",
      "100%|███████████████████████████████████████████████████████████████████████████████████████████████████████████████████████████████████████████████████████████████████████| 60/60 [00:32<00:00,  1.84it/s]\n",
      "100%|█████████████████████████████████████████████████████████████████████████████████████████████████████████████████████████████████████████████████████████████████████| 180/180 [01:02<00:00,  2.90it/s]\n",
      "100%|███████████████████████████████████████████████████████████████████████████████████████████████████████████████████████████████████████████████████████████████████████| 60/60 [00:32<00:00,  1.82it/s]\n",
      "100%|█████████████████████████████████████████████████████████████████████████████████████████████████████████████████████████████████████████████████████████████████████| 150/150 [00:54<00:00,  2.77it/s]\n",
      "100%|█████████████████████████████████████████████████████████████████████████████████████████████████████████████████████████████████████████████████████████████████████| 120/120 [00:46<00:00,  2.58it/s]\n",
      "100%|█████████████████████████████████████████████████████████████████████████████████████████████████████████████████████████████████████████████████████████████████████| 180/180 [01:02<00:00,  2.88it/s]\n",
      "100%|█████████████████████████████████████████████████████████████████████████████████████████████████████████████████████████████████████████████████████████████████████| 120/120 [00:48<00:00,  2.47it/s]\n",
      "100%|█████████████████████████████████████████████████████████████████████████████████████████████████████████████████████████████████████████████████████████████████████| 180/180 [01:01<00:00,  2.94it/s]\n",
      "100%|███████████████████████████████████████████████████████████████████████████████████████████████████████████████████████████████████████████████████████████████████████| 60/60 [00:33<00:00,  1.77it/s]\n",
      "100%|█████████████████████████████████████████████████████████████████████████████████████████████████████████████████████████████████████████████████████████████████████| 180/180 [01:03<00:00,  2.82it/s]\n",
      "100%|█████████████████████████████████████████████████████████████████████████████████████████████████████████████████████████████████████████████████████████████████████| 210/210 [01:10<00:00,  2.98it/s]\n",
      "100%|█████████████████████████████████████████████████████████████████████████████████████████████████████████████████████████████████████████████████████████████████████| 180/180 [01:02<00:00,  2.86it/s]\n",
      "100%|█████████████████████████████████████████████████████████████████████████████████████████████████████████████████████████████████████████████████████████████████████| 180/180 [01:05<00:00,  2.77it/s]\n",
      "100%|█████████████████████████████████████████████████████████████████████████████████████████████████████████████████████████████████████████████████████████████████████| 180/180 [01:02<00:00,  2.88it/s]\n",
      "100%|█████████████████████████████████████████████████████████████████████████████████████████████████████████████████████████████████████████████████████████████████████| 330/330 [01:39<00:00,  3.32it/s]\n",
      "100%|█████████████████████████████████████████████████████████████████████████████████████████████████████████████████████████████████████████████████████████████████████| 210/210 [01:10<00:00,  3.00it/s]\n",
      "100%|█████████████████████████████████████████████████████████████████████████████████████████████████████████████████████████████████████████████████████████████████████| 330/330 [01:38<00:00,  3.36it/s]\n",
      "100%|█████████████████████████████████████████████████████████████████████████████████████████████████████████████████████████████████████████████████████████████████████| 360/360 [01:49<00:00,  3.27it/s]\n",
      "100%|█████████████████████████████████████████████████████████████████████████████████████████████████████████████████████████████████████████████████████████████████████| 420/420 [02:01<00:00,  3.44it/s]\n",
      "100%|█████████████████████████████████████████████████████████████████████████████████████████████████████████████████████████████████████████████████████████████████████| 120/120 [00:47<00:00,  2.54it/s]\n",
      "100%|█████████████████████████████████████████████████████████████████████████████████████████████████████████████████████████████████████████████████████████████████████| 120/120 [00:46<00:00,  2.61it/s]\n",
      "100%|█████████████████████████████████████████████████████████████████████████████████████████████████████████████████████████████████████████████████████████████████████| 480/480 [02:16<00:00,  3.52it/s]\n",
      "100%|█████████████████████████████████████████████████████████████████████████████████████████████████████████████████████████████████████████████████████████████████████| 270/270 [01:24<00:00,  3.18it/s]\n",
      "100%|█████████████████████████████████████████████████████████████████████████████████████████████████████████████████████████████████████████████████████████████████████| 150/150 [00:57<00:00,  2.59it/s]\n",
      "100%|█████████████████████████████████████████████████████████████████████████████████████████████████████████████████████████████████████████████████████████████████████| 150/150 [00:56<00:00,  2.64it/s]\n",
      "100%|███████████████████████████████████████████████████████████████████████████████████████████████████████████████████████████████████████████████████████████████████████| 60/60 [00:32<00:00,  1.82it/s]\n"
     ]
    },
    {
     "name": "stderr",
     "output_type": "stream",
     "text": [
      "100%|█████████████████████████████████████████████████████████████████████████████████████████████████████████████████████████████████████████████████████████████████████| 570/570 [02:35<00:00,  3.66it/s]\n"
     ]
    },
    {
     "data": {
      "application/javascript": [
       "\n",
       "            setTimeout(function() {\n",
       "                var nbb_cell_id = 20;\n",
       "                var nbb_unformatted_code = \"rate = 1.0\\nm = 10\\n\\nfor k, v in data.items():\\n    global_flows, local_flows = default_flows(v, m, rate)\\n    v.setup_flows(global_flows, local_flows)\\n\\nrng = jax.random.PRNGKey(6)\\nres = {}\\nn_iter = 30\\nthreshold = 0.000001\\nstep_size = 1.0\\nfor k, v in data.items():\\n    res[k] = v.loop(\\n        _params_prior_loglik,\\n        rng,\\n        n_iter=n_iter,\\n        step_size=step_size,\\n        threshold=threshold,\\n        Q=JC69(),\\n    )\";\n",
       "                var nbb_formatted_code = \"rate = 1.0\\nm = 10\\n\\nfor k, v in data.items():\\n    global_flows, local_flows = default_flows(v, m, rate)\\n    v.setup_flows(global_flows, local_flows)\\n\\nrng = jax.random.PRNGKey(6)\\nres = {}\\nn_iter = 30\\nthreshold = 0.000001\\nstep_size = 1.0\\nfor k, v in data.items():\\n    res[k] = v.loop(\\n        _params_prior_loglik,\\n        rng,\\n        n_iter=n_iter,\\n        step_size=step_size,\\n        threshold=threshold,\\n        Q=JC69(),\\n    )\";\n",
       "                var nbb_cells = Jupyter.notebook.get_cells();\n",
       "                for (var i = 0; i < nbb_cells.length; ++i) {\n",
       "                    if (nbb_cells[i].input_prompt_number == nbb_cell_id) {\n",
       "                        if (nbb_cells[i].get_text() == nbb_unformatted_code) {\n",
       "                             nbb_cells[i].set_text(nbb_formatted_code);\n",
       "                        }\n",
       "                        break;\n",
       "                    }\n",
       "                }\n",
       "            }, 500);\n",
       "            "
      ],
      "text/plain": [
       "<IPython.core.display.Javascript object>"
      ]
     },
     "metadata": {},
     "output_type": "display_data"
    }
   ],
   "source": [
    "rate = 1.0\n",
    "m = 10\n",
    "\n",
    "for k, v in data.items():\n",
    "    global_flows, local_flows = default_flows(v, m, rate)\n",
    "    v.setup_flows(global_flows, local_flows)\n",
    "\n",
    "rng = jax.random.PRNGKey(6)\n",
    "res = {}\n",
    "n_iter = 30\n",
    "threshold = 0.000001\n",
    "step_size = 1.0\n",
    "for k, v in data.items():\n",
    "    res[k] = v.loop(\n",
    "        _params_prior_loglik,\n",
    "        rng,\n",
    "        n_iter=n_iter,\n",
    "        step_size=step_size,\n",
    "        threshold=threshold,\n",
    "        Q=JC69(),\n",
    "    )"
   ]
  },
  {
   "cell_type": "markdown",
   "id": "welsh-headset",
   "metadata": {},
   "source": [
    "## Visualize Posteriors"
   ]
  },
  {
   "cell_type": "code",
   "execution_count": 23,
   "id": "narrative-proposal",
   "metadata": {
    "ExecuteTime": {
     "end_time": "2022-02-01T16:18:59.121274Z",
     "start_time": "2022-02-01T16:18:59.090793Z"
    }
   },
   "outputs": [
    {
     "data": {
      "application/javascript": [
       "\n",
       "            setTimeout(function() {\n",
       "                var nbb_cell_id = 23;\n",
       "                var nbb_unformatted_code = \"from scipy.interpolate import interp1d\\nfrom vbsky.plot import *\\n\\n\\ndef plot_run(ax, i, ps):\\n    posteriors, earliest, end, _, _, _ = tups[i]\\n    top = (posteriors[\\\"origin\\\"] + earliest)[:, 0]\\n\\n    x0 = np.linspace(end - np.max(posteriors[\\\"origin\\\"]) - earliest, end, 100)\\n    y0 = []\\n\\n    for x, y in zip(top, posteriors[k]):\\n        t = (end - np.linspace(0, x, m + 1))[::-1]\\n        y0.append(interp1d(t[1:], y, kind=\\\"nearest\\\", fill_value=\\\"extrapolate\\\")(x0))\\n    q25, q50, q75 = np.quantile(np.array(y0), q=[0.025, 0.5, 0.975], axis=0)\\n    # q50 = np.mean(y0, axis=0)\\n    ax.plot(x0, q50, label=i)\\n    ax.fill_between(x0, q25, q75, alpha=0.1)\\n    # plt.xlim(reversed(plt.xlim()))\\n    # ax.legend()\";\n",
       "                var nbb_formatted_code = \"from scipy.interpolate import interp1d\\nfrom vbsky.plot import *\\n\\n\\ndef plot_run(ax, i, ps):\\n    posteriors, earliest, end, _, _, _ = tups[i]\\n    top = (posteriors[\\\"origin\\\"] + earliest)[:, 0]\\n\\n    x0 = np.linspace(end - np.max(posteriors[\\\"origin\\\"]) - earliest, end, 100)\\n    y0 = []\\n\\n    for x, y in zip(top, posteriors[k]):\\n        t = (end - np.linspace(0, x, m + 1))[::-1]\\n        y0.append(interp1d(t[1:], y, kind=\\\"nearest\\\", fill_value=\\\"extrapolate\\\")(x0))\\n    q25, q50, q75 = np.quantile(np.array(y0), q=[0.025, 0.5, 0.975], axis=0)\\n    # q50 = np.mean(y0, axis=0)\\n    ax.plot(x0, q50, label=i)\\n    ax.fill_between(x0, q25, q75, alpha=0.1)\\n    # plt.xlim(reversed(plt.xlim()))\\n    # ax.legend()\";\n",
       "                var nbb_cells = Jupyter.notebook.get_cells();\n",
       "                for (var i = 0; i < nbb_cells.length; ++i) {\n",
       "                    if (nbb_cells[i].input_prompt_number == nbb_cell_id) {\n",
       "                        if (nbb_cells[i].get_text() == nbb_unformatted_code) {\n",
       "                             nbb_cells[i].set_text(nbb_formatted_code);\n",
       "                        }\n",
       "                        break;\n",
       "                    }\n",
       "                }\n",
       "            }, 500);\n",
       "            "
      ],
      "text/plain": [
       "<IPython.core.display.Javascript object>"
      ]
     },
     "metadata": {},
     "output_type": "display_data"
    }
   ],
   "source": [
    "from scipy.interpolate import interp1d\n",
    "from vbsky.plot import *\n",
    "\n",
    "\n",
    "def plot_run(ax, i, ps):\n",
    "    posteriors, earliest, end, _, _, _ = tups[i]\n",
    "    top = (posteriors[\"origin\"] + earliest)[:, 0]\n",
    "\n",
    "    x0 = np.linspace(end - np.max(posteriors[\"origin\"]) - earliest, end, 100)\n",
    "    y0 = []\n",
    "\n",
    "    for x, y in zip(top, posteriors[k]):\n",
    "        t = (end - np.linspace(0, x, m + 1))[::-1]\n",
    "        y0.append(interp1d(t[1:], y, kind=\"nearest\", fill_value=\"extrapolate\")(x0))\n",
    "    q25, q50, q75 = np.quantile(np.array(y0), q=[0.025, 0.5, 0.975], axis=0)\n",
    "    # q50 = np.mean(y0, axis=0)\n",
    "    ax.plot(x0, q50, label=i)\n",
    "    ax.fill_between(x0, q25, q75, alpha=0.1)\n",
    "    # plt.xlim(reversed(plt.xlim()))\n",
    "    # ax.legend()"
   ]
  },
  {
   "cell_type": "code",
   "execution_count": 25,
   "id": "failing-acoustic",
   "metadata": {
    "ExecuteTime": {
     "end_time": "2022-02-01T16:19:21.380675Z",
     "start_time": "2022-02-01T16:19:21.336198Z"
    }
   },
   "outputs": [
    {
     "data": {
      "application/javascript": [
       "\n",
       "            setTimeout(function() {\n",
       "                var nbb_cell_id = 25;\n",
       "                var nbb_unformatted_code = \"def median_median(res, data, ax, m, scenario, n):\\n    q25s = []\\n    q50s = []\\n    q75s = []\\n\\n    all_coal_times = []\\n    for i in range(1, n + 1):\\n        start, top, end, x0 = plot_helper(res[(scenario, i)], data[(scenario, i)], 100)\\n        y0 = []\\n\\n        for x1, x2, y in zip(start, top, res[(scenario, i)].global_posteriors[\\\"R\\\"]):\\n            intervals = np.linspace(x1, x2, m + 1)\\n            t = (end - intervals)[::-1]\\n            y0.append(\\n                # interp1d(t[1:], y, kind=\\\"nearest\\\", fill_value=\\\"extrapolate\\\")(x0)\\n                interp1d(t[1:], y, kind=\\\"nearest\\\", bounds_error=False)(x0)\\n            )\\n        q25, q50, q75 = np.nanquantile(np.array(y0), q=[0.025, 0.5, 0.975], axis=0)\\n        q25s.append(q25)\\n        q50s.append(q50)\\n        q75s.append(q75)\\n\\n    #     x0 = np.linspace(-0.25, 4, 100)\\n    ax.plot(x0, np.nanmedian(np.array(q50s), axis=0), label=i)\\n    ax.fill_between(\\n        x0,\\n        np.nanmedian(np.array(q25s), axis=0),\\n        np.nanmedian(np.array(q75s), axis=0),\\n        alpha=0.1,\\n    )\";\n",
       "                var nbb_formatted_code = \"def median_median(res, data, ax, m, scenario, n):\\n    q25s = []\\n    q50s = []\\n    q75s = []\\n\\n    all_coal_times = []\\n    for i in range(1, n + 1):\\n        start, top, end, x0 = plot_helper(res[(scenario, i)], data[(scenario, i)], 100)\\n        y0 = []\\n\\n        for x1, x2, y in zip(start, top, res[(scenario, i)].global_posteriors[\\\"R\\\"]):\\n            intervals = np.linspace(x1, x2, m + 1)\\n            t = (end - intervals)[::-1]\\n            y0.append(\\n                # interp1d(t[1:], y, kind=\\\"nearest\\\", fill_value=\\\"extrapolate\\\")(x0)\\n                interp1d(t[1:], y, kind=\\\"nearest\\\", bounds_error=False)(x0)\\n            )\\n        q25, q50, q75 = np.nanquantile(np.array(y0), q=[0.025, 0.5, 0.975], axis=0)\\n        q25s.append(q25)\\n        q50s.append(q50)\\n        q75s.append(q75)\\n\\n    #     x0 = np.linspace(-0.25, 4, 100)\\n    ax.plot(x0, np.nanmedian(np.array(q50s), axis=0), label=i)\\n    ax.fill_between(\\n        x0,\\n        np.nanmedian(np.array(q25s), axis=0),\\n        np.nanmedian(np.array(q75s), axis=0),\\n        alpha=0.1,\\n    )\";\n",
       "                var nbb_cells = Jupyter.notebook.get_cells();\n",
       "                for (var i = 0; i < nbb_cells.length; ++i) {\n",
       "                    if (nbb_cells[i].input_prompt_number == nbb_cell_id) {\n",
       "                        if (nbb_cells[i].get_text() == nbb_unformatted_code) {\n",
       "                             nbb_cells[i].set_text(nbb_formatted_code);\n",
       "                        }\n",
       "                        break;\n",
       "                    }\n",
       "                }\n",
       "            }, 500);\n",
       "            "
      ],
      "text/plain": [
       "<IPython.core.display.Javascript object>"
      ]
     },
     "metadata": {},
     "output_type": "display_data"
    }
   ],
   "source": [
    "def median_median(res, data, ax, m, scenario, n):\n",
    "    q25s = []\n",
    "    q50s = []\n",
    "    q75s = []\n",
    "\n",
    "    all_coal_times = []\n",
    "    for i in range(1, n + 1):\n",
    "        start, top, end, x0 = plot_helper(res[(scenario, i)], data[(scenario, i)], 100)\n",
    "        y0 = []\n",
    "\n",
    "        for x1, x2, y in zip(start, top, res[(scenario, i)].global_posteriors[\"R\"]):\n",
    "            intervals = np.linspace(x1, x2, m + 1)\n",
    "            t = (end - intervals)[::-1]\n",
    "            y0.append(\n",
    "                # interp1d(t[1:], y, kind=\"nearest\", fill_value=\"extrapolate\")(x0)\n",
    "                interp1d(t[1:], y, kind=\"nearest\", bounds_error=False)(x0)\n",
    "            )\n",
    "        q25, q50, q75 = np.nanquantile(np.array(y0), q=[0.025, 0.5, 0.975], axis=0)\n",
    "        q25s.append(q25)\n",
    "        q50s.append(q50)\n",
    "        q75s.append(q75)\n",
    "\n",
    "    #     x0 = np.linspace(-0.25, 4, 100)\n",
    "    ax.plot(x0, np.nanmedian(np.array(q50s), axis=0), label=i)\n",
    "    ax.fill_between(\n",
    "        x0,\n",
    "        np.nanmedian(np.array(q25s), axis=0),\n",
    "        np.nanmedian(np.array(q75s), axis=0),\n",
    "        alpha=0.1,\n",
    "    )"
   ]
  },
  {
   "cell_type": "code",
   "execution_count": 26,
   "id": "9bd1d2f3",
   "metadata": {
    "ExecuteTime": {
     "end_time": "2022-02-01T16:21:25.638691Z",
     "start_time": "2022-02-01T16:19:21.994372Z"
    }
   },
   "outputs": [
    {
     "name": "stderr",
     "output_type": "stream",
     "text": [
      "/Users/calebki/.pyenv/versions/3.9.7/lib/python3.9/site-packages/numpy/lib/nanfunctions.py:1395: RuntimeWarning: All-NaN slice encountered\n",
      "  result = np.apply_along_axis(_nanquantile_1d, axis, a, q,\n",
      "/Users/calebki/.pyenv/versions/3.9.7/lib/python3.9/site-packages/numpy/lib/nanfunctions.py:1119: RuntimeWarning: All-NaN slice encountered\n",
      "  r, k = function_base._ureduce(a, func=_nanmedian, axis=axis, out=out,\n",
      "/Users/calebki/.pyenv/versions/3.9.7/lib/python3.9/site-packages/numpy/lib/nanfunctions.py:1119: RuntimeWarning: All-NaN slice encountered\n",
      "  r, k = function_base._ureduce(a, func=_nanmedian, axis=axis, out=out,\n",
      "/Users/calebki/.pyenv/versions/3.9.7/lib/python3.9/site-packages/numpy/lib/nanfunctions.py:1395: RuntimeWarning: All-NaN slice encountered\n",
      "  result = np.apply_along_axis(_nanquantile_1d, axis, a, q,\n",
      "/Users/calebki/.pyenv/versions/3.9.7/lib/python3.9/site-packages/numpy/lib/nanfunctions.py:1119: RuntimeWarning: All-NaN slice encountered\n",
      "  r, k = function_base._ureduce(a, func=_nanmedian, axis=axis, out=out,\n",
      "/Users/calebki/.pyenv/versions/3.9.7/lib/python3.9/site-packages/numpy/lib/nanfunctions.py:1395: RuntimeWarning: All-NaN slice encountered\n",
      "  result = np.apply_along_axis(_nanquantile_1d, axis, a, q,\n",
      "/Users/calebki/.pyenv/versions/3.9.7/lib/python3.9/site-packages/numpy/lib/nanfunctions.py:1395: RuntimeWarning: All-NaN slice encountered\n",
      "  result = np.apply_along_axis(_nanquantile_1d, axis, a, q,\n"
     ]
    },
    {
     "data": {
      "image/svg+xml": [
       "<?xml version=\"1.0\" encoding=\"utf-8\" standalone=\"no\"?>\n",
       "<!DOCTYPE svg PUBLIC \"-//W3C//DTD SVG 1.1//EN\"\n",
       "  \"http://www.w3.org/Graphics/SVG/1.1/DTD/svg11.dtd\">\n",
       "<svg height=\"467.574375pt\" version=\"1.1\" viewBox=\"0 0 585.7625 467.574375\" width=\"585.7625pt\" xmlns=\"http://www.w3.org/2000/svg\" xmlns:xlink=\"http://www.w3.org/1999/xlink\">\n",
       " <metadata>\n",
       "  <rdf:RDF xmlns:cc=\"http://creativecommons.org/ns#\" xmlns:dc=\"http://purl.org/dc/elements/1.1/\" xmlns:rdf=\"http://www.w3.org/1999/02/22-rdf-syntax-ns#\">\n",
       "   <cc:Work>\n",
       "    <dc:type rdf:resource=\"http://purl.org/dc/dcmitype/StillImage\"/>\n",
       "    <dc:date>2022-02-01T11:21:25.539036</dc:date>\n",
       "    <dc:format>image/svg+xml</dc:format>\n",
       "    <dc:creator>\n",
       "     <cc:Agent>\n",
       "      <dc:title>Matplotlib v3.4.3, https://matplotlib.org/</dc:title>\n",
       "     </cc:Agent>\n",
       "    </dc:creator>\n",
       "   </cc:Work>\n",
       "  </rdf:RDF>\n",
       " </metadata>\n",
       " <defs>\n",
       "  <style type=\"text/css\">*{stroke-linecap:butt;stroke-linejoin:round;}</style>\n",
       " </defs>\n",
       " <g id=\"figure_1\">\n",
       "  <g id=\"patch_1\">\n",
       "   <path d=\"M 0 467.574375 \n",
       "L 585.7625 467.574375 \n",
       "L 585.7625 0 \n",
       "L 0 0 \n",
       "z\n",
       "\" style=\"fill:none;\"/>\n",
       "  </g>\n",
       "  <g id=\"axes_1\">\n",
       "   <g id=\"patch_2\">\n",
       "    <path d=\"M 20.5625 110.94856 \n",
       "L 578.5625 110.94856 \n",
       "L 578.5625 22.318125 \n",
       "L 20.5625 22.318125 \n",
       "z\n",
       "\" style=\"fill:#ffffff;\"/>\n",
       "   </g>\n",
       "   <g id=\"PolyCollection_1\">\n",
       "    <path clip-path=\"url(#peccbb590ba)\" d=\"M 51.244644 86.707008 \n",
       "L 51.244644 86.707008 \n",
       "L 56.289684 86.641193 \n",
       "L 61.334724 90.216094 \n",
       "L 66.379764 92.878983 \n",
       "L 71.424804 84.406625 \n",
       "L 76.469844 81.534305 \n",
       "L 81.514884 86.591708 \n",
       "L 86.559924 86.388865 \n",
       "L 91.604964 86.46123 \n",
       "L 96.650004 86.858864 \n",
       "L 101.695044 86.857748 \n",
       "L 106.740084 86.833512 \n",
       "L 111.785124 86.820604 \n",
       "L 116.830164 86.735677 \n",
       "L 121.875203 85.804425 \n",
       "L 126.920243 85.381469 \n",
       "L 131.965283 85.377991 \n",
       "L 137.010323 85.377007 \n",
       "L 142.055363 85.377007 \n",
       "L 147.100403 85.377007 \n",
       "L 152.145443 85.377007 \n",
       "L 157.190483 85.380003 \n",
       "L 162.235523 85.466383 \n",
       "L 167.280563 86.054667 \n",
       "L 172.325603 86.949248 \n",
       "L 177.370643 86.866761 \n",
       "L 182.415683 86.865712 \n",
       "L 187.460723 86.865712 \n",
       "L 192.505763 86.865712 \n",
       "L 197.550803 86.865712 \n",
       "L 202.595843 86.865712 \n",
       "L 207.640883 86.865712 \n",
       "L 212.685923 86.865712 \n",
       "L 217.730963 86.871448 \n",
       "L 222.776003 87.373322 \n",
       "L 227.821043 86.801555 \n",
       "L 232.866083 86.753304 \n",
       "L 237.911123 86.722129 \n",
       "L 242.956163 86.723184 \n",
       "L 248.001203 86.723184 \n",
       "L 253.046243 86.721601 \n",
       "L 258.091283 86.714733 \n",
       "L 263.136323 86.640505 \n",
       "L 268.181363 86.506925 \n",
       "L 273.226403 87.49493 \n",
       "L 278.271443 87.281489 \n",
       "L 283.316483 87.281489 \n",
       "L 288.361522 87.281489 \n",
       "L 293.406562 87.281489 \n",
       "L 298.451602 87.281489 \n",
       "L 303.496642 87.281489 \n",
       "L 308.541682 87.281489 \n",
       "L 313.586722 87.281489 \n",
       "L 318.631762 88.309542 \n",
       "L 323.676802 89.83619 \n",
       "L 328.721842 89.847468 \n",
       "L 333.766882 89.847468 \n",
       "L 338.811922 89.847468 \n",
       "L 343.856962 89.847468 \n",
       "L 348.902002 89.847468 \n",
       "L 353.947042 89.847468 \n",
       "L 358.992082 89.847468 \n",
       "L 364.037122 89.847468 \n",
       "L 369.082162 89.887565 \n",
       "L 374.127202 88.912345 \n",
       "L 379.172242 88.912345 \n",
       "L 384.217282 88.912345 \n",
       "L 389.262322 88.912345 \n",
       "L 394.307362 88.912345 \n",
       "L 399.352402 88.912345 \n",
       "L 404.397442 88.912345 \n",
       "L 409.442482 88.912345 \n",
       "L 414.487522 88.912345 \n",
       "L 419.532562 89.482756 \n",
       "L 424.577602 90.123969 \n",
       "L 429.622642 90.123969 \n",
       "L 434.667682 90.123969 \n",
       "L 439.712722 90.123969 \n",
       "L 444.757762 90.123969 \n",
       "L 449.802802 90.123969 \n",
       "L 454.847841 90.123969 \n",
       "L 459.892881 90.123969 \n",
       "L 464.937921 90.123969 \n",
       "L 469.982961 90.02947 \n",
       "L 475.028001 87.677078 \n",
       "L 480.073041 87.677078 \n",
       "L 485.118081 87.677078 \n",
       "L 490.163121 87.677078 \n",
       "L 495.208161 87.677078 \n",
       "L 500.253201 87.677078 \n",
       "L 505.298241 87.677078 \n",
       "L 510.343281 87.677078 \n",
       "L 515.388321 87.677078 \n",
       "L 520.433361 89.785759 \n",
       "L 525.478401 90.672449 \n",
       "L 530.523441 90.672449 \n",
       "L 535.568481 90.672449 \n",
       "L 540.613521 90.672449 \n",
       "L 545.658561 90.672449 \n",
       "L 545.658561 75.816194 \n",
       "L 545.658561 75.816194 \n",
       "L 540.613521 75.816194 \n",
       "L 535.568481 75.816194 \n",
       "L 530.523441 75.816194 \n",
       "L 525.478401 75.816194 \n",
       "L 520.433361 77.409433 \n",
       "L 515.388321 79.190673 \n",
       "L 510.343281 79.190673 \n",
       "L 505.298241 79.190673 \n",
       "L 500.253201 79.190673 \n",
       "L 495.208161 79.190673 \n",
       "L 490.163121 79.190673 \n",
       "L 485.118081 79.190673 \n",
       "L 480.073041 79.190673 \n",
       "L 475.028001 79.190673 \n",
       "L 469.982961 76.270378 \n",
       "L 464.937921 75.314706 \n",
       "L 459.892881 75.314706 \n",
       "L 454.847841 75.314706 \n",
       "L 449.802802 75.314706 \n",
       "L 444.757762 75.314706 \n",
       "L 439.712722 75.314706 \n",
       "L 434.667682 75.314706 \n",
       "L 429.622642 75.314706 \n",
       "L 424.577602 74.786285 \n",
       "L 419.532562 77.210731 \n",
       "L 414.487522 78.213685 \n",
       "L 409.442482 78.213685 \n",
       "L 404.397442 78.213685 \n",
       "L 399.352402 78.213685 \n",
       "L 394.307362 78.213685 \n",
       "L 389.262322 78.213685 \n",
       "L 384.217282 78.213685 \n",
       "L 379.172242 78.213685 \n",
       "L 374.127202 78.131907 \n",
       "L 369.082162 74.038531 \n",
       "L 364.037122 74.217789 \n",
       "L 358.992082 74.217789 \n",
       "L 353.947042 74.217789 \n",
       "L 348.902002 74.217789 \n",
       "L 343.856962 74.217789 \n",
       "L 338.811922 74.217789 \n",
       "L 333.766882 74.217789 \n",
       "L 328.721842 74.217789 \n",
       "L 323.676802 74.093933 \n",
       "L 318.631762 73.297506 \n",
       "L 313.586722 73.053544 \n",
       "L 308.541682 73.047174 \n",
       "L 303.496642 73.047174 \n",
       "L 298.451602 73.047174 \n",
       "L 293.406562 73.047174 \n",
       "L 288.361522 73.047174 \n",
       "L 283.316483 73.047174 \n",
       "L 278.271443 73.045844 \n",
       "L 273.226403 72.380266 \n",
       "L 268.181363 69.72571 \n",
       "L 263.136323 70.247411 \n",
       "L 258.091283 70.541837 \n",
       "L 253.046243 70.569486 \n",
       "L 248.001203 70.63825 \n",
       "L 242.956163 70.63825 \n",
       "L 237.911123 70.63825 \n",
       "L 232.866083 70.684668 \n",
       "L 227.821043 70.766486 \n",
       "L 222.776003 70.683686 \n",
       "L 217.730963 68.39819 \n",
       "L 212.685923 68.845736 \n",
       "L 207.640883 68.845736 \n",
       "L 202.595843 68.845736 \n",
       "L 197.550803 68.845736 \n",
       "L 192.505763 68.845736 \n",
       "L 187.460723 68.845736 \n",
       "L 182.415683 68.845736 \n",
       "L 177.370643 68.845736 \n",
       "L 172.325603 67.562444 \n",
       "L 167.280563 66.5847 \n",
       "L 162.235523 66.520977 \n",
       "L 157.190483 66.516452 \n",
       "L 152.145443 66.506611 \n",
       "L 147.100403 66.506611 \n",
       "L 142.055363 66.506611 \n",
       "L 137.010323 66.506611 \n",
       "L 131.965283 66.506611 \n",
       "L 126.920243 66.373478 \n",
       "L 121.875203 62.601104 \n",
       "L 116.830164 60.146542 \n",
       "L 111.785124 59.758203 \n",
       "L 106.740084 59.653898 \n",
       "L 101.695044 59.660567 \n",
       "L 96.650004 59.572185 \n",
       "L 91.604964 60.466673 \n",
       "L 86.559924 64.994603 \n",
       "L 81.514884 66.953122 \n",
       "L 76.469844 71.783854 \n",
       "L 71.424804 72.402332 \n",
       "L 66.379764 71.854987 \n",
       "L 61.334724 73.587825 \n",
       "L 56.289684 80.591932 \n",
       "L 51.244644 86.707008 \n",
       "z\n",
       "\" style=\"fill:#1f77b4;fill-opacity:0.1;\"/>\n",
       "   </g>\n",
       "   <g id=\"matplotlib.axis_1\">\n",
       "    <g id=\"xtick_1\">\n",
       "     <g id=\"line2d_1\">\n",
       "      <defs>\n",
       "       <path d=\"M 0 0 \n",
       "L 0 3.5 \n",
       "\" id=\"m1bb85440d6\" style=\"stroke:#000000;stroke-width:0.8;\"/>\n",
       "      </defs>\n",
       "      <g>\n",
       "       <use style=\"stroke:#000000;stroke-width:0.8;\" x=\"67.447904\" xlink:href=\"#m1bb85440d6\" y=\"110.94856\"/>\n",
       "      </g>\n",
       "     </g>\n",
       "    </g>\n",
       "    <g id=\"xtick_2\">\n",
       "     <g id=\"line2d_2\">\n",
       "      <g>\n",
       "       <use style=\"stroke:#000000;stroke-width:0.8;\" x=\"188.885644\" xlink:href=\"#m1bb85440d6\" y=\"110.94856\"/>\n",
       "      </g>\n",
       "     </g>\n",
       "    </g>\n",
       "    <g id=\"xtick_3\">\n",
       "     <g id=\"line2d_3\">\n",
       "      <g>\n",
       "       <use style=\"stroke:#000000;stroke-width:0.8;\" x=\"310.323384\" xlink:href=\"#m1bb85440d6\" y=\"110.94856\"/>\n",
       "      </g>\n",
       "     </g>\n",
       "    </g>\n",
       "    <g id=\"xtick_4\">\n",
       "     <g id=\"line2d_4\">\n",
       "      <g>\n",
       "       <use style=\"stroke:#000000;stroke-width:0.8;\" x=\"431.761124\" xlink:href=\"#m1bb85440d6\" y=\"110.94856\"/>\n",
       "      </g>\n",
       "     </g>\n",
       "    </g>\n",
       "    <g id=\"xtick_5\">\n",
       "     <g id=\"line2d_5\">\n",
       "      <g>\n",
       "       <use style=\"stroke:#000000;stroke-width:0.8;\" x=\"553.198864\" xlink:href=\"#m1bb85440d6\" y=\"110.94856\"/>\n",
       "      </g>\n",
       "     </g>\n",
       "    </g>\n",
       "   </g>\n",
       "   <g id=\"matplotlib.axis_2\">\n",
       "    <g id=\"ytick_1\">\n",
       "     <g id=\"line2d_6\">\n",
       "      <defs>\n",
       "       <path d=\"M 0 0 \n",
       "L -3.5 0 \n",
       "\" id=\"m90b12b6e64\" style=\"stroke:#000000;stroke-width:0.8;\"/>\n",
       "      </defs>\n",
       "      <g>\n",
       "       <use style=\"stroke:#000000;stroke-width:0.8;\" x=\"20.5625\" xlink:href=\"#m90b12b6e64\" y=\"110.94856\"/>\n",
       "      </g>\n",
       "     </g>\n",
       "     <g id=\"text_1\">\n",
       "      <!-- 0 -->\n",
       "      <g transform=\"translate(7.2 114.747779)scale(0.1 -0.1)\">\n",
       "       <defs>\n",
       "        <path d=\"M 2034 4250 \n",
       "Q 1547 4250 1301 3770 \n",
       "Q 1056 3291 1056 2328 \n",
       "Q 1056 1369 1301 889 \n",
       "Q 1547 409 2034 409 \n",
       "Q 2525 409 2770 889 \n",
       "Q 3016 1369 3016 2328 \n",
       "Q 3016 3291 2770 3770 \n",
       "Q 2525 4250 2034 4250 \n",
       "z\n",
       "M 2034 4750 \n",
       "Q 2819 4750 3233 4129 \n",
       "Q 3647 3509 3647 2328 \n",
       "Q 3647 1150 3233 529 \n",
       "Q 2819 -91 2034 -91 \n",
       "Q 1250 -91 836 529 \n",
       "Q 422 1150 422 2328 \n",
       "Q 422 3509 836 4129 \n",
       "Q 1250 4750 2034 4750 \n",
       "z\n",
       "\" id=\"DejaVuSans-30\" transform=\"scale(0.015625)\"/>\n",
       "       </defs>\n",
       "       <use xlink:href=\"#DejaVuSans-30\"/>\n",
       "      </g>\n",
       "     </g>\n",
       "    </g>\n",
       "    <g id=\"ytick_2\">\n",
       "     <g id=\"line2d_7\">\n",
       "      <g>\n",
       "       <use style=\"stroke:#000000;stroke-width:0.8;\" x=\"20.5625\" xlink:href=\"#m90b12b6e64\" y=\"81.405082\"/>\n",
       "      </g>\n",
       "     </g>\n",
       "     <g id=\"text_2\">\n",
       "      <!-- 1 -->\n",
       "      <g transform=\"translate(7.2 85.2043)scale(0.1 -0.1)\">\n",
       "       <defs>\n",
       "        <path d=\"M 794 531 \n",
       "L 1825 531 \n",
       "L 1825 4091 \n",
       "L 703 3866 \n",
       "L 703 4441 \n",
       "L 1819 4666 \n",
       "L 2450 4666 \n",
       "L 2450 531 \n",
       "L 3481 531 \n",
       "L 3481 0 \n",
       "L 794 0 \n",
       "L 794 531 \n",
       "z\n",
       "\" id=\"DejaVuSans-31\" transform=\"scale(0.015625)\"/>\n",
       "       </defs>\n",
       "       <use xlink:href=\"#DejaVuSans-31\"/>\n",
       "      </g>\n",
       "     </g>\n",
       "    </g>\n",
       "    <g id=\"ytick_3\">\n",
       "     <g id=\"line2d_8\">\n",
       "      <g>\n",
       "       <use style=\"stroke:#000000;stroke-width:0.8;\" x=\"20.5625\" xlink:href=\"#m90b12b6e64\" y=\"51.861603\"/>\n",
       "      </g>\n",
       "     </g>\n",
       "     <g id=\"text_3\">\n",
       "      <!-- 2 -->\n",
       "      <g transform=\"translate(7.2 55.660822)scale(0.1 -0.1)\">\n",
       "       <defs>\n",
       "        <path d=\"M 1228 531 \n",
       "L 3431 531 \n",
       "L 3431 0 \n",
       "L 469 0 \n",
       "L 469 531 \n",
       "Q 828 903 1448 1529 \n",
       "Q 2069 2156 2228 2338 \n",
       "Q 2531 2678 2651 2914 \n",
       "Q 2772 3150 2772 3378 \n",
       "Q 2772 3750 2511 3984 \n",
       "Q 2250 4219 1831 4219 \n",
       "Q 1534 4219 1204 4116 \n",
       "Q 875 4013 500 3803 \n",
       "L 500 4441 \n",
       "Q 881 4594 1212 4672 \n",
       "Q 1544 4750 1819 4750 \n",
       "Q 2544 4750 2975 4387 \n",
       "Q 3406 4025 3406 3419 \n",
       "Q 3406 3131 3298 2873 \n",
       "Q 3191 2616 2906 2266 \n",
       "Q 2828 2175 2409 1742 \n",
       "Q 1991 1309 1228 531 \n",
       "z\n",
       "\" id=\"DejaVuSans-32\" transform=\"scale(0.015625)\"/>\n",
       "       </defs>\n",
       "       <use xlink:href=\"#DejaVuSans-32\"/>\n",
       "      </g>\n",
       "     </g>\n",
       "    </g>\n",
       "    <g id=\"ytick_4\">\n",
       "     <g id=\"line2d_9\">\n",
       "      <g>\n",
       "       <use style=\"stroke:#000000;stroke-width:0.8;\" x=\"20.5625\" xlink:href=\"#m90b12b6e64\" y=\"22.318125\"/>\n",
       "      </g>\n",
       "     </g>\n",
       "     <g id=\"text_4\">\n",
       "      <!-- 3 -->\n",
       "      <g transform=\"translate(7.2 26.117344)scale(0.1 -0.1)\">\n",
       "       <defs>\n",
       "        <path d=\"M 2597 2516 \n",
       "Q 3050 2419 3304 2112 \n",
       "Q 3559 1806 3559 1356 \n",
       "Q 3559 666 3084 287 \n",
       "Q 2609 -91 1734 -91 \n",
       "Q 1441 -91 1130 -33 \n",
       "Q 819 25 488 141 \n",
       "L 488 750 \n",
       "Q 750 597 1062 519 \n",
       "Q 1375 441 1716 441 \n",
       "Q 2309 441 2620 675 \n",
       "Q 2931 909 2931 1356 \n",
       "Q 2931 1769 2642 2001 \n",
       "Q 2353 2234 1838 2234 \n",
       "L 1294 2234 \n",
       "L 1294 2753 \n",
       "L 1863 2753 \n",
       "Q 2328 2753 2575 2939 \n",
       "Q 2822 3125 2822 3475 \n",
       "Q 2822 3834 2567 4026 \n",
       "Q 2313 4219 1838 4219 \n",
       "Q 1578 4219 1281 4162 \n",
       "Q 984 4106 628 3988 \n",
       "L 628 4550 \n",
       "Q 988 4650 1302 4700 \n",
       "Q 1616 4750 1894 4750 \n",
       "Q 2613 4750 3031 4423 \n",
       "Q 3450 4097 3450 3541 \n",
       "Q 3450 3153 3228 2886 \n",
       "Q 3006 2619 2597 2516 \n",
       "z\n",
       "\" id=\"DejaVuSans-33\" transform=\"scale(0.015625)\"/>\n",
       "       </defs>\n",
       "       <use xlink:href=\"#DejaVuSans-33\"/>\n",
       "      </g>\n",
       "     </g>\n",
       "    </g>\n",
       "   </g>\n",
       "   <g id=\"LineCollection_1\">\n",
       "    <path clip-path=\"url(#peccbb590ba)\" d=\"M 67.447904 72.542038 \n",
       "L 553.198864 72.542038 \n",
       "\" style=\"fill:none;stroke:#ff0000;stroke-dasharray:5.55,2.4;stroke-dashoffset:0;stroke-width:1.5;\"/>\n",
       "   </g>\n",
       "   <g id=\"line2d_10\">\n",
       "    <path clip-path=\"url(#peccbb590ba)\" d=\"M 51.244644 86.707008 \n",
       "L 56.289684 83.656282 \n",
       "L 61.334724 83.023452 \n",
       "L 66.379764 84.597418 \n",
       "L 71.424804 80.062468 \n",
       "L 76.469844 77.860455 \n",
       "L 81.514884 77.713939 \n",
       "L 86.559924 75.65541 \n",
       "L 91.604964 75.847741 \n",
       "L 96.650004 75.698235 \n",
       "L 101.695044 75.681375 \n",
       "L 106.740084 75.67457 \n",
       "L 111.785124 75.701987 \n",
       "L 116.830164 75.723794 \n",
       "L 121.875203 76.014394 \n",
       "L 126.920243 76.498158 \n",
       "L 131.965283 76.523162 \n",
       "L 137.010323 76.523162 \n",
       "L 142.055363 76.523162 \n",
       "L 147.100403 76.523162 \n",
       "L 152.145443 76.523993 \n",
       "L 157.190483 76.526895 \n",
       "L 162.235523 76.547519 \n",
       "L 167.280563 76.885589 \n",
       "L 172.325603 77.662344 \n",
       "L 177.370643 77.711156 \n",
       "L 182.415683 77.719275 \n",
       "L 187.460723 77.719275 \n",
       "L 192.505763 77.719275 \n",
       "L 197.550803 77.719275 \n",
       "L 202.595843 77.719275 \n",
       "L 207.640883 77.721414 \n",
       "L 212.685923 77.742785 \n",
       "L 217.730963 78.064814 \n",
       "L 222.776003 79.318934 \n",
       "L 227.821043 79.386177 \n",
       "L 232.866083 79.384394 \n",
       "L 237.911123 79.384394 \n",
       "L 242.956163 79.384394 \n",
       "L 248.001203 79.384394 \n",
       "L 253.046243 79.384394 \n",
       "L 258.091283 79.384394 \n",
       "L 263.136323 79.384394 \n",
       "L 268.181363 79.285243 \n",
       "L 273.226403 81.081599 \n",
       "L 278.271443 81.196748 \n",
       "L 283.316483 81.196748 \n",
       "L 288.361522 81.196748 \n",
       "L 293.406562 81.196748 \n",
       "L 298.451602 81.196748 \n",
       "L 303.496642 81.196748 \n",
       "L 308.541682 81.196748 \n",
       "L 313.586722 81.196748 \n",
       "L 318.631762 81.394746 \n",
       "L 323.676802 82.930619 \n",
       "L 328.721842 82.939387 \n",
       "L 333.766882 82.939387 \n",
       "L 338.811922 82.939387 \n",
       "L 343.856962 82.939387 \n",
       "L 348.902002 82.939387 \n",
       "L 353.947042 82.939387 \n",
       "L 358.992082 82.939387 \n",
       "L 364.037122 82.939387 \n",
       "L 369.082162 82.853524 \n",
       "L 374.127202 84.197424 \n",
       "L 379.172242 84.201497 \n",
       "L 384.217282 84.201497 \n",
       "L 389.262322 84.201497 \n",
       "L 394.307362 84.201497 \n",
       "L 399.352402 84.201497 \n",
       "L 404.397442 84.201497 \n",
       "L 409.442482 84.201497 \n",
       "L 414.487522 84.201699 \n",
       "L 419.532562 84.135888 \n",
       "L 424.577602 83.416214 \n",
       "L 429.622642 83.521531 \n",
       "L 434.667682 83.521531 \n",
       "L 439.712722 83.521531 \n",
       "L 444.757762 83.521531 \n",
       "L 449.802802 83.521531 \n",
       "L 454.847841 83.521531 \n",
       "L 459.892881 83.521531 \n",
       "L 464.937921 83.522187 \n",
       "L 469.982961 83.617295 \n",
       "L 475.028001 83.690874 \n",
       "L 480.073041 83.69026 \n",
       "L 485.118081 83.69026 \n",
       "L 490.163121 83.69026 \n",
       "L 495.208161 83.69026 \n",
       "L 500.253201 83.69026 \n",
       "L 505.298241 83.69026 \n",
       "L 510.343281 83.69026 \n",
       "L 515.388321 83.69026 \n",
       "L 520.433361 83.844042 \n",
       "L 525.478401 84.248404 \n",
       "L 530.523441 84.248404 \n",
       "L 535.568481 84.248404 \n",
       "L 540.613521 84.248404 \n",
       "L 545.658561 84.248404 \n",
       "\" style=\"fill:none;stroke:#1f77b4;stroke-linecap:square;stroke-width:1.5;\"/>\n",
       "   </g>\n",
       "   <g id=\"patch_3\">\n",
       "    <path d=\"M 20.5625 110.94856 \n",
       "L 20.5625 22.318125 \n",
       "\" style=\"fill:none;stroke:#000000;stroke-linecap:square;stroke-linejoin:miter;stroke-width:0.8;\"/>\n",
       "   </g>\n",
       "   <g id=\"patch_4\">\n",
       "    <path d=\"M 578.5625 110.94856 \n",
       "L 578.5625 22.318125 \n",
       "\" style=\"fill:none;stroke:#000000;stroke-linecap:square;stroke-linejoin:miter;stroke-width:0.8;\"/>\n",
       "   </g>\n",
       "   <g id=\"patch_5\">\n",
       "    <path d=\"M 20.5625 110.94856 \n",
       "L 578.5625 110.94856 \n",
       "\" style=\"fill:none;stroke:#000000;stroke-linecap:square;stroke-linejoin:miter;stroke-width:0.8;\"/>\n",
       "   </g>\n",
       "   <g id=\"patch_6\">\n",
       "    <path d=\"M 20.5625 22.318125 \n",
       "L 578.5625 22.318125 \n",
       "\" style=\"fill:none;stroke:#000000;stroke-linecap:square;stroke-linejoin:miter;stroke-width:0.8;\"/>\n",
       "   </g>\n",
       "   <g id=\"text_5\">\n",
       "    <!-- Constant -->\n",
       "    <g transform=\"translate(272.589688 16.318125)scale(0.12 -0.12)\">\n",
       "     <defs>\n",
       "      <path d=\"M 4122 4306 \n",
       "L 4122 3641 \n",
       "Q 3803 3938 3442 4084 \n",
       "Q 3081 4231 2675 4231 \n",
       "Q 1875 4231 1450 3742 \n",
       "Q 1025 3253 1025 2328 \n",
       "Q 1025 1406 1450 917 \n",
       "Q 1875 428 2675 428 \n",
       "Q 3081 428 3442 575 \n",
       "Q 3803 722 4122 1019 \n",
       "L 4122 359 \n",
       "Q 3791 134 3420 21 \n",
       "Q 3050 -91 2638 -91 \n",
       "Q 1578 -91 968 557 \n",
       "Q 359 1206 359 2328 \n",
       "Q 359 3453 968 4101 \n",
       "Q 1578 4750 2638 4750 \n",
       "Q 3056 4750 3426 4639 \n",
       "Q 3797 4528 4122 4306 \n",
       "z\n",
       "\" id=\"DejaVuSans-43\" transform=\"scale(0.015625)\"/>\n",
       "      <path d=\"M 1959 3097 \n",
       "Q 1497 3097 1228 2736 \n",
       "Q 959 2375 959 1747 \n",
       "Q 959 1119 1226 758 \n",
       "Q 1494 397 1959 397 \n",
       "Q 2419 397 2687 759 \n",
       "Q 2956 1122 2956 1747 \n",
       "Q 2956 2369 2687 2733 \n",
       "Q 2419 3097 1959 3097 \n",
       "z\n",
       "M 1959 3584 \n",
       "Q 2709 3584 3137 3096 \n",
       "Q 3566 2609 3566 1747 \n",
       "Q 3566 888 3137 398 \n",
       "Q 2709 -91 1959 -91 \n",
       "Q 1206 -91 779 398 \n",
       "Q 353 888 353 1747 \n",
       "Q 353 2609 779 3096 \n",
       "Q 1206 3584 1959 3584 \n",
       "z\n",
       "\" id=\"DejaVuSans-6f\" transform=\"scale(0.015625)\"/>\n",
       "      <path d=\"M 3513 2113 \n",
       "L 3513 0 \n",
       "L 2938 0 \n",
       "L 2938 2094 \n",
       "Q 2938 2591 2744 2837 \n",
       "Q 2550 3084 2163 3084 \n",
       "Q 1697 3084 1428 2787 \n",
       "Q 1159 2491 1159 1978 \n",
       "L 1159 0 \n",
       "L 581 0 \n",
       "L 581 3500 \n",
       "L 1159 3500 \n",
       "L 1159 2956 \n",
       "Q 1366 3272 1645 3428 \n",
       "Q 1925 3584 2291 3584 \n",
       "Q 2894 3584 3203 3211 \n",
       "Q 3513 2838 3513 2113 \n",
       "z\n",
       "\" id=\"DejaVuSans-6e\" transform=\"scale(0.015625)\"/>\n",
       "      <path d=\"M 2834 3397 \n",
       "L 2834 2853 \n",
       "Q 2591 2978 2328 3040 \n",
       "Q 2066 3103 1784 3103 \n",
       "Q 1356 3103 1142 2972 \n",
       "Q 928 2841 928 2578 \n",
       "Q 928 2378 1081 2264 \n",
       "Q 1234 2150 1697 2047 \n",
       "L 1894 2003 \n",
       "Q 2506 1872 2764 1633 \n",
       "Q 3022 1394 3022 966 \n",
       "Q 3022 478 2636 193 \n",
       "Q 2250 -91 1575 -91 \n",
       "Q 1294 -91 989 -36 \n",
       "Q 684 19 347 128 \n",
       "L 347 722 \n",
       "Q 666 556 975 473 \n",
       "Q 1284 391 1588 391 \n",
       "Q 1994 391 2212 530 \n",
       "Q 2431 669 2431 922 \n",
       "Q 2431 1156 2273 1281 \n",
       "Q 2116 1406 1581 1522 \n",
       "L 1381 1569 \n",
       "Q 847 1681 609 1914 \n",
       "Q 372 2147 372 2553 \n",
       "Q 372 3047 722 3315 \n",
       "Q 1072 3584 1716 3584 \n",
       "Q 2034 3584 2315 3537 \n",
       "Q 2597 3491 2834 3397 \n",
       "z\n",
       "\" id=\"DejaVuSans-73\" transform=\"scale(0.015625)\"/>\n",
       "      <path d=\"M 1172 4494 \n",
       "L 1172 3500 \n",
       "L 2356 3500 \n",
       "L 2356 3053 \n",
       "L 1172 3053 \n",
       "L 1172 1153 \n",
       "Q 1172 725 1289 603 \n",
       "Q 1406 481 1766 481 \n",
       "L 2356 481 \n",
       "L 2356 0 \n",
       "L 1766 0 \n",
       "Q 1100 0 847 248 \n",
       "Q 594 497 594 1153 \n",
       "L 594 3053 \n",
       "L 172 3053 \n",
       "L 172 3500 \n",
       "L 594 3500 \n",
       "L 594 4494 \n",
       "L 1172 4494 \n",
       "z\n",
       "\" id=\"DejaVuSans-74\" transform=\"scale(0.015625)\"/>\n",
       "      <path d=\"M 2194 1759 \n",
       "Q 1497 1759 1228 1600 \n",
       "Q 959 1441 959 1056 \n",
       "Q 959 750 1161 570 \n",
       "Q 1363 391 1709 391 \n",
       "Q 2188 391 2477 730 \n",
       "Q 2766 1069 2766 1631 \n",
       "L 2766 1759 \n",
       "L 2194 1759 \n",
       "z\n",
       "M 3341 1997 \n",
       "L 3341 0 \n",
       "L 2766 0 \n",
       "L 2766 531 \n",
       "Q 2569 213 2275 61 \n",
       "Q 1981 -91 1556 -91 \n",
       "Q 1019 -91 701 211 \n",
       "Q 384 513 384 1019 \n",
       "Q 384 1609 779 1909 \n",
       "Q 1175 2209 1959 2209 \n",
       "L 2766 2209 \n",
       "L 2766 2266 \n",
       "Q 2766 2663 2505 2880 \n",
       "Q 2244 3097 1772 3097 \n",
       "Q 1472 3097 1187 3025 \n",
       "Q 903 2953 641 2809 \n",
       "L 641 3341 \n",
       "Q 956 3463 1253 3523 \n",
       "Q 1550 3584 1831 3584 \n",
       "Q 2591 3584 2966 3190 \n",
       "Q 3341 2797 3341 1997 \n",
       "z\n",
       "\" id=\"DejaVuSans-61\" transform=\"scale(0.015625)\"/>\n",
       "     </defs>\n",
       "     <use xlink:href=\"#DejaVuSans-43\"/>\n",
       "     <use x=\"69.824219\" xlink:href=\"#DejaVuSans-6f\"/>\n",
       "     <use x=\"131.005859\" xlink:href=\"#DejaVuSans-6e\"/>\n",
       "     <use x=\"194.384766\" xlink:href=\"#DejaVuSans-73\"/>\n",
       "     <use x=\"246.484375\" xlink:href=\"#DejaVuSans-74\"/>\n",
       "     <use x=\"285.693359\" xlink:href=\"#DejaVuSans-61\"/>\n",
       "     <use x=\"346.972656\" xlink:href=\"#DejaVuSans-6e\"/>\n",
       "     <use x=\"410.351562\" xlink:href=\"#DejaVuSans-74\"/>\n",
       "    </g>\n",
       "   </g>\n",
       "  </g>\n",
       "  <g id=\"axes_2\">\n",
       "   <g id=\"patch_7\">\n",
       "    <path d=\"M 20.5625 217.305082 \n",
       "L 578.5625 217.305082 \n",
       "L 578.5625 128.674647 \n",
       "L 20.5625 128.674647 \n",
       "z\n",
       "\" style=\"fill:#ffffff;\"/>\n",
       "   </g>\n",
       "   <g id=\"PolyCollection_2\">\n",
       "    <path clip-path=\"url(#pd8ce54c713)\" d=\"M 84.665111 136.975236 \n",
       "L 84.665111 162.586322 \n",
       "L 89.344855 176.981139 \n",
       "L 94.0246 182.781082 \n",
       "L 98.704345 189.8919 \n",
       "L 103.384089 189.739322 \n",
       "L 108.063834 189.738394 \n",
       "L 112.743578 189.737787 \n",
       "L 117.423323 189.566426 \n",
       "L 122.103068 185.826554 \n",
       "L 126.782812 176.871829 \n",
       "L 131.462557 176.889298 \n",
       "L 136.142302 176.889298 \n",
       "L 140.822046 176.889298 \n",
       "L 145.501791 176.889298 \n",
       "L 150.181535 176.889298 \n",
       "L 154.86128 176.889298 \n",
       "L 159.541025 177.046948 \n",
       "L 164.220769 179.946789 \n",
       "L 168.900514 186.89319 \n",
       "L 173.580259 187.422956 \n",
       "L 178.260003 187.431701 \n",
       "L 182.939748 187.431701 \n",
       "L 187.619492 187.431701 \n",
       "L 192.299237 187.431701 \n",
       "L 196.978982 187.431701 \n",
       "L 201.658726 187.431701 \n",
       "L 206.338471 187.524856 \n",
       "L 211.018216 198.013222 \n",
       "L 215.69796 203.649745 \n",
       "L 220.377705 203.676799 \n",
       "L 225.057449 203.676799 \n",
       "L 229.737194 203.676799 \n",
       "L 234.416939 203.676799 \n",
       "L 239.096683 203.676799 \n",
       "L 243.776428 203.676799 \n",
       "L 248.456173 203.676799 \n",
       "L 253.135917 203.693793 \n",
       "L 257.815662 204.053291 \n",
       "L 262.495406 205.65955 \n",
       "L 267.175151 205.720188 \n",
       "L 271.854896 205.720188 \n",
       "L 276.53464 205.720188 \n",
       "L 281.214385 205.720188 \n",
       "L 285.89413 205.720188 \n",
       "L 290.573874 205.720188 \n",
       "L 295.253619 205.720188 \n",
       "L 299.933363 205.645694 \n",
       "L 304.613108 205.678863 \n",
       "L 309.292853 205.714021 \n",
       "L 313.972597 205.714021 \n",
       "L 318.652342 205.714021 \n",
       "L 323.332087 205.714021 \n",
       "L 328.011831 205.714021 \n",
       "L 332.691576 205.714021 \n",
       "L 337.37132 205.714021 \n",
       "L 342.051065 205.714021 \n",
       "L 346.73081 206.065312 \n",
       "L 351.410554 205.809108 \n",
       "L 356.090299 206.330684 \n",
       "L 360.770044 206.330684 \n",
       "L 365.449788 206.330684 \n",
       "L 370.129533 206.330684 \n",
       "L 374.809278 206.330684 \n",
       "L 379.489022 206.330684 \n",
       "L 384.168767 206.330684 \n",
       "L 388.848511 206.330684 \n",
       "L 393.528256 206.173811 \n",
       "L 398.208001 205.956958 \n",
       "L 402.887745 205.923532 \n",
       "L 407.56749 205.923532 \n",
       "L 412.247235 205.923532 \n",
       "L 416.926979 205.923532 \n",
       "L 421.606724 205.923532 \n",
       "L 426.286468 205.923532 \n",
       "L 430.966213 205.923532 \n",
       "L 435.645958 205.899001 \n",
       "L 440.325702 205.844306 \n",
       "L 445.005447 206.05262 \n",
       "L 449.685192 206.187657 \n",
       "L 454.364936 206.187657 \n",
       "L 459.044681 206.187657 \n",
       "L 463.724425 206.187657 \n",
       "L 468.40417 206.187657 \n",
       "L 473.083915 206.187657 \n",
       "L 477.763659 206.187657 \n",
       "L 482.443404 206.558416 \n",
       "L 487.123149 206.853013 \n",
       "L 491.802893 207.012878 \n",
       "L 496.482638 208.015504 \n",
       "L 501.162382 208.015504 \n",
       "L 505.842127 207.898614 \n",
       "L 510.521872 207.641696 \n",
       "L 515.201616 207.641696 \n",
       "L 515.201616 177.813673 \n",
       "L 515.201616 177.813673 \n",
       "L 510.521872 177.813673 \n",
       "L 505.842127 177.847361 \n",
       "L 501.162382 179.150403 \n",
       "L 496.482638 179.150403 \n",
       "L 491.802893 186.875549 \n",
       "L 487.123149 187.13565 \n",
       "L 482.443404 189.257741 \n",
       "L 477.763659 189.257741 \n",
       "L 473.083915 189.257741 \n",
       "L 468.40417 189.257741 \n",
       "L 463.724425 189.257741 \n",
       "L 459.044681 189.257741 \n",
       "L 454.364936 189.257741 \n",
       "L 449.685192 189.257741 \n",
       "L 445.005447 189.126414 \n",
       "L 440.325702 188.873984 \n",
       "L 435.645958 188.761056 \n",
       "L 430.966213 189.307789 \n",
       "L 426.286468 189.307789 \n",
       "L 421.606724 189.307789 \n",
       "L 416.926979 189.307789 \n",
       "L 412.247235 189.307789 \n",
       "L 407.56749 189.307789 \n",
       "L 402.887745 189.307789 \n",
       "L 398.208001 192.178894 \n",
       "L 393.528256 192.757962 \n",
       "L 388.848511 193.072378 \n",
       "L 384.168767 193.072378 \n",
       "L 379.489022 193.072378 \n",
       "L 374.809278 193.072378 \n",
       "L 370.129533 193.072378 \n",
       "L 365.449788 193.072378 \n",
       "L 360.770044 193.072378 \n",
       "L 356.090299 193.072378 \n",
       "L 351.410554 193.219055 \n",
       "L 346.73081 193.900114 \n",
       "L 342.051065 193.900114 \n",
       "L 337.37132 193.900114 \n",
       "L 332.691576 193.900114 \n",
       "L 328.011831 193.900114 \n",
       "L 323.332087 193.900114 \n",
       "L 318.652342 193.900114 \n",
       "L 313.972597 193.900114 \n",
       "L 309.292853 193.929572 \n",
       "L 304.613108 193.586732 \n",
       "L 299.933363 193.838403 \n",
       "L 295.253619 193.838403 \n",
       "L 290.573874 193.838403 \n",
       "L 285.89413 193.838403 \n",
       "L 281.214385 193.838403 \n",
       "L 276.53464 193.838403 \n",
       "L 271.854896 193.838403 \n",
       "L 267.175151 193.838403 \n",
       "L 262.495406 193.658882 \n",
       "L 257.815662 192.698134 \n",
       "L 253.135917 193.282604 \n",
       "L 248.456173 193.293657 \n",
       "L 243.776428 193.293657 \n",
       "L 239.096683 193.293657 \n",
       "L 234.416939 193.293657 \n",
       "L 229.737194 193.293657 \n",
       "L 225.057449 193.293657 \n",
       "L 220.377705 193.293657 \n",
       "L 215.69796 183.649817 \n",
       "L 211.018216 172.569752 \n",
       "L 206.338471 172.385125 \n",
       "L 201.658726 172.385125 \n",
       "L 196.978982 172.385125 \n",
       "L 192.299237 172.385125 \n",
       "L 187.619492 172.385125 \n",
       "L 182.939748 172.385125 \n",
       "L 178.260003 172.385125 \n",
       "L 173.580259 171.504976 \n",
       "L 168.900514 155.932307 \n",
       "L 164.220769 150.251358 \n",
       "L 159.541025 149.694604 \n",
       "L 154.86128 149.655769 \n",
       "L 150.181535 149.655769 \n",
       "L 145.501791 149.655769 \n",
       "L 140.822046 149.655769 \n",
       "L 136.142302 149.655769 \n",
       "L 131.462557 149.655769 \n",
       "L 126.782812 149.343742 \n",
       "L 122.103068 129.098366 \n",
       "L 117.423323 119.924483 \n",
       "L 112.743578 119.032142 \n",
       "L 108.063834 119.024402 \n",
       "L 103.384089 119.061329 \n",
       "L 98.704345 119.176014 \n",
       "L 94.0246 121.878128 \n",
       "L 89.344855 123.009397 \n",
       "L 84.665111 136.975236 \n",
       "z\n",
       "\" style=\"fill:#1f77b4;fill-opacity:0.1;\"/>\n",
       "   </g>\n",
       "   <g id=\"matplotlib.axis_3\">\n",
       "    <g id=\"xtick_6\">\n",
       "     <g id=\"line2d_11\">\n",
       "      <g>\n",
       "       <use style=\"stroke:#000000;stroke-width:0.8;\" x=\"67.447904\" xlink:href=\"#m1bb85440d6\" y=\"217.305082\"/>\n",
       "      </g>\n",
       "     </g>\n",
       "    </g>\n",
       "    <g id=\"xtick_7\">\n",
       "     <g id=\"line2d_12\">\n",
       "      <g>\n",
       "       <use style=\"stroke:#000000;stroke-width:0.8;\" x=\"188.885644\" xlink:href=\"#m1bb85440d6\" y=\"217.305082\"/>\n",
       "      </g>\n",
       "     </g>\n",
       "    </g>\n",
       "    <g id=\"xtick_8\">\n",
       "     <g id=\"line2d_13\">\n",
       "      <g>\n",
       "       <use style=\"stroke:#000000;stroke-width:0.8;\" x=\"310.323384\" xlink:href=\"#m1bb85440d6\" y=\"217.305082\"/>\n",
       "      </g>\n",
       "     </g>\n",
       "    </g>\n",
       "    <g id=\"xtick_9\">\n",
       "     <g id=\"line2d_14\">\n",
       "      <g>\n",
       "       <use style=\"stroke:#000000;stroke-width:0.8;\" x=\"431.761124\" xlink:href=\"#m1bb85440d6\" y=\"217.305082\"/>\n",
       "      </g>\n",
       "     </g>\n",
       "    </g>\n",
       "    <g id=\"xtick_10\">\n",
       "     <g id=\"line2d_15\">\n",
       "      <g>\n",
       "       <use style=\"stroke:#000000;stroke-width:0.8;\" x=\"553.198864\" xlink:href=\"#m1bb85440d6\" y=\"217.305082\"/>\n",
       "      </g>\n",
       "     </g>\n",
       "    </g>\n",
       "   </g>\n",
       "   <g id=\"matplotlib.axis_4\">\n",
       "    <g id=\"ytick_5\">\n",
       "     <g id=\"line2d_16\">\n",
       "      <g>\n",
       "       <use style=\"stroke:#000000;stroke-width:0.8;\" x=\"20.5625\" xlink:href=\"#m90b12b6e64\" y=\"217.305082\"/>\n",
       "      </g>\n",
       "     </g>\n",
       "     <g id=\"text_6\">\n",
       "      <!-- 0 -->\n",
       "      <g transform=\"translate(7.2 221.1043)scale(0.1 -0.1)\">\n",
       "       <use xlink:href=\"#DejaVuSans-30\"/>\n",
       "      </g>\n",
       "     </g>\n",
       "    </g>\n",
       "    <g id=\"ytick_6\">\n",
       "     <g id=\"line2d_17\">\n",
       "      <g>\n",
       "       <use style=\"stroke:#000000;stroke-width:0.8;\" x=\"20.5625\" xlink:href=\"#m90b12b6e64\" y=\"187.761603\"/>\n",
       "      </g>\n",
       "     </g>\n",
       "     <g id=\"text_7\">\n",
       "      <!-- 1 -->\n",
       "      <g transform=\"translate(7.2 191.560822)scale(0.1 -0.1)\">\n",
       "       <use xlink:href=\"#DejaVuSans-31\"/>\n",
       "      </g>\n",
       "     </g>\n",
       "    </g>\n",
       "    <g id=\"ytick_7\">\n",
       "     <g id=\"line2d_18\">\n",
       "      <g>\n",
       "       <use style=\"stroke:#000000;stroke-width:0.8;\" x=\"20.5625\" xlink:href=\"#m90b12b6e64\" y=\"158.218125\"/>\n",
       "      </g>\n",
       "     </g>\n",
       "     <g id=\"text_8\">\n",
       "      <!-- 2 -->\n",
       "      <g transform=\"translate(7.2 162.017344)scale(0.1 -0.1)\">\n",
       "       <use xlink:href=\"#DejaVuSans-32\"/>\n",
       "      </g>\n",
       "     </g>\n",
       "    </g>\n",
       "    <g id=\"ytick_8\">\n",
       "     <g id=\"line2d_19\">\n",
       "      <g>\n",
       "       <use style=\"stroke:#000000;stroke-width:0.8;\" x=\"20.5625\" xlink:href=\"#m90b12b6e64\" y=\"128.674647\"/>\n",
       "      </g>\n",
       "     </g>\n",
       "     <g id=\"text_9\">\n",
       "      <!-- 3 -->\n",
       "      <g transform=\"translate(7.2 132.473865)scale(0.1 -0.1)\">\n",
       "       <use xlink:href=\"#DejaVuSans-33\"/>\n",
       "      </g>\n",
       "     </g>\n",
       "    </g>\n",
       "   </g>\n",
       "   <g id=\"LineCollection_2\">\n",
       "    <path clip-path=\"url(#pd8ce54c713)\" d=\"M 67.447904 150.832255 \n",
       "L 188.885644 150.832255 \n",
       "\" style=\"fill:none;stroke:#ff0000;stroke-dasharray:5.55,2.4;stroke-dashoffset:0;stroke-width:1.5;\"/>\n",
       "   </g>\n",
       "   <g id=\"LineCollection_3\">\n",
       "    <path clip-path=\"url(#pd8ce54c713)\" d=\"M 188.885644 195.147473 \n",
       "L 553.198864 195.147473 \n",
       "\" style=\"fill:none;stroke:#ff0000;stroke-dasharray:5.55,2.4;stroke-dashoffset:0;stroke-width:1.5;\"/>\n",
       "   </g>\n",
       "   <g id=\"line2d_20\">\n",
       "    <path clip-path=\"url(#pd8ce54c713)\" d=\"M 84.665111 154.248688 \n",
       "L 89.344855 151.328517 \n",
       "L 94.0246 165.876758 \n",
       "L 98.704345 166.19875 \n",
       "L 103.384089 166.039169 \n",
       "L 108.063834 166.067378 \n",
       "L 112.743578 166.052955 \n",
       "L 117.423323 164.689795 \n",
       "L 122.103068 163.709245 \n",
       "L 126.782812 162.559574 \n",
       "L 131.462557 162.577561 \n",
       "L 136.142302 162.577561 \n",
       "L 140.822046 162.577561 \n",
       "L 145.501791 162.577561 \n",
       "L 150.181535 162.577561 \n",
       "L 154.86128 162.578047 \n",
       "L 159.541025 162.654549 \n",
       "L 164.220769 164.197971 \n",
       "L 168.900514 178.488761 \n",
       "L 173.580259 180.564191 \n",
       "L 178.260003 180.608684 \n",
       "L 182.939748 180.608684 \n",
       "L 187.619492 180.608684 \n",
       "L 192.299237 180.608684 \n",
       "L 196.978982 180.608684 \n",
       "L 201.658726 180.608684 \n",
       "L 206.338471 180.615676 \n",
       "L 211.018216 181.177324 \n",
       "L 215.69796 198.819147 \n",
       "L 220.377705 199.198367 \n",
       "L 225.057449 199.198367 \n",
       "L 229.737194 199.198367 \n",
       "L 234.416939 199.198367 \n",
       "L 239.096683 199.198367 \n",
       "L 243.776428 199.198367 \n",
       "L 248.456173 199.198367 \n",
       "L 253.135917 199.205543 \n",
       "L 257.815662 199.418764 \n",
       "L 262.495406 200.526072 \n",
       "L 267.175151 200.531226 \n",
       "L 271.854896 200.531226 \n",
       "L 276.53464 200.531226 \n",
       "L 281.214385 200.531226 \n",
       "L 285.89413 200.531226 \n",
       "L 290.573874 200.531226 \n",
       "L 295.253619 200.531226 \n",
       "L 299.933363 200.391533 \n",
       "L 304.613108 200.655052 \n",
       "L 309.292853 201.110294 \n",
       "L 313.972597 201.087539 \n",
       "L 318.652342 201.087539 \n",
       "L 323.332087 201.087539 \n",
       "L 328.011831 201.087539 \n",
       "L 332.691576 201.087539 \n",
       "L 337.37132 201.087539 \n",
       "L 342.051065 201.087539 \n",
       "L 346.73081 201.087539 \n",
       "L 351.410554 200.756883 \n",
       "L 356.090299 200.827462 \n",
       "L 360.770044 200.827462 \n",
       "L 365.449788 200.827462 \n",
       "L 370.129533 200.827462 \n",
       "L 374.809278 200.827462 \n",
       "L 379.489022 200.827462 \n",
       "L 384.168767 200.827462 \n",
       "L 388.848511 200.827462 \n",
       "L 393.528256 200.690454 \n",
       "L 398.208001 199.807031 \n",
       "L 402.887745 199.721838 \n",
       "L 407.56749 199.721838 \n",
       "L 412.247235 199.721838 \n",
       "L 416.926979 199.721838 \n",
       "L 421.606724 199.721838 \n",
       "L 426.286468 199.721838 \n",
       "L 430.966213 199.721838 \n",
       "L 435.645958 199.420388 \n",
       "L 440.325702 199.670587 \n",
       "L 445.005447 199.898528 \n",
       "L 449.685192 199.178338 \n",
       "L 454.364936 199.178338 \n",
       "L 459.044681 199.178338 \n",
       "L 463.724425 199.178338 \n",
       "L 468.40417 199.178338 \n",
       "L 473.083915 199.178338 \n",
       "L 477.763659 199.178338 \n",
       "L 482.443404 199.535791 \n",
       "L 487.123149 199.307414 \n",
       "L 491.802893 199.264683 \n",
       "L 496.482638 198.728501 \n",
       "L 501.162382 198.728501 \n",
       "L 505.842127 198.612501 \n",
       "L 510.521872 198.355073 \n",
       "L 515.201616 198.355073 \n",
       "\" style=\"fill:none;stroke:#1f77b4;stroke-linecap:square;stroke-width:1.5;\"/>\n",
       "   </g>\n",
       "   <g id=\"patch_8\">\n",
       "    <path d=\"M 20.5625 217.305082 \n",
       "L 20.5625 128.674647 \n",
       "\" style=\"fill:none;stroke:#000000;stroke-linecap:square;stroke-linejoin:miter;stroke-width:0.8;\"/>\n",
       "   </g>\n",
       "   <g id=\"patch_9\">\n",
       "    <path d=\"M 578.5625 217.305082 \n",
       "L 578.5625 128.674647 \n",
       "\" style=\"fill:none;stroke:#000000;stroke-linecap:square;stroke-linejoin:miter;stroke-width:0.8;\"/>\n",
       "   </g>\n",
       "   <g id=\"patch_10\">\n",
       "    <path d=\"M 20.5625 217.305082 \n",
       "L 578.5625 217.305082 \n",
       "\" style=\"fill:none;stroke:#000000;stroke-linecap:square;stroke-linejoin:miter;stroke-width:0.8;\"/>\n",
       "   </g>\n",
       "   <g id=\"patch_11\">\n",
       "    <path d=\"M 20.5625 128.674647 \n",
       "L 578.5625 128.674647 \n",
       "\" style=\"fill:none;stroke:#000000;stroke-linecap:square;stroke-linejoin:miter;stroke-width:0.8;\"/>\n",
       "   </g>\n",
       "   <g id=\"text_10\">\n",
       "    <!-- Decrease -->\n",
       "    <g transform=\"translate(271.43375 122.674647)scale(0.12 -0.12)\">\n",
       "     <defs>\n",
       "      <path d=\"M 1259 4147 \n",
       "L 1259 519 \n",
       "L 2022 519 \n",
       "Q 2988 519 3436 956 \n",
       "Q 3884 1394 3884 2338 \n",
       "Q 3884 3275 3436 3711 \n",
       "Q 2988 4147 2022 4147 \n",
       "L 1259 4147 \n",
       "z\n",
       "M 628 4666 \n",
       "L 1925 4666 \n",
       "Q 3281 4666 3915 4102 \n",
       "Q 4550 3538 4550 2338 \n",
       "Q 4550 1131 3912 565 \n",
       "Q 3275 0 1925 0 \n",
       "L 628 0 \n",
       "L 628 4666 \n",
       "z\n",
       "\" id=\"DejaVuSans-44\" transform=\"scale(0.015625)\"/>\n",
       "      <path d=\"M 3597 1894 \n",
       "L 3597 1613 \n",
       "L 953 1613 \n",
       "Q 991 1019 1311 708 \n",
       "Q 1631 397 2203 397 \n",
       "Q 2534 397 2845 478 \n",
       "Q 3156 559 3463 722 \n",
       "L 3463 178 \n",
       "Q 3153 47 2828 -22 \n",
       "Q 2503 -91 2169 -91 \n",
       "Q 1331 -91 842 396 \n",
       "Q 353 884 353 1716 \n",
       "Q 353 2575 817 3079 \n",
       "Q 1281 3584 2069 3584 \n",
       "Q 2775 3584 3186 3129 \n",
       "Q 3597 2675 3597 1894 \n",
       "z\n",
       "M 3022 2063 \n",
       "Q 3016 2534 2758 2815 \n",
       "Q 2500 3097 2075 3097 \n",
       "Q 1594 3097 1305 2825 \n",
       "Q 1016 2553 972 2059 \n",
       "L 3022 2063 \n",
       "z\n",
       "\" id=\"DejaVuSans-65\" transform=\"scale(0.015625)\"/>\n",
       "      <path d=\"M 3122 3366 \n",
       "L 3122 2828 \n",
       "Q 2878 2963 2633 3030 \n",
       "Q 2388 3097 2138 3097 \n",
       "Q 1578 3097 1268 2742 \n",
       "Q 959 2388 959 1747 \n",
       "Q 959 1106 1268 751 \n",
       "Q 1578 397 2138 397 \n",
       "Q 2388 397 2633 464 \n",
       "Q 2878 531 3122 666 \n",
       "L 3122 134 \n",
       "Q 2881 22 2623 -34 \n",
       "Q 2366 -91 2075 -91 \n",
       "Q 1284 -91 818 406 \n",
       "Q 353 903 353 1747 \n",
       "Q 353 2603 823 3093 \n",
       "Q 1294 3584 2113 3584 \n",
       "Q 2378 3584 2631 3529 \n",
       "Q 2884 3475 3122 3366 \n",
       "z\n",
       "\" id=\"DejaVuSans-63\" transform=\"scale(0.015625)\"/>\n",
       "      <path d=\"M 2631 2963 \n",
       "Q 2534 3019 2420 3045 \n",
       "Q 2306 3072 2169 3072 \n",
       "Q 1681 3072 1420 2755 \n",
       "Q 1159 2438 1159 1844 \n",
       "L 1159 0 \n",
       "L 581 0 \n",
       "L 581 3500 \n",
       "L 1159 3500 \n",
       "L 1159 2956 \n",
       "Q 1341 3275 1631 3429 \n",
       "Q 1922 3584 2338 3584 \n",
       "Q 2397 3584 2469 3576 \n",
       "Q 2541 3569 2628 3553 \n",
       "L 2631 2963 \n",
       "z\n",
       "\" id=\"DejaVuSans-72\" transform=\"scale(0.015625)\"/>\n",
       "     </defs>\n",
       "     <use xlink:href=\"#DejaVuSans-44\"/>\n",
       "     <use x=\"77.001953\" xlink:href=\"#DejaVuSans-65\"/>\n",
       "     <use x=\"138.525391\" xlink:href=\"#DejaVuSans-63\"/>\n",
       "     <use x=\"193.505859\" xlink:href=\"#DejaVuSans-72\"/>\n",
       "     <use x=\"232.369141\" xlink:href=\"#DejaVuSans-65\"/>\n",
       "     <use x=\"293.892578\" xlink:href=\"#DejaVuSans-61\"/>\n",
       "     <use x=\"355.171875\" xlink:href=\"#DejaVuSans-73\"/>\n",
       "     <use x=\"407.271484\" xlink:href=\"#DejaVuSans-65\"/>\n",
       "    </g>\n",
       "   </g>\n",
       "  </g>\n",
       "  <g id=\"axes_3\">\n",
       "   <g id=\"patch_12\">\n",
       "    <path d=\"M 20.5625 323.661603 \n",
       "L 578.5625 323.661603 \n",
       "L 578.5625 235.031168 \n",
       "L 20.5625 235.031168 \n",
       "z\n",
       "\" style=\"fill:#ffffff;\"/>\n",
       "   </g>\n",
       "   <g id=\"PolyCollection_3\">\n",
       "    <path clip-path=\"url(#pbaee490619)\" d=\"M 45.926136 280.662669 \n",
       "L 45.926136 297.117331 \n",
       "L 50.323418 307.275998 \n",
       "L 54.720699 307.78902 \n",
       "L 59.11798 308.606513 \n",
       "L 63.515261 307.942861 \n",
       "L 67.912542 303.653059 \n",
       "L 72.309824 308.155575 \n",
       "L 76.707105 306.489872 \n",
       "L 81.104386 307.611824 \n",
       "L 85.501667 308.07706 \n",
       "L 89.898948 308.160325 \n",
       "L 94.29623 308.141428 \n",
       "L 98.693511 308.08575 \n",
       "L 103.090792 308.02417 \n",
       "L 107.488073 307.949737 \n",
       "L 111.885354 307.936416 \n",
       "L 116.282635 307.285276 \n",
       "L 120.679917 307.099184 \n",
       "L 125.077198 307.020433 \n",
       "L 129.474479 307.019285 \n",
       "L 133.87176 307.024449 \n",
       "L 138.269041 307.028939 \n",
       "L 142.666323 307.034357 \n",
       "L 147.063604 307.036039 \n",
       "L 151.460885 306.994041 \n",
       "L 155.858166 306.873353 \n",
       "L 160.255447 306.99972 \n",
       "L 164.652729 307.042749 \n",
       "L 169.05001 307.055395 \n",
       "L 173.447291 307.06255 \n",
       "L 177.844572 307.051426 \n",
       "L 182.241853 307.036281 \n",
       "L 186.639135 307.024508 \n",
       "L 191.036416 306.975239 \n",
       "L 195.433697 306.84035 \n",
       "L 199.830978 306.709313 \n",
       "L 204.228259 306.788015 \n",
       "L 208.625541 306.819544 \n",
       "L 213.022822 306.819544 \n",
       "L 217.420103 306.819544 \n",
       "L 221.817384 306.819544 \n",
       "L 226.214665 306.819544 \n",
       "L 230.611947 306.819544 \n",
       "L 235.009228 306.793595 \n",
       "L 239.406509 306.509047 \n",
       "L 243.80379 305.706687 \n",
       "L 248.201071 305.374095 \n",
       "L 252.598353 305.335712 \n",
       "L 256.995634 305.358944 \n",
       "L 261.392915 305.336303 \n",
       "L 265.790196 305.337708 \n",
       "L 270.187477 305.337708 \n",
       "L 274.584758 305.36575 \n",
       "L 278.98204 305.433352 \n",
       "L 283.379321 305.63278 \n",
       "L 287.776602 305.87129 \n",
       "L 292.173883 305.884948 \n",
       "L 296.571164 305.901392 \n",
       "L 300.968446 305.90155 \n",
       "L 305.365727 305.90155 \n",
       "L 309.763008 305.90155 \n",
       "L 314.160289 305.895587 \n",
       "L 318.55757 305.889073 \n",
       "L 322.954852 305.809539 \n",
       "L 327.352133 305.381749 \n",
       "L 331.749414 300.44748 \n",
       "L 336.146695 300.0614 \n",
       "L 340.543976 300.0614 \n",
       "L 344.941258 300.0614 \n",
       "L 349.338539 300.0614 \n",
       "L 353.73582 300.0614 \n",
       "L 358.133101 300.0614 \n",
       "L 362.530382 300.0614 \n",
       "L 366.927664 300.0614 \n",
       "L 371.324945 299.674164 \n",
       "L 375.722226 287.481878 \n",
       "L 380.119507 283.716008 \n",
       "L 384.516788 283.707557 \n",
       "L 388.91407 283.707557 \n",
       "L 393.311351 283.707557 \n",
       "L 397.708632 283.707557 \n",
       "L 402.105913 283.707557 \n",
       "L 406.503194 283.710539 \n",
       "L 410.900476 283.725633 \n",
       "L 415.297757 286.080011 \n",
       "L 419.695038 284.584907 \n",
       "L 424.092319 284.584907 \n",
       "L 428.4896 284.584907 \n",
       "L 432.886882 284.584907 \n",
       "L 437.284163 284.584907 \n",
       "L 441.681444 284.584907 \n",
       "L 446.078725 284.584907 \n",
       "L 450.476006 284.584907 \n",
       "L 454.873287 284.584907 \n",
       "L 459.270569 285.166046 \n",
       "L 463.66785 286.128449 \n",
       "L 468.065131 286.128449 \n",
       "L 472.462412 286.128449 \n",
       "L 476.859693 286.128449 \n",
       "L 481.256975 275.626217 \n",
       "L 481.256975 263.481327 \n",
       "L 481.256975 263.481327 \n",
       "L 476.859693 272.128318 \n",
       "L 472.462412 272.128318 \n",
       "L 468.065131 272.128318 \n",
       "L 463.66785 272.128318 \n",
       "L 459.270569 269.387153 \n",
       "L 454.873287 269.380021 \n",
       "L 450.476006 269.380021 \n",
       "L 446.078725 269.380021 \n",
       "L 441.681444 269.380021 \n",
       "L 437.284163 269.380021 \n",
       "L 432.886882 269.380021 \n",
       "L 428.4896 269.380021 \n",
       "L 424.092319 269.380021 \n",
       "L 419.695038 269.3279 \n",
       "L 415.297757 253.426383 \n",
       "L 410.900476 251.885348 \n",
       "L 406.503194 251.885348 \n",
       "L 402.105913 251.885348 \n",
       "L 397.708632 251.885348 \n",
       "L 393.311351 251.885348 \n",
       "L 388.91407 251.885348 \n",
       "L 384.516788 251.885348 \n",
       "L 380.119507 251.885348 \n",
       "L 375.722226 251.91629 \n",
       "L 371.324945 260.90642 \n",
       "L 366.927664 271.914914 \n",
       "L 362.530382 273.236652 \n",
       "L 358.133101 273.236652 \n",
       "L 353.73582 273.236652 \n",
       "L 349.338539 273.236652 \n",
       "L 344.941258 273.236652 \n",
       "L 340.543976 273.236652 \n",
       "L 336.146695 273.236652 \n",
       "L 331.749414 273.285565 \n",
       "L 327.352133 277.012729 \n",
       "L 322.954852 279.665461 \n",
       "L 318.55757 279.702317 \n",
       "L 314.160289 279.702317 \n",
       "L 309.763008 279.702317 \n",
       "L 305.365727 279.702317 \n",
       "L 300.968446 279.702317 \n",
       "L 296.571164 279.702317 \n",
       "L 292.173883 279.702317 \n",
       "L 287.776602 279.845156 \n",
       "L 283.379321 280.973244 \n",
       "L 278.98204 281.27211 \n",
       "L 274.584758 281.637313 \n",
       "L 270.187477 281.80936 \n",
       "L 265.790196 281.80936 \n",
       "L 261.392915 281.808932 \n",
       "L 256.995634 281.80936 \n",
       "L 252.598353 281.808932 \n",
       "L 248.201071 281.889867 \n",
       "L 243.80379 282.183632 \n",
       "L 239.406509 283.34644 \n",
       "L 235.009228 283.877163 \n",
       "L 230.611947 283.963296 \n",
       "L 226.214665 284.020219 \n",
       "L 221.817384 284.024657 \n",
       "L 217.420103 284.022999 \n",
       "L 213.022822 284.051642 \n",
       "L 208.625541 284.149624 \n",
       "L 204.228259 284.34464 \n",
       "L 199.830978 284.79544 \n",
       "L 195.433697 285.346295 \n",
       "L 191.036416 285.984812 \n",
       "L 186.639135 286.171741 \n",
       "L 182.241853 286.180702 \n",
       "L 177.844572 286.183312 \n",
       "L 173.447291 286.183312 \n",
       "L 169.05001 286.183312 \n",
       "L 164.652729 286.180702 \n",
       "L 160.255447 286.046811 \n",
       "L 155.858166 285.667981 \n",
       "L 151.460885 284.831321 \n",
       "L 147.063604 284.585915 \n",
       "L 142.666323 284.513115 \n",
       "L 138.269041 284.437836 \n",
       "L 133.87176 284.350228 \n",
       "L 129.474479 284.192369 \n",
       "L 125.077198 284.011386 \n",
       "L 120.679917 283.738431 \n",
       "L 116.282635 283.008154 \n",
       "L 111.885354 280.448436 \n",
       "L 107.488073 278.929493 \n",
       "L 103.090792 278.095808 \n",
       "L 98.693511 277.763078 \n",
       "L 94.29623 277.642609 \n",
       "L 89.898948 277.65461 \n",
       "L 85.501667 277.667928 \n",
       "L 81.104386 278.246362 \n",
       "L 76.707105 278.411342 \n",
       "L 72.309824 279.762981 \n",
       "L 67.912542 291.446584 \n",
       "L 63.515261 290.471765 \n",
       "L 59.11798 284.115112 \n",
       "L 54.720699 283.228502 \n",
       "L 50.323418 282.256445 \n",
       "L 45.926136 280.662669 \n",
       "z\n",
       "\" style=\"fill:#1f77b4;fill-opacity:0.1;\"/>\n",
       "   </g>\n",
       "   <g id=\"matplotlib.axis_5\">\n",
       "    <g id=\"xtick_11\">\n",
       "     <g id=\"line2d_21\">\n",
       "      <g>\n",
       "       <use style=\"stroke:#000000;stroke-width:0.8;\" x=\"67.447904\" xlink:href=\"#m1bb85440d6\" y=\"323.661603\"/>\n",
       "      </g>\n",
       "     </g>\n",
       "    </g>\n",
       "    <g id=\"xtick_12\">\n",
       "     <g id=\"line2d_22\">\n",
       "      <g>\n",
       "       <use style=\"stroke:#000000;stroke-width:0.8;\" x=\"188.885644\" xlink:href=\"#m1bb85440d6\" y=\"323.661603\"/>\n",
       "      </g>\n",
       "     </g>\n",
       "    </g>\n",
       "    <g id=\"xtick_13\">\n",
       "     <g id=\"line2d_23\">\n",
       "      <g>\n",
       "       <use style=\"stroke:#000000;stroke-width:0.8;\" x=\"310.323384\" xlink:href=\"#m1bb85440d6\" y=\"323.661603\"/>\n",
       "      </g>\n",
       "     </g>\n",
       "    </g>\n",
       "    <g id=\"xtick_14\">\n",
       "     <g id=\"line2d_24\">\n",
       "      <g>\n",
       "       <use style=\"stroke:#000000;stroke-width:0.8;\" x=\"431.761124\" xlink:href=\"#m1bb85440d6\" y=\"323.661603\"/>\n",
       "      </g>\n",
       "     </g>\n",
       "    </g>\n",
       "    <g id=\"xtick_15\">\n",
       "     <g id=\"line2d_25\">\n",
       "      <g>\n",
       "       <use style=\"stroke:#000000;stroke-width:0.8;\" x=\"553.198864\" xlink:href=\"#m1bb85440d6\" y=\"323.661603\"/>\n",
       "      </g>\n",
       "     </g>\n",
       "    </g>\n",
       "   </g>\n",
       "   <g id=\"matplotlib.axis_6\">\n",
       "    <g id=\"ytick_9\">\n",
       "     <g id=\"line2d_26\">\n",
       "      <g>\n",
       "       <use style=\"stroke:#000000;stroke-width:0.8;\" x=\"20.5625\" xlink:href=\"#m90b12b6e64\" y=\"323.661603\"/>\n",
       "      </g>\n",
       "     </g>\n",
       "     <g id=\"text_11\">\n",
       "      <!-- 0 -->\n",
       "      <g transform=\"translate(7.2 327.460822)scale(0.1 -0.1)\">\n",
       "       <use xlink:href=\"#DejaVuSans-30\"/>\n",
       "      </g>\n",
       "     </g>\n",
       "    </g>\n",
       "    <g id=\"ytick_10\">\n",
       "     <g id=\"line2d_27\">\n",
       "      <g>\n",
       "       <use style=\"stroke:#000000;stroke-width:0.8;\" x=\"20.5625\" xlink:href=\"#m90b12b6e64\" y=\"294.118125\"/>\n",
       "      </g>\n",
       "     </g>\n",
       "     <g id=\"text_12\">\n",
       "      <!-- 1 -->\n",
       "      <g transform=\"translate(7.2 297.917344)scale(0.1 -0.1)\">\n",
       "       <use xlink:href=\"#DejaVuSans-31\"/>\n",
       "      </g>\n",
       "     </g>\n",
       "    </g>\n",
       "    <g id=\"ytick_11\">\n",
       "     <g id=\"line2d_28\">\n",
       "      <g>\n",
       "       <use style=\"stroke:#000000;stroke-width:0.8;\" x=\"20.5625\" xlink:href=\"#m90b12b6e64\" y=\"264.574647\"/>\n",
       "      </g>\n",
       "     </g>\n",
       "     <g id=\"text_13\">\n",
       "      <!-- 2 -->\n",
       "      <g transform=\"translate(7.2 268.373865)scale(0.1 -0.1)\">\n",
       "       <use xlink:href=\"#DejaVuSans-32\"/>\n",
       "      </g>\n",
       "     </g>\n",
       "    </g>\n",
       "    <g id=\"ytick_12\">\n",
       "     <g id=\"line2d_29\">\n",
       "      <g>\n",
       "       <use style=\"stroke:#000000;stroke-width:0.8;\" x=\"20.5625\" xlink:href=\"#m90b12b6e64\" y=\"235.031168\"/>\n",
       "      </g>\n",
       "     </g>\n",
       "     <g id=\"text_14\">\n",
       "      <!-- 3 -->\n",
       "      <g transform=\"translate(7.2 238.830387)scale(0.1 -0.1)\">\n",
       "       <use xlink:href=\"#DejaVuSans-33\"/>\n",
       "      </g>\n",
       "     </g>\n",
       "    </g>\n",
       "   </g>\n",
       "   <g id=\"LineCollection_4\">\n",
       "    <path clip-path=\"url(#pbaee490619)\" d=\"M 67.447904 294.118125 \n",
       "L 431.761124 294.118125 \n",
       "\" style=\"fill:none;stroke:#ff0000;stroke-dasharray:5.55,2.4;stroke-dashoffset:0;stroke-width:1.5;\"/>\n",
       "   </g>\n",
       "   <g id=\"LineCollection_5\">\n",
       "    <path clip-path=\"url(#pbaee490619)\" d=\"M 431.761124 249.802908 \n",
       "L 553.198864 249.802908 \n",
       "\" style=\"fill:none;stroke:#ff0000;stroke-dasharray:5.55,2.4;stroke-dashoffset:0;stroke-width:1.5;\"/>\n",
       "   </g>\n",
       "   <g id=\"line2d_30\">\n",
       "    <path clip-path=\"url(#pbaee490619)\" d=\"M 45.926136 292.056869 \n",
       "L 50.323418 297.750065 \n",
       "L 54.720699 298.844765 \n",
       "L 59.11798 300.158603 \n",
       "L 63.515261 301.773568 \n",
       "L 67.912542 298.625655 \n",
       "L 72.309824 294.30791 \n",
       "L 76.707105 296.505079 \n",
       "L 81.104386 296.027051 \n",
       "L 85.501667 297.19905 \n",
       "L 89.898948 297.330526 \n",
       "L 94.29623 297.325696 \n",
       "L 98.693511 297.298845 \n",
       "L 103.090792 297.256525 \n",
       "L 107.488073 297.107597 \n",
       "L 111.885354 297.981676 \n",
       "L 116.282635 299.460182 \n",
       "L 120.679917 299.626286 \n",
       "L 125.077198 299.626286 \n",
       "L 129.474479 299.626286 \n",
       "L 133.87176 299.626286 \n",
       "L 138.269041 299.626286 \n",
       "L 142.666323 299.626286 \n",
       "L 147.063604 299.611603 \n",
       "L 151.460885 299.506877 \n",
       "L 155.858166 298.731434 \n",
       "L 160.255447 299.010216 \n",
       "L 164.652729 299.113557 \n",
       "L 169.05001 299.157675 \n",
       "L 173.447291 299.164729 \n",
       "L 177.844572 299.136358 \n",
       "L 182.241853 299.109489 \n",
       "L 186.639135 299.035247 \n",
       "L 191.036416 298.930811 \n",
       "L 195.433697 298.732442 \n",
       "L 199.830978 298.232311 \n",
       "L 204.228259 298.458376 \n",
       "L 208.625541 298.510502 \n",
       "L 213.022822 298.509265 \n",
       "L 217.420103 298.509265 \n",
       "L 221.817384 298.509265 \n",
       "L 226.214665 298.509265 \n",
       "L 230.611947 298.505799 \n",
       "L 235.009228 298.460445 \n",
       "L 239.406509 298.027773 \n",
       "L 243.80379 296.707425 \n",
       "L 248.201071 296.637784 \n",
       "L 252.598353 296.636962 \n",
       "L 256.995634 296.636962 \n",
       "L 261.392915 296.636962 \n",
       "L 265.790196 296.636962 \n",
       "L 270.187477 296.636962 \n",
       "L 274.584758 296.636962 \n",
       "L 278.98204 296.627553 \n",
       "L 283.379321 296.552427 \n",
       "L 287.776602 295.248004 \n",
       "L 292.173883 295.165703 \n",
       "L 296.571164 295.008611 \n",
       "L 300.968446 295.008611 \n",
       "L 305.365727 295.008611 \n",
       "L 309.763008 295.008611 \n",
       "L 314.160289 295.008611 \n",
       "L 318.55757 295.008611 \n",
       "L 322.954852 294.985318 \n",
       "L 327.352133 293.686071 \n",
       "L 331.749414 289.685368 \n",
       "L 336.146695 289.121897 \n",
       "L 340.543976 289.121897 \n",
       "L 344.941258 289.121897 \n",
       "L 349.338539 289.121897 \n",
       "L 353.73582 289.121897 \n",
       "L 358.133101 289.121897 \n",
       "L 362.530382 289.121897 \n",
       "L 366.927664 289.121897 \n",
       "L 371.324945 287.236931 \n",
       "L 375.722226 271.543643 \n",
       "L 380.119507 271.540978 \n",
       "L 384.516788 271.540978 \n",
       "L 388.91407 271.540978 \n",
       "L 393.311351 271.540978 \n",
       "L 397.708632 271.540978 \n",
       "L 402.105913 271.540978 \n",
       "L 406.503194 271.540978 \n",
       "L 410.900476 271.540978 \n",
       "L 415.297757 272.546739 \n",
       "L 419.695038 277.632064 \n",
       "L 424.092319 277.634228 \n",
       "L 428.4896 277.634228 \n",
       "L 432.886882 277.634228 \n",
       "L 437.284163 277.634228 \n",
       "L 441.681444 277.634228 \n",
       "L 446.078725 277.634228 \n",
       "L 450.476006 277.634228 \n",
       "L 454.873287 277.634228 \n",
       "L 459.270569 278.152195 \n",
       "L 463.66785 280.042518 \n",
       "L 468.065131 280.042518 \n",
       "L 472.462412 280.042518 \n",
       "L 476.859693 280.042518 \n",
       "L 481.256975 269.990356 \n",
       "\" style=\"fill:none;stroke:#1f77b4;stroke-linecap:square;stroke-width:1.5;\"/>\n",
       "   </g>\n",
       "   <g id=\"patch_13\">\n",
       "    <path d=\"M 20.5625 323.661603 \n",
       "L 20.5625 235.031168 \n",
       "\" style=\"fill:none;stroke:#000000;stroke-linecap:square;stroke-linejoin:miter;stroke-width:0.8;\"/>\n",
       "   </g>\n",
       "   <g id=\"patch_14\">\n",
       "    <path d=\"M 578.5625 323.661603 \n",
       "L 578.5625 235.031168 \n",
       "\" style=\"fill:none;stroke:#000000;stroke-linecap:square;stroke-linejoin:miter;stroke-width:0.8;\"/>\n",
       "   </g>\n",
       "   <g id=\"patch_15\">\n",
       "    <path d=\"M 20.5625 323.661603 \n",
       "L 578.5625 323.661603 \n",
       "\" style=\"fill:none;stroke:#000000;stroke-linecap:square;stroke-linejoin:miter;stroke-width:0.8;\"/>\n",
       "   </g>\n",
       "   <g id=\"patch_16\">\n",
       "    <path d=\"M 20.5625 235.031168 \n",
       "L 578.5625 235.031168 \n",
       "\" style=\"fill:none;stroke:#000000;stroke-linecap:square;stroke-linejoin:miter;stroke-width:0.8;\"/>\n",
       "   </g>\n",
       "   <g id=\"text_15\">\n",
       "    <!-- Increase -->\n",
       "    <g transform=\"translate(274.173125 229.031168)scale(0.12 -0.12)\">\n",
       "     <defs>\n",
       "      <path d=\"M 628 4666 \n",
       "L 1259 4666 \n",
       "L 1259 0 \n",
       "L 628 0 \n",
       "L 628 4666 \n",
       "z\n",
       "\" id=\"DejaVuSans-49\" transform=\"scale(0.015625)\"/>\n",
       "     </defs>\n",
       "     <use xlink:href=\"#DejaVuSans-49\"/>\n",
       "     <use x=\"29.492188\" xlink:href=\"#DejaVuSans-6e\"/>\n",
       "     <use x=\"92.871094\" xlink:href=\"#DejaVuSans-63\"/>\n",
       "     <use x=\"147.851562\" xlink:href=\"#DejaVuSans-72\"/>\n",
       "     <use x=\"186.714844\" xlink:href=\"#DejaVuSans-65\"/>\n",
       "     <use x=\"248.238281\" xlink:href=\"#DejaVuSans-61\"/>\n",
       "     <use x=\"309.517578\" xlink:href=\"#DejaVuSans-73\"/>\n",
       "     <use x=\"361.617188\" xlink:href=\"#DejaVuSans-65\"/>\n",
       "    </g>\n",
       "   </g>\n",
       "  </g>\n",
       "  <g id=\"axes_4\">\n",
       "   <g id=\"patch_17\">\n",
       "    <path d=\"M 20.5625 430.018125 \n",
       "L 578.5625 430.018125 \n",
       "L 578.5625 341.38769 \n",
       "L 20.5625 341.38769 \n",
       "z\n",
       "\" style=\"fill:#ffffff;\"/>\n",
       "   </g>\n",
       "   <g id=\"PolyCollection_4\">\n",
       "    <path clip-path=\"url(#pe91304417a)\" d=\"M 46.792438 384.925458 \n",
       "L 46.792438 407.63226 \n",
       "L 51.88013 405.682696 \n",
       "L 56.967823 406.502898 \n",
       "L 62.055515 411.567288 \n",
       "L 67.143208 411.66151 \n",
       "L 72.2309 411.012228 \n",
       "L 77.318593 406.354236 \n",
       "L 82.406286 406.458685 \n",
       "L 87.493978 411.224786 \n",
       "L 92.581671 410.200394 \n",
       "L 97.669363 410.748116 \n",
       "L 102.757056 410.70256 \n",
       "L 107.844748 410.708267 \n",
       "L 112.932441 410.712489 \n",
       "L 118.020133 410.65522 \n",
       "L 123.107826 409.925109 \n",
       "L 128.195518 409.588943 \n",
       "L 133.283211 409.550215 \n",
       "L 138.370904 409.550215 \n",
       "L 143.458596 409.550215 \n",
       "L 148.546289 409.550215 \n",
       "L 153.633981 409.550215 \n",
       "L 158.721674 409.550215 \n",
       "L 163.809366 409.553289 \n",
       "L 168.897059 411.040487 \n",
       "L 173.984751 412.654411 \n",
       "L 179.072444 413.161044 \n",
       "L 184.160136 413.161044 \n",
       "L 189.247829 413.161044 \n",
       "L 194.335522 413.161044 \n",
       "L 199.423214 413.161044 \n",
       "L 204.510907 413.161044 \n",
       "L 209.598599 413.161044 \n",
       "L 214.686292 413.161044 \n",
       "L 219.773984 413.136371 \n",
       "L 224.861677 413.097154 \n",
       "L 229.949369 412.652966 \n",
       "L 235.037062 412.652966 \n",
       "L 240.124755 412.652966 \n",
       "L 245.212447 412.652966 \n",
       "L 250.30014 412.652966 \n",
       "L 255.387832 412.652966 \n",
       "L 260.475525 412.652966 \n",
       "L 265.563217 412.652966 \n",
       "L 270.65091 412.568407 \n",
       "L 275.738602 411.161084 \n",
       "L 280.826295 410.832143 \n",
       "L 285.913987 410.587453 \n",
       "L 291.00168 410.581316 \n",
       "L 296.089373 410.581316 \n",
       "L 301.177065 410.581316 \n",
       "L 306.264758 410.578179 \n",
       "L 311.35245 410.578179 \n",
       "L 316.440143 410.506783 \n",
       "L 321.527835 409.945837 \n",
       "L 326.615528 400.844376 \n",
       "L 331.70322 397.172636 \n",
       "L 336.790913 397.172636 \n",
       "L 341.878605 397.172636 \n",
       "L 346.966298 397.172636 \n",
       "L 352.053991 397.172636 \n",
       "L 357.141683 397.172636 \n",
       "L 362.229376 397.172636 \n",
       "L 367.317068 397.172434 \n",
       "L 372.404761 398.9183 \n",
       "L 377.492453 398.139149 \n",
       "L 382.580146 398.118453 \n",
       "L 387.667838 398.118453 \n",
       "L 392.755531 398.118453 \n",
       "L 397.843223 398.118453 \n",
       "L 402.930916 398.118453 \n",
       "L 408.018609 398.118453 \n",
       "L 413.106301 398.118453 \n",
       "L 418.193994 398.118453 \n",
       "L 423.281686 412.209828 \n",
       "L 428.369379 414.583535 \n",
       "L 433.457071 414.591243 \n",
       "L 438.544764 414.591243 \n",
       "L 443.632456 414.591243 \n",
       "L 448.720149 414.591243 \n",
       "L 453.807841 414.591243 \n",
       "L 458.895534 414.591243 \n",
       "L 463.983227 414.591243 \n",
       "L 469.070919 414.59454 \n",
       "L 474.158612 416.571185 \n",
       "L 479.246304 417.324133 \n",
       "L 484.333997 417.324133 \n",
       "L 489.421689 417.324133 \n",
       "L 494.509382 417.324133 \n",
       "L 499.597074 417.324133 \n",
       "L 504.684767 417.324133 \n",
       "L 509.77246 417.324133 \n",
       "L 514.860152 417.324133 \n",
       "L 519.947845 417.324133 \n",
       "L 525.035537 418.291138 \n",
       "L 530.12323 419.011634 \n",
       "L 535.210922 419.011634 \n",
       "L 540.298615 419.011634 \n",
       "L 545.386307 419.011634 \n",
       "L 550.474 419.399354 \n",
       "L 550.474 402.739543 \n",
       "L 550.474 402.739543 \n",
       "L 545.386307 402.246443 \n",
       "L 540.298615 402.246443 \n",
       "L 535.210922 402.246443 \n",
       "L 530.12323 402.246443 \n",
       "L 525.035537 407.647542 \n",
       "L 519.947845 409.545906 \n",
       "L 514.860152 409.545906 \n",
       "L 509.77246 409.545906 \n",
       "L 504.684767 409.545906 \n",
       "L 499.597074 409.545906 \n",
       "L 494.509382 409.545906 \n",
       "L 489.421689 409.545906 \n",
       "L 484.333997 409.545906 \n",
       "L 479.246304 409.545906 \n",
       "L 474.158612 405.439911 \n",
       "L 469.070919 403.984939 \n",
       "L 463.983227 403.984939 \n",
       "L 458.895534 403.984939 \n",
       "L 453.807841 403.984939 \n",
       "L 448.720149 403.984939 \n",
       "L 443.632456 403.984939 \n",
       "L 438.544764 403.984939 \n",
       "L 433.457071 403.984939 \n",
       "L 428.369379 402.052664 \n",
       "L 423.281686 383.897826 \n",
       "L 418.193994 383.405903 \n",
       "L 413.106301 383.404139 \n",
       "L 408.018609 383.404139 \n",
       "L 402.930916 383.404139 \n",
       "L 397.843223 383.404139 \n",
       "L 392.755531 383.404139 \n",
       "L 387.667838 383.404139 \n",
       "L 382.580146 383.401712 \n",
       "L 377.492453 383.125607 \n",
       "L 372.404761 376.493769 \n",
       "L 367.317068 376.148106 \n",
       "L 362.229376 376.148106 \n",
       "L 357.141683 376.148106 \n",
       "L 352.053991 376.148106 \n",
       "L 346.966298 376.148106 \n",
       "L 341.878605 376.148106 \n",
       "L 336.790913 376.148106 \n",
       "L 331.70322 376.148106 \n",
       "L 326.615528 376.106551 \n",
       "L 321.527835 379.435252 \n",
       "L 316.440143 382.590575 \n",
       "L 311.35245 382.590575 \n",
       "L 306.264758 382.590575 \n",
       "L 301.177065 382.590575 \n",
       "L 296.089373 382.590575 \n",
       "L 291.00168 382.590575 \n",
       "L 285.913987 382.590575 \n",
       "L 280.826295 382.590575 \n",
       "L 275.738602 382.846655 \n",
       "L 270.65091 387.271208 \n",
       "L 265.563217 388.98935 \n",
       "L 260.475525 390.132053 \n",
       "L 255.387832 390.337144 \n",
       "L 250.30014 390.362623 \n",
       "L 245.212447 390.364314 \n",
       "L 240.124755 390.364314 \n",
       "L 235.037062 390.337144 \n",
       "L 229.949369 390.168731 \n",
       "L 224.861677 389.835622 \n",
       "L 219.773984 389.72831 \n",
       "L 214.686292 389.34619 \n",
       "L 209.598599 389.220463 \n",
       "L 204.510907 389.195995 \n",
       "L 199.423214 389.195995 \n",
       "L 194.335522 389.220626 \n",
       "L 189.247829 389.195995 \n",
       "L 184.160136 389.046604 \n",
       "L 179.072444 388.5891 \n",
       "L 173.984751 386.9194 \n",
       "L 168.897059 384.894357 \n",
       "L 163.809366 384.459472 \n",
       "L 158.721674 384.459472 \n",
       "L 153.633981 384.459472 \n",
       "L 148.546289 384.459472 \n",
       "L 143.458596 384.459472 \n",
       "L 138.370904 384.459472 \n",
       "L 133.283211 384.459472 \n",
       "L 128.195518 383.756838 \n",
       "L 123.107826 374.414817 \n",
       "L 118.020133 369.111909 \n",
       "L 112.932441 368.169172 \n",
       "L 107.844748 368.147681 \n",
       "L 102.757056 368.273775 \n",
       "L 97.669363 368.255062 \n",
       "L 92.581671 368.11707 \n",
       "L 87.493978 369.199773 \n",
       "L 82.406286 379.485147 \n",
       "L 77.318593 380.682553 \n",
       "L 72.2309 374.014993 \n",
       "L 67.143208 379.978506 \n",
       "L 62.055515 391.223024 \n",
       "L 56.967823 392.252459 \n",
       "L 51.88013 394.512798 \n",
       "L 46.792438 384.925458 \n",
       "z\n",
       "\" style=\"fill:#1f77b4;fill-opacity:0.1;\"/>\n",
       "   </g>\n",
       "   <g id=\"matplotlib.axis_7\">\n",
       "    <g id=\"xtick_16\">\n",
       "     <g id=\"line2d_31\">\n",
       "      <g>\n",
       "       <use style=\"stroke:#000000;stroke-width:0.8;\" x=\"67.447904\" xlink:href=\"#m1bb85440d6\" y=\"430.018125\"/>\n",
       "      </g>\n",
       "     </g>\n",
       "     <g id=\"text_16\">\n",
       "      <!-- 0 -->\n",
       "      <g transform=\"translate(64.266654 444.616563)scale(0.1 -0.1)\">\n",
       "       <use xlink:href=\"#DejaVuSans-30\"/>\n",
       "      </g>\n",
       "     </g>\n",
       "    </g>\n",
       "    <g id=\"xtick_17\">\n",
       "     <g id=\"line2d_32\">\n",
       "      <g>\n",
       "       <use style=\"stroke:#000000;stroke-width:0.8;\" x=\"188.885644\" xlink:href=\"#m1bb85440d6\" y=\"430.018125\"/>\n",
       "      </g>\n",
       "     </g>\n",
       "     <g id=\"text_17\">\n",
       "      <!-- 1 -->\n",
       "      <g transform=\"translate(185.704394 444.616563)scale(0.1 -0.1)\">\n",
       "       <use xlink:href=\"#DejaVuSans-31\"/>\n",
       "      </g>\n",
       "     </g>\n",
       "    </g>\n",
       "    <g id=\"xtick_18\">\n",
       "     <g id=\"line2d_33\">\n",
       "      <g>\n",
       "       <use style=\"stroke:#000000;stroke-width:0.8;\" x=\"310.323384\" xlink:href=\"#m1bb85440d6\" y=\"430.018125\"/>\n",
       "      </g>\n",
       "     </g>\n",
       "     <g id=\"text_18\">\n",
       "      <!-- 2 -->\n",
       "      <g transform=\"translate(307.142134 444.616563)scale(0.1 -0.1)\">\n",
       "       <use xlink:href=\"#DejaVuSans-32\"/>\n",
       "      </g>\n",
       "     </g>\n",
       "    </g>\n",
       "    <g id=\"xtick_19\">\n",
       "     <g id=\"line2d_34\">\n",
       "      <g>\n",
       "       <use style=\"stroke:#000000;stroke-width:0.8;\" x=\"431.761124\" xlink:href=\"#m1bb85440d6\" y=\"430.018125\"/>\n",
       "      </g>\n",
       "     </g>\n",
       "     <g id=\"text_19\">\n",
       "      <!-- 3 -->\n",
       "      <g transform=\"translate(428.579874 444.616563)scale(0.1 -0.1)\">\n",
       "       <use xlink:href=\"#DejaVuSans-33\"/>\n",
       "      </g>\n",
       "     </g>\n",
       "    </g>\n",
       "    <g id=\"xtick_20\">\n",
       "     <g id=\"line2d_35\">\n",
       "      <g>\n",
       "       <use style=\"stroke:#000000;stroke-width:0.8;\" x=\"553.198864\" xlink:href=\"#m1bb85440d6\" y=\"430.018125\"/>\n",
       "      </g>\n",
       "     </g>\n",
       "     <g id=\"text_20\">\n",
       "      <!-- 4 -->\n",
       "      <g transform=\"translate(550.017614 444.616563)scale(0.1 -0.1)\">\n",
       "       <defs>\n",
       "        <path d=\"M 2419 4116 \n",
       "L 825 1625 \n",
       "L 2419 1625 \n",
       "L 2419 4116 \n",
       "z\n",
       "M 2253 4666 \n",
       "L 3047 4666 \n",
       "L 3047 1625 \n",
       "L 3713 1625 \n",
       "L 3713 1100 \n",
       "L 3047 1100 \n",
       "L 3047 0 \n",
       "L 2419 0 \n",
       "L 2419 1100 \n",
       "L 313 1100 \n",
       "L 313 1709 \n",
       "L 2253 4666 \n",
       "z\n",
       "\" id=\"DejaVuSans-34\" transform=\"scale(0.015625)\"/>\n",
       "       </defs>\n",
       "       <use xlink:href=\"#DejaVuSans-34\"/>\n",
       "      </g>\n",
       "     </g>\n",
       "    </g>\n",
       "    <g id=\"text_21\">\n",
       "     <!-- Time -->\n",
       "     <g transform=\"translate(287.328906 458.294688)scale(0.1 -0.1)\">\n",
       "      <defs>\n",
       "       <path d=\"M -19 4666 \n",
       "L 3928 4666 \n",
       "L 3928 4134 \n",
       "L 2272 4134 \n",
       "L 2272 0 \n",
       "L 1638 0 \n",
       "L 1638 4134 \n",
       "L -19 4134 \n",
       "L -19 4666 \n",
       "z\n",
       "\" id=\"DejaVuSans-54\" transform=\"scale(0.015625)\"/>\n",
       "       <path d=\"M 603 3500 \n",
       "L 1178 3500 \n",
       "L 1178 0 \n",
       "L 603 0 \n",
       "L 603 3500 \n",
       "z\n",
       "M 603 4863 \n",
       "L 1178 4863 \n",
       "L 1178 4134 \n",
       "L 603 4134 \n",
       "L 603 4863 \n",
       "z\n",
       "\" id=\"DejaVuSans-69\" transform=\"scale(0.015625)\"/>\n",
       "       <path d=\"M 3328 2828 \n",
       "Q 3544 3216 3844 3400 \n",
       "Q 4144 3584 4550 3584 \n",
       "Q 5097 3584 5394 3201 \n",
       "Q 5691 2819 5691 2113 \n",
       "L 5691 0 \n",
       "L 5113 0 \n",
       "L 5113 2094 \n",
       "Q 5113 2597 4934 2840 \n",
       "Q 4756 3084 4391 3084 \n",
       "Q 3944 3084 3684 2787 \n",
       "Q 3425 2491 3425 1978 \n",
       "L 3425 0 \n",
       "L 2847 0 \n",
       "L 2847 2094 \n",
       "Q 2847 2600 2669 2842 \n",
       "Q 2491 3084 2119 3084 \n",
       "Q 1678 3084 1418 2786 \n",
       "Q 1159 2488 1159 1978 \n",
       "L 1159 0 \n",
       "L 581 0 \n",
       "L 581 3500 \n",
       "L 1159 3500 \n",
       "L 1159 2956 \n",
       "Q 1356 3278 1631 3431 \n",
       "Q 1906 3584 2284 3584 \n",
       "Q 2666 3584 2933 3390 \n",
       "Q 3200 3197 3328 2828 \n",
       "z\n",
       "\" id=\"DejaVuSans-6d\" transform=\"scale(0.015625)\"/>\n",
       "      </defs>\n",
       "      <use xlink:href=\"#DejaVuSans-54\"/>\n",
       "      <use x=\"57.958984\" xlink:href=\"#DejaVuSans-69\"/>\n",
       "      <use x=\"85.742188\" xlink:href=\"#DejaVuSans-6d\"/>\n",
       "      <use x=\"183.154297\" xlink:href=\"#DejaVuSans-65\"/>\n",
       "     </g>\n",
       "    </g>\n",
       "   </g>\n",
       "   <g id=\"matplotlib.axis_8\">\n",
       "    <g id=\"ytick_13\">\n",
       "     <g id=\"line2d_36\">\n",
       "      <g>\n",
       "       <use style=\"stroke:#000000;stroke-width:0.8;\" x=\"20.5625\" xlink:href=\"#m90b12b6e64\" y=\"430.018125\"/>\n",
       "      </g>\n",
       "     </g>\n",
       "     <g id=\"text_22\">\n",
       "      <!-- 0 -->\n",
       "      <g transform=\"translate(7.2 433.817344)scale(0.1 -0.1)\">\n",
       "       <use xlink:href=\"#DejaVuSans-30\"/>\n",
       "      </g>\n",
       "     </g>\n",
       "    </g>\n",
       "    <g id=\"ytick_14\">\n",
       "     <g id=\"line2d_37\">\n",
       "      <g>\n",
       "       <use style=\"stroke:#000000;stroke-width:0.8;\" x=\"20.5625\" xlink:href=\"#m90b12b6e64\" y=\"400.474647\"/>\n",
       "      </g>\n",
       "     </g>\n",
       "     <g id=\"text_23\">\n",
       "      <!-- 1 -->\n",
       "      <g transform=\"translate(7.2 404.273865)scale(0.1 -0.1)\">\n",
       "       <use xlink:href=\"#DejaVuSans-31\"/>\n",
       "      </g>\n",
       "     </g>\n",
       "    </g>\n",
       "    <g id=\"ytick_15\">\n",
       "     <g id=\"line2d_38\">\n",
       "      <g>\n",
       "       <use style=\"stroke:#000000;stroke-width:0.8;\" x=\"20.5625\" xlink:href=\"#m90b12b6e64\" y=\"370.931168\"/>\n",
       "      </g>\n",
       "     </g>\n",
       "     <g id=\"text_24\">\n",
       "      <!-- 2 -->\n",
       "      <g transform=\"translate(7.2 374.730387)scale(0.1 -0.1)\">\n",
       "       <use xlink:href=\"#DejaVuSans-32\"/>\n",
       "      </g>\n",
       "     </g>\n",
       "    </g>\n",
       "    <g id=\"ytick_16\">\n",
       "     <g id=\"line2d_39\">\n",
       "      <g>\n",
       "       <use style=\"stroke:#000000;stroke-width:0.8;\" x=\"20.5625\" xlink:href=\"#m90b12b6e64\" y=\"341.38769\"/>\n",
       "      </g>\n",
       "     </g>\n",
       "     <g id=\"text_25\">\n",
       "      <!-- 3 -->\n",
       "      <g transform=\"translate(7.2 345.186909)scale(0.1 -0.1)\">\n",
       "       <use xlink:href=\"#DejaVuSans-33\"/>\n",
       "      </g>\n",
       "     </g>\n",
       "    </g>\n",
       "   </g>\n",
       "   <g id=\"LineCollection_6\">\n",
       "    <path clip-path=\"url(#pe91304417a)\" d=\"M 67.447904 370.931168 \n",
       "L 188.885644 370.931168 \n",
       "\" style=\"fill:none;stroke:#ff0000;stroke-dasharray:5.55,2.4;stroke-dashoffset:0;stroke-width:1.5;\"/>\n",
       "   </g>\n",
       "   <g id=\"LineCollection_7\">\n",
       "    <path clip-path=\"url(#pe91304417a)\" d=\"M 188.885644 407.860516 \n",
       "L 310.323384 407.860516 \n",
       "\" style=\"fill:none;stroke:#ff0000;stroke-dasharray:5.55,2.4;stroke-dashoffset:0;stroke-width:1.5;\"/>\n",
       "   </g>\n",
       "   <g id=\"LineCollection_8\">\n",
       "    <path clip-path=\"url(#pe91304417a)\" d=\"M 310.323384 370.931168 \n",
       "L 431.761124 370.931168 \n",
       "\" style=\"fill:none;stroke:#ff0000;stroke-dasharray:5.55,2.4;stroke-dashoffset:0;stroke-width:1.5;\"/>\n",
       "   </g>\n",
       "   <g id=\"LineCollection_9\">\n",
       "    <path clip-path=\"url(#pe91304417a)\" d=\"M 431.761124 407.860516 \n",
       "L 553.198864 407.860516 \n",
       "\" style=\"fill:none;stroke:#ff0000;stroke-dasharray:5.55,2.4;stroke-dashoffset:0;stroke-width:1.5;\"/>\n",
       "   </g>\n",
       "   <g id=\"line2d_40\">\n",
       "    <path clip-path=\"url(#pe91304417a)\" d=\"M 46.792438 395.789245 \n",
       "L 51.88013 400.274183 \n",
       "L 56.967823 399.207242 \n",
       "L 62.055515 398.601244 \n",
       "L 67.143208 398.214653 \n",
       "L 72.2309 398.221043 \n",
       "L 77.318593 400.014898 \n",
       "L 82.406286 396.422112 \n",
       "L 87.493978 396.222003 \n",
       "L 92.581671 396.641875 \n",
       "L 97.669363 396.54226 \n",
       "L 102.757056 396.530287 \n",
       "L 107.844748 396.529644 \n",
       "L 112.932441 396.598776 \n",
       "L 118.020133 396.896671 \n",
       "L 123.107826 398.27977 \n",
       "L 128.195518 400.246139 \n",
       "L 133.283211 400.317579 \n",
       "L 138.370904 400.317579 \n",
       "L 143.458596 400.317579 \n",
       "L 148.546289 400.317579 \n",
       "L 153.633981 400.317579 \n",
       "L 158.721674 400.318639 \n",
       "L 163.809366 400.323874 \n",
       "L 168.897059 400.63282 \n",
       "L 173.984751 402.992812 \n",
       "L 179.072444 403.722321 \n",
       "L 184.160136 403.725092 \n",
       "L 189.247829 403.725092 \n",
       "L 194.335522 403.725092 \n",
       "L 199.423214 403.725092 \n",
       "L 204.510907 403.725092 \n",
       "L 209.598599 403.725092 \n",
       "L 214.686292 403.725894 \n",
       "L 219.773984 403.936767 \n",
       "L 224.861677 402.990244 \n",
       "L 229.949369 402.826337 \n",
       "L 235.037062 402.825271 \n",
       "L 240.124755 402.825271 \n",
       "L 245.212447 402.825271 \n",
       "L 250.30014 402.825271 \n",
       "L 255.387832 402.825271 \n",
       "L 260.475525 402.825271 \n",
       "L 265.563217 402.822355 \n",
       "L 270.65091 402.372868 \n",
       "L 275.738602 400.166553 \n",
       "L 280.826295 399.548448 \n",
       "L 285.913987 399.363457 \n",
       "L 291.00168 399.360541 \n",
       "L 296.089373 399.360541 \n",
       "L 301.177065 399.360541 \n",
       "L 306.264758 399.355909 \n",
       "L 311.35245 399.317097 \n",
       "L 316.440143 399.143809 \n",
       "L 321.527835 397.082187 \n",
       "L 326.615528 387.559771 \n",
       "L 331.70322 387.52675 \n",
       "L 336.790913 387.52675 \n",
       "L 341.878605 387.52675 \n",
       "L 346.966298 387.52675 \n",
       "L 352.053991 387.52675 \n",
       "L 357.141683 387.52675 \n",
       "L 362.229376 387.52675 \n",
       "L 367.317068 387.527465 \n",
       "L 372.404761 387.710243 \n",
       "L 377.492453 391.385756 \n",
       "L 382.580146 391.376301 \n",
       "L 387.667838 391.376301 \n",
       "L 392.755531 391.376301 \n",
       "L 397.843223 391.376301 \n",
       "L 402.930916 391.376301 \n",
       "L 408.018609 391.376301 \n",
       "L 413.106301 391.376301 \n",
       "L 418.193994 391.376301 \n",
       "L 423.281686 394.734781 \n",
       "L 428.369379 409.735717 \n",
       "L 433.457071 409.796788 \n",
       "L 438.544764 409.796788 \n",
       "L 443.632456 409.796788 \n",
       "L 448.720149 409.796788 \n",
       "L 453.807841 409.796788 \n",
       "L 458.895534 409.796788 \n",
       "L 463.983227 409.796788 \n",
       "L 469.070919 409.798117 \n",
       "L 474.158612 411.419118 \n",
       "L 479.246304 414.095703 \n",
       "L 484.333997 414.095703 \n",
       "L 489.421689 414.095703 \n",
       "L 494.509382 414.095703 \n",
       "L 499.597074 414.095703 \n",
       "L 504.684767 414.095703 \n",
       "L 509.77246 414.095703 \n",
       "L 514.860152 414.095703 \n",
       "L 519.947845 414.095703 \n",
       "L 525.035537 414.033023 \n",
       "L 530.12323 412.741187 \n",
       "L 535.210922 412.741187 \n",
       "L 540.298615 412.741187 \n",
       "L 545.386307 412.741187 \n",
       "L 550.474 412.987114 \n",
       "\" style=\"fill:none;stroke:#1f77b4;stroke-linecap:square;stroke-width:1.5;\"/>\n",
       "   </g>\n",
       "   <g id=\"patch_18\">\n",
       "    <path d=\"M 20.5625 430.018125 \n",
       "L 20.5625 341.38769 \n",
       "\" style=\"fill:none;stroke:#000000;stroke-linecap:square;stroke-linejoin:miter;stroke-width:0.8;\"/>\n",
       "   </g>\n",
       "   <g id=\"patch_19\">\n",
       "    <path d=\"M 578.5625 430.018125 \n",
       "L 578.5625 341.38769 \n",
       "\" style=\"fill:none;stroke:#000000;stroke-linecap:square;stroke-linejoin:miter;stroke-width:0.8;\"/>\n",
       "   </g>\n",
       "   <g id=\"patch_20\">\n",
       "    <path d=\"M 20.5625 430.018125 \n",
       "L 578.5625 430.018125 \n",
       "\" style=\"fill:none;stroke:#000000;stroke-linecap:square;stroke-linejoin:miter;stroke-width:0.8;\"/>\n",
       "   </g>\n",
       "   <g id=\"patch_21\">\n",
       "    <path d=\"M 20.5625 341.38769 \n",
       "L 578.5625 341.38769 \n",
       "\" style=\"fill:none;stroke:#000000;stroke-linecap:square;stroke-linejoin:miter;stroke-width:0.8;\"/>\n",
       "   </g>\n",
       "   <g id=\"text_26\">\n",
       "    <!-- Zigzag -->\n",
       "    <g transform=\"translate(279.341563 335.38769)scale(0.12 -0.12)\">\n",
       "     <defs>\n",
       "      <path d=\"M 359 4666 \n",
       "L 4025 4666 \n",
       "L 4025 4184 \n",
       "L 1075 531 \n",
       "L 4097 531 \n",
       "L 4097 0 \n",
       "L 288 0 \n",
       "L 288 481 \n",
       "L 3238 4134 \n",
       "L 359 4134 \n",
       "L 359 4666 \n",
       "z\n",
       "\" id=\"DejaVuSans-5a\" transform=\"scale(0.015625)\"/>\n",
       "      <path d=\"M 2906 1791 \n",
       "Q 2906 2416 2648 2759 \n",
       "Q 2391 3103 1925 3103 \n",
       "Q 1463 3103 1205 2759 \n",
       "Q 947 2416 947 1791 \n",
       "Q 947 1169 1205 825 \n",
       "Q 1463 481 1925 481 \n",
       "Q 2391 481 2648 825 \n",
       "Q 2906 1169 2906 1791 \n",
       "z\n",
       "M 3481 434 \n",
       "Q 3481 -459 3084 -895 \n",
       "Q 2688 -1331 1869 -1331 \n",
       "Q 1566 -1331 1297 -1286 \n",
       "Q 1028 -1241 775 -1147 \n",
       "L 775 -588 \n",
       "Q 1028 -725 1275 -790 \n",
       "Q 1522 -856 1778 -856 \n",
       "Q 2344 -856 2625 -561 \n",
       "Q 2906 -266 2906 331 \n",
       "L 2906 616 \n",
       "Q 2728 306 2450 153 \n",
       "Q 2172 0 1784 0 \n",
       "Q 1141 0 747 490 \n",
       "Q 353 981 353 1791 \n",
       "Q 353 2603 747 3093 \n",
       "Q 1141 3584 1784 3584 \n",
       "Q 2172 3584 2450 3431 \n",
       "Q 2728 3278 2906 2969 \n",
       "L 2906 3500 \n",
       "L 3481 3500 \n",
       "L 3481 434 \n",
       "z\n",
       "\" id=\"DejaVuSans-67\" transform=\"scale(0.015625)\"/>\n",
       "      <path d=\"M 353 3500 \n",
       "L 3084 3500 \n",
       "L 3084 2975 \n",
       "L 922 459 \n",
       "L 3084 459 \n",
       "L 3084 0 \n",
       "L 275 0 \n",
       "L 275 525 \n",
       "L 2438 3041 \n",
       "L 353 3041 \n",
       "L 353 3500 \n",
       "z\n",
       "\" id=\"DejaVuSans-7a\" transform=\"scale(0.015625)\"/>\n",
       "     </defs>\n",
       "     <use xlink:href=\"#DejaVuSans-5a\"/>\n",
       "     <use x=\"68.505859\" xlink:href=\"#DejaVuSans-69\"/>\n",
       "     <use x=\"96.289062\" xlink:href=\"#DejaVuSans-67\"/>\n",
       "     <use x=\"159.765625\" xlink:href=\"#DejaVuSans-7a\"/>\n",
       "     <use x=\"212.255859\" xlink:href=\"#DejaVuSans-61\"/>\n",
       "     <use x=\"273.535156\" xlink:href=\"#DejaVuSans-67\"/>\n",
       "    </g>\n",
       "   </g>\n",
       "  </g>\n",
       " </g>\n",
       " <defs>\n",
       "  <clipPath id=\"peccbb590ba\">\n",
       "   <rect height=\"88.630435\" width=\"558\" x=\"20.5625\" y=\"22.318125\"/>\n",
       "  </clipPath>\n",
       "  <clipPath id=\"pd8ce54c713\">\n",
       "   <rect height=\"88.630435\" width=\"558\" x=\"20.5625\" y=\"128.674647\"/>\n",
       "  </clipPath>\n",
       "  <clipPath id=\"pbaee490619\">\n",
       "   <rect height=\"88.630435\" width=\"558\" x=\"20.5625\" y=\"235.031168\"/>\n",
       "  </clipPath>\n",
       "  <clipPath id=\"pe91304417a\">\n",
       "   <rect height=\"88.630435\" width=\"558\" x=\"20.5625\" y=\"341.38769\"/>\n",
       "  </clipPath>\n",
       " </defs>\n",
       "</svg>\n"
      ],
      "text/plain": [
       "<Figure size 720x540 with 4 Axes>"
      ]
     },
     "metadata": {
      "needs_background": "light"
     },
     "output_type": "display_data"
    },
    {
     "data": {
      "application/javascript": [
       "\n",
       "            setTimeout(function() {\n",
       "                var nbb_cell_id = 26;\n",
       "                var nbb_unformatted_code = \"fig, axs = plt.subplots(4, sharex=True)\\nmedian_median(res, data, axs[0], 10, \\\"constant\\\", 10)\\naxs[0].hlines(1.3, 0, 4, colors=\\\"r\\\", linestyles=\\\"dashed\\\")\\naxs[0].set_title(\\\"Constant\\\")\\n\\nmedian_median(res, data, axs[1], 10, \\\"decrease\\\", 10)\\naxs[1].hlines(2.25, 0, 1, colors=\\\"r\\\", linestyles=\\\"dashed\\\")\\naxs[1].hlines(0.75, 1, 4, colors=\\\"r\\\", linestyles=\\\"dashed\\\")\\naxs[1].set_title(\\\"Decrease\\\")\\n\\nmedian_median(res, data, axs[2], 10, \\\"increase\\\", 10)\\naxs[2].hlines(1, 0, 3, colors=\\\"r\\\", linestyles=\\\"dashed\\\")\\naxs[2].hlines(2.5, 3, 4, colors=\\\"r\\\", linestyles=\\\"dashed\\\")\\naxs[2].set_title(\\\"Increase\\\")\\n\\nmedian_median(res, data, axs[3], 10, \\\"zigzag\\\", 10)\\naxs[3].hlines(2, 0, 1, colors=\\\"r\\\", linestyles=\\\"dashed\\\")\\naxs[3].hlines(0.75, 1, 2, colors=\\\"r\\\", linestyles=\\\"dashed\\\")\\naxs[3].hlines(2, 2, 3, colors=\\\"r\\\", linestyles=\\\"dashed\\\")\\naxs[3].hlines(0.75, 3, 4, colors=\\\"r\\\", linestyles=\\\"dashed\\\")\\naxs[3].set_xlabel(\\\"Time\\\")\\naxs[3].set_title(\\\"Zigzag\\\")\\n\\nfig.set_size_inches(10, 7.5)\\n\\nfor ax in axs:\\n    ax.set_ylim(0, 3)\\n\\nfig.savefig(\\\"sims/figures/vbsky.pdf\\\", format=\\\"pdf\\\")\";\n",
       "                var nbb_formatted_code = \"fig, axs = plt.subplots(4, sharex=True)\\nmedian_median(res, data, axs[0], 10, \\\"constant\\\", 10)\\naxs[0].hlines(1.3, 0, 4, colors=\\\"r\\\", linestyles=\\\"dashed\\\")\\naxs[0].set_title(\\\"Constant\\\")\\n\\nmedian_median(res, data, axs[1], 10, \\\"decrease\\\", 10)\\naxs[1].hlines(2.25, 0, 1, colors=\\\"r\\\", linestyles=\\\"dashed\\\")\\naxs[1].hlines(0.75, 1, 4, colors=\\\"r\\\", linestyles=\\\"dashed\\\")\\naxs[1].set_title(\\\"Decrease\\\")\\n\\nmedian_median(res, data, axs[2], 10, \\\"increase\\\", 10)\\naxs[2].hlines(1, 0, 3, colors=\\\"r\\\", linestyles=\\\"dashed\\\")\\naxs[2].hlines(2.5, 3, 4, colors=\\\"r\\\", linestyles=\\\"dashed\\\")\\naxs[2].set_title(\\\"Increase\\\")\\n\\nmedian_median(res, data, axs[3], 10, \\\"zigzag\\\", 10)\\naxs[3].hlines(2, 0, 1, colors=\\\"r\\\", linestyles=\\\"dashed\\\")\\naxs[3].hlines(0.75, 1, 2, colors=\\\"r\\\", linestyles=\\\"dashed\\\")\\naxs[3].hlines(2, 2, 3, colors=\\\"r\\\", linestyles=\\\"dashed\\\")\\naxs[3].hlines(0.75, 3, 4, colors=\\\"r\\\", linestyles=\\\"dashed\\\")\\naxs[3].set_xlabel(\\\"Time\\\")\\naxs[3].set_title(\\\"Zigzag\\\")\\n\\nfig.set_size_inches(10, 7.5)\\n\\nfor ax in axs:\\n    ax.set_ylim(0, 3)\\n\\nfig.savefig(\\\"sims/figures/vbsky.pdf\\\", format=\\\"pdf\\\")\";\n",
       "                var nbb_cells = Jupyter.notebook.get_cells();\n",
       "                for (var i = 0; i < nbb_cells.length; ++i) {\n",
       "                    if (nbb_cells[i].input_prompt_number == nbb_cell_id) {\n",
       "                        if (nbb_cells[i].get_text() == nbb_unformatted_code) {\n",
       "                             nbb_cells[i].set_text(nbb_formatted_code);\n",
       "                        }\n",
       "                        break;\n",
       "                    }\n",
       "                }\n",
       "            }, 500);\n",
       "            "
      ],
      "text/plain": [
       "<IPython.core.display.Javascript object>"
      ]
     },
     "metadata": {},
     "output_type": "display_data"
    }
   ],
   "source": [
    "fig, axs = plt.subplots(4, sharex=True)\n",
    "median_median(res, data, axs[0], 10, \"constant\", 10)\n",
    "axs[0].hlines(1.3, 0, 4, colors=\"r\", linestyles=\"dashed\")\n",
    "axs[0].set_title(\"Constant\")\n",
    "\n",
    "median_median(res, data, axs[1], 10, \"decrease\", 10)\n",
    "axs[1].hlines(2.25, 0, 1, colors=\"r\", linestyles=\"dashed\")\n",
    "axs[1].hlines(0.75, 1, 4, colors=\"r\", linestyles=\"dashed\")\n",
    "axs[1].set_title(\"Decrease\")\n",
    "\n",
    "median_median(res, data, axs[2], 10, \"increase\", 10)\n",
    "axs[2].hlines(1, 0, 3, colors=\"r\", linestyles=\"dashed\")\n",
    "axs[2].hlines(2.5, 3, 4, colors=\"r\", linestyles=\"dashed\")\n",
    "axs[2].set_title(\"Increase\")\n",
    "\n",
    "median_median(res, data, axs[3], 10, \"zigzag\", 10)\n",
    "axs[3].hlines(2, 0, 1, colors=\"r\", linestyles=\"dashed\")\n",
    "axs[3].hlines(0.75, 1, 2, colors=\"r\", linestyles=\"dashed\")\n",
    "axs[3].hlines(2, 2, 3, colors=\"r\", linestyles=\"dashed\")\n",
    "axs[3].hlines(0.75, 3, 4, colors=\"r\", linestyles=\"dashed\")\n",
    "axs[3].set_xlabel(\"Time\")\n",
    "axs[3].set_title(\"Zigzag\")\n",
    "\n",
    "fig.set_size_inches(10, 7.5)\n",
    "\n",
    "for ax in axs:\n",
    "    ax.set_ylim(0, 3)\n",
    "\n",
    "fig.savefig(\"sims/figures/vbsky.pdf\", format=\"pdf\")"
   ]
  }
 ],
 "metadata": {
  "kernelspec": {
   "display_name": "Python 3 (ipykernel)",
   "language": "python",
   "name": "python3"
  },
  "language_info": {
   "codemirror_mode": {
    "name": "ipython",
    "version": 3
   },
   "file_extension": ".py",
   "mimetype": "text/x-python",
   "name": "python",
   "nbconvert_exporter": "python",
   "pygments_lexer": "ipython3",
   "version": "3.9.7"
  }
 },
 "nbformat": 4,
 "nbformat_minor": 5
}
